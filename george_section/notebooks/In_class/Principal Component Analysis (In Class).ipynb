{
 "cells": [
  {
   "cell_type": "markdown",
   "metadata": {},
   "source": [
    "# Unsupervised Learning with Principal Component Analysis"
   ]
  },
  {
   "cell_type": "markdown",
   "metadata": {},
   "source": [
    "**Goals:** \n",
    "\n",
    "- What is PCA (Principal Component Analysis)? How it works and how to use it.\n",
    "- Visualize and interpret PCA-transformed data\n",
    "- Work with PCA-transformed data for classification and clustering purposes\n"
   ]
  },
  {
   "cell_type": "code",
   "execution_count": null,
   "metadata": {
    "collapsed": true
   },
   "outputs": [],
   "source": []
  },
  {
   "cell_type": "code",
   "execution_count": null,
   "metadata": {
    "collapsed": true
   },
   "outputs": [],
   "source": []
  },
  {
   "cell_type": "code",
   "execution_count": null,
   "metadata": {
    "collapsed": true
   },
   "outputs": [],
   "source": []
  },
  {
   "cell_type": "code",
   "execution_count": null,
   "metadata": {
    "collapsed": true
   },
   "outputs": [],
   "source": []
  },
  {
   "cell_type": "markdown",
   "metadata": {},
   "source": [
    "## Image 1"
   ]
  },
  {
   "cell_type": "markdown",
   "metadata": {},
   "source": [
    "![a](images/pca_image.jpeg)"
   ]
  },
  {
   "cell_type": "code",
   "execution_count": null,
   "metadata": {
    "collapsed": true
   },
   "outputs": [],
   "source": []
  },
  {
   "cell_type": "code",
   "execution_count": null,
   "metadata": {
    "collapsed": true
   },
   "outputs": [],
   "source": []
  },
  {
   "cell_type": "markdown",
   "metadata": {},
   "source": [
    "## Image 2"
   ]
  },
  {
   "cell_type": "markdown",
   "metadata": {},
   "source": [
    "![we](images/pca_image_transformed.jpeg)"
   ]
  },
  {
   "cell_type": "code",
   "execution_count": null,
   "metadata": {
    "collapsed": true
   },
   "outputs": [],
   "source": []
  },
  {
   "cell_type": "code",
   "execution_count": null,
   "metadata": {
    "collapsed": true
   },
   "outputs": [],
   "source": []
  },
  {
   "cell_type": "code",
   "execution_count": null,
   "metadata": {
    "collapsed": true
   },
   "outputs": [],
   "source": []
  },
  {
   "cell_type": "markdown",
   "metadata": {},
   "source": [
    "**What is the difference between the two images???**"
   ]
  },
  {
   "cell_type": "code",
   "execution_count": null,
   "metadata": {
    "collapsed": true
   },
   "outputs": [],
   "source": []
  },
  {
   "cell_type": "code",
   "execution_count": null,
   "metadata": {
    "collapsed": true
   },
   "outputs": [],
   "source": []
  },
  {
   "cell_type": "code",
   "execution_count": null,
   "metadata": {
    "collapsed": true
   },
   "outputs": [],
   "source": []
  },
  {
   "cell_type": "code",
   "execution_count": null,
   "metadata": {
    "collapsed": true
   },
   "outputs": [],
   "source": []
  },
  {
   "cell_type": "code",
   "execution_count": null,
   "metadata": {
    "collapsed": true
   },
   "outputs": [],
   "source": []
  },
  {
   "cell_type": "code",
   "execution_count": null,
   "metadata": {
    "collapsed": true
   },
   "outputs": [],
   "source": []
  },
  {
   "cell_type": "markdown",
   "metadata": {},
   "source": [
    "**Answer:** The first image is the high-quality version and the second is the low quality. The first is 16MB and the second 1.2MB\n",
    "\n",
    "<br>\n",
    "\n",
    "Given that information, is it fair to say that these two images are effectively the same?"
   ]
  },
  {
   "cell_type": "code",
   "execution_count": null,
   "metadata": {
    "collapsed": true
   },
   "outputs": [],
   "source": []
  },
  {
   "cell_type": "code",
   "execution_count": null,
   "metadata": {
    "collapsed": true
   },
   "outputs": [],
   "source": []
  },
  {
   "cell_type": "code",
   "execution_count": null,
   "metadata": {
    "collapsed": true
   },
   "outputs": [],
   "source": []
  },
  {
   "cell_type": "code",
   "execution_count": null,
   "metadata": {
    "collapsed": true
   },
   "outputs": [],
   "source": []
  },
  {
   "cell_type": "markdown",
   "metadata": {},
   "source": [
    "## PCA (Principal Component Analysis)\n",
    "--- \n",
    "\n",
    "* Dimension Reductionality technique that when faced with a large set of correlated variables, allow us to summarize this set with a smaller number of representative variables that **collectively** explain most of the variability in the original set.\n",
    "* The quintessential \"dimensionality reduction\" algorithm, where _\"dimensionality reduction\"_ = process of combining or collapsing your existing features (columns in $X$) into new features that retain the signal in the original data in fewer variables while ideally reducing noise.\n",
    "* **PCA** is an unsupervised approach, since it involves only a set of features $X_1$, $X_2$, . . . , $X_p$, and no associated response $Y$ \n",
    "* **PCA** produces derived variables to use in supervised methods and is also a tool for data visualization. Imagine being able to visualize a 100-dimension dataset on a 2D scatter plot.\n",
    "\n",
    "- Like the two images above the PCA can transform data with 100 dimensions into 2 while retaining the \"essence\" of the original data. \n",
    "\n"
   ]
  },
  {
   "cell_type": "code",
   "execution_count": 1,
   "metadata": {
    "collapsed": true
   },
   "outputs": [],
   "source": [
    "# dimension reduction: reduce columns, but still retain the quality of the data set"
   ]
  },
  {
   "cell_type": "markdown",
   "metadata": {},
   "source": [
    "From [Sebastian Raschka](http://sebastianraschka.com/Articles/2015_pca_in_3_steps.html#introduction):\n",
    "\n",
    "\"The sheer size of data in the modern age is not only a challenge for computer hardware but also a main bottleneck for the performance of many machine learning algorithms. The main goal of a PCA analysis is to identify patterns in data; PCA aims to detect the correlation between variables. If a strong correlation between variables exists, the attempt to reduce the dimensionality only makes sense. In a nutshell, this is what PCA is all about: Finding the directions of maximum variance in high-dimensional data and project it onto a smaller dimensional subspace while retaining most of the information.\""
   ]
  },
  {
   "cell_type": "code",
   "execution_count": 3,
   "metadata": {
    "collapsed": true
   },
   "outputs": [],
   "source": [
    "# for example, if you have two highly correlated vars, you don't need both features"
   ]
  },
  {
   "cell_type": "code",
   "execution_count": null,
   "metadata": {
    "collapsed": true
   },
   "outputs": [],
   "source": []
  },
  {
   "cell_type": "code",
   "execution_count": null,
   "metadata": {
    "collapsed": true
   },
   "outputs": [],
   "source": []
  },
  {
   "cell_type": "code",
   "execution_count": null,
   "metadata": {
    "collapsed": true
   },
   "outputs": [],
   "source": []
  },
  {
   "cell_type": "markdown",
   "metadata": {},
   "source": [
    "* The idea is that each of the $n$ observations lives in $p$-dimensional space, but not all of these dimensions are equally interesting.\n",
    "* Each of the dimensions found by **PCA** is a linear combination of the $p$ features, so the first principal component of a set of features $X_1$, $X_2$, . . . , $X_p$ is the **normalized** linear combination of the features:\n",
    "$$Z_1 = φ_{11}X_1 +φ_{21}X_2 +...+φ_{p1}X_p$$\n",
    "that have the **largest variance**  \n",
    "The elements $φ_{11}$,...,$φ_{p1}$ are the loadings of the **first** PCA, **AND** together these loadings make up the principal component loading vector whose **SUM** is equal to **1**: $$φ_1 = (φ_{11}  φ_{21} ... φ_{p1})^T$$"
   ]
  },
  {
   "cell_type": "code",
   "execution_count": null,
   "metadata": {
    "collapsed": true
   },
   "outputs": [],
   "source": []
  },
  {
   "cell_type": "markdown",
   "metadata": {},
   "source": [
    "### The process\n",
    "---\n",
    "* Linearly transform an $𝑁$×$𝑑$ matrix $𝑋$ into an $𝑁$×$𝑚$ matrix $𝑌$\n",
    "    * Centralized the data (subtract the mean). \n",
    "    * Calculate the $𝑑$×$𝑑$ covariance matrix: $$𝐶 = \\frac1{N-1} X^T X$$\n",
    "        * $C_{ij}$ =  $\\frac1{N-1}$ $\\sum_{q=1}^N$ $X_{q,i}$ $X_{q,i}$ \n",
    "        * $C_{i,i}$ (diagonal) is the variance of variable $i$\n",
    "        * $C_{i,j}$ (off-diagonal) is the covariance between variables $i$ and $j$\n",
    "    * Calculate the **eigenvectors** of the covariance matrix\n",
    "         * An **eigenvector** specifies a direction through the original coordinate space. \n",
    "    * Select $m$ **eigenvectors** that correspond to the **largest $m$ eigenvalues** to be the new basis.\n",
    "         * The eigenvector with the highest correspoding **eigenvalue** is the first principal component.\n",
    "         * **Eigenvalues** indicate the amount of variance in the direction of it's corresponding eigenvector"
   ]
  },
  {
   "cell_type": "markdown",
   "metadata": {},
   "source": [
    "### Eigenvectors\n",
    "---\n",
    "* If $A$ is a **square matrix**, a non-zero vector **$v$** is an **eigenvector** of $A$ if there is a scalar $λ$ **(eigenvalue)** such that $$Av = λv$$\n",
    "\n",
    "* For example:\n",
    "$$ Av = \n",
    "\\left(\\begin{array}{cc} \n",
    "2 & 3\\\\\n",
    "2 & 1\n",
    "\\end{array}\\right) *\n",
    "\\left(\\begin{array}{cc} \n",
    "3 \\\\ \n",
    "2 \n",
    "\\end{array}\\right) = \n",
    "\\left(\\begin{array}{cc} \n",
    "12 \\\\\n",
    "8\n",
    "\\end{array}\\right) = \n",
    "4\n",
    "\\left(\\begin{array}{cc} \n",
    "3 \\\\\n",
    "2\n",
    "\\end{array}\\right)\n",
    "= λv\n",
    "$$ \n",
    "$~$\n",
    "* If you think of the squared matrix $A$ as a transformation matrix, then multiply it with the **eigenvector do not change its direction.**\n",
    "\n",
    "<a href = http://setosa.io/ev/eigenvectors-and-eigenvalues/> Please see Eigenvectors and Eigenvalues Visually </a>"
   ]
  },
  {
   "cell_type": "code",
   "execution_count": null,
   "metadata": {
    "collapsed": true
   },
   "outputs": [],
   "source": []
  },
  {
   "cell_type": "markdown",
   "metadata": {},
   "source": [
    "### Visualizing the principal components\n",
    "---\n",
    "\n",
    "![](https://snag.gy/ECsJye.jpg)\n",
    "*Image from Introduction to Statistical Learning*"
   ]
  },
  {
   "cell_type": "code",
   "execution_count": 4,
   "metadata": {
    "collapsed": true
   },
   "outputs": [],
   "source": [
    "# X axis explains more of the movements than the y axis"
   ]
  },
  {
   "cell_type": "code",
   "execution_count": null,
   "metadata": {
    "collapsed": true
   },
   "outputs": [],
   "source": []
  },
  {
   "cell_type": "code",
   "execution_count": null,
   "metadata": {
    "collapsed": true
   },
   "outputs": [],
   "source": []
  },
  {
   "cell_type": "code",
   "execution_count": null,
   "metadata": {
    "collapsed": true
   },
   "outputs": [],
   "source": []
  },
  {
   "cell_type": "code",
   "execution_count": null,
   "metadata": {
    "collapsed": true
   },
   "outputs": [],
   "source": []
  },
  {
   "cell_type": "code",
   "execution_count": null,
   "metadata": {
    "collapsed": true
   },
   "outputs": [],
   "source": []
  },
  {
   "cell_type": "code",
   "execution_count": null,
   "metadata": {
    "collapsed": true
   },
   "outputs": [],
   "source": []
  },
  {
   "cell_type": "code",
   "execution_count": null,
   "metadata": {
    "collapsed": true
   },
   "outputs": [],
   "source": []
  },
  {
   "cell_type": "markdown",
   "metadata": {},
   "source": [
    "### Summary\n",
    "---\n",
    "\n",
    "* What is a principal component? **Principal components are the vectors that define the new coordinate system for your data.** Transforming your original data columns onto the principal component axes constructs new variables that are optimized to explain as much variance as possible and to be independent (uncorrelated).\n",
    "\n",
    "* Creating these variables is a well-defined mathematical process, but in essence **each component is created as a weighted sum of your original columns, such that all components are orthogonal (perpendicular) to each other**.\n",
    "\n",
    "* Eigenvectors: The direction of the components\n",
    "\n",
    "* Eigenvalues: The lenght of the Eigenvectors, every eigenvector has an Eigenvalue. The magnitude of the Eigenvector encodes the proportion of total variance explained by a component. The whole variance is the same as the number of variables in the PCA. A value of 1 mean it explains as much variance as one variable. >1 means a component explains more variance than a single variable.\n",
    "\n",
    "* We can reduce the number of dimensions (remove bottom number of components) and lose the least possible amount of variance information in our data.\n",
    "* Since we are assuming our variables are interrelated (at least in the sense that they together explain a dependent variable), the information of interest should exist along directions with largest variance.\n",
    "* The directions of largest variance should have the highest Signal to Noise ratio.\n",
    "* Correlated predictor variables (also referred to as \"redundancy\" of information) are combined into independent variables. Our predictors from PCA are guaranteed to be independent.\n",
    "---\n",
    "![](https://snag.gy/0Hur9o.jpg)\n",
    "*Image from http://setosa.io/ev/principal-component-analysis/*"
   ]
  },
  {
   "cell_type": "code",
   "execution_count": null,
   "metadata": {
    "collapsed": true
   },
   "outputs": [],
   "source": []
  },
  {
   "cell_type": "code",
   "execution_count": null,
   "metadata": {
    "collapsed": true
   },
   "outputs": [],
   "source": []
  },
  {
   "cell_type": "markdown",
   "metadata": {},
   "source": [
    "## PCA Lesson Adapted from Sebastian Raschka"
   ]
  },
  {
   "cell_type": "code",
   "execution_count": 5,
   "metadata": {},
   "outputs": [
    {
     "name": "stderr",
     "output_type": "stream",
     "text": [
      "/anaconda2/lib/python2.7/site-packages/sklearn/cross_validation.py:41: DeprecationWarning: This module was deprecated in version 0.18 in favor of the model_selection module into which all the refactored classes and functions are moved. Also note that the interface of the new CV iterators are different from that of this module. This module will be removed in 0.20.\n",
      "  \"This module will be removed in 0.20.\", DeprecationWarning)\n"
     ]
    }
   ],
   "source": [
    "#Imports\n",
    "import matplotlib.pyplot as plt\n",
    "%matplotlib inline\n",
    "import numpy as np\n",
    "import pandas as pd\n",
    "import seaborn as sns\n",
    "from sklearn.decomposition import PCA\n",
    "from sklearn.linear_model import LogisticRegression\n",
    "from sklearn.metrics import accuracy_score, confusion_matrix, recall_score, precision_score\n",
    "from sklearn.cluster import KMeans\n",
    "from sklearn.preprocessing import StandardScaler\n",
    "from sklearn.cross_validation import train_test_split, cross_val_score\n",
    "from sklearn.datasets import load_digits\n",
    "\n",
    "plt.style.use('fivethirtyeight')"
   ]
  },
  {
   "cell_type": "markdown",
   "metadata": {},
   "source": [
    "We're going to do a walkthrough on this lesson adapted from [Sebastian Raschka](http://sebastianraschka.com/Articles/2015_pca_in_3_steps.html#introduction) on how to use PCA with the Iris dataset."
   ]
  },
  {
   "cell_type": "markdown",
   "metadata": {},
   "source": [
    "### 1. Standardize the data"
   ]
  },
  {
   "cell_type": "code",
   "execution_count": 6,
   "metadata": {
    "collapsed": true
   },
   "outputs": [],
   "source": [
    "#Load data and assign X and y\n",
    "\n",
    "iris = sns.load_dataset(\"iris\")\n",
    "X = iris.drop(\"species\", axis = 1)\n",
    "y = iris.species"
   ]
  },
  {
   "cell_type": "code",
   "execution_count": 7,
   "metadata": {
    "collapsed": true
   },
   "outputs": [],
   "source": [
    "#Standardize the data\n",
    "\n",
    "scaler = StandardScaler()\n",
    "\n",
    "Xs = scaler.fit_transform(X)"
   ]
  },
  {
   "cell_type": "code",
   "execution_count": null,
   "metadata": {
    "collapsed": true
   },
   "outputs": [],
   "source": []
  },
  {
   "cell_type": "code",
   "execution_count": null,
   "metadata": {
    "collapsed": true
   },
   "outputs": [],
   "source": []
  },
  {
   "cell_type": "markdown",
   "metadata": {},
   "source": [
    "### 2. Eigendecomposition - Computing Eigenvectors and Eigenvalues\n",
    "\n",
    "\"The eigenvectors and eigenvalues of a covariance (or correlation) matrix represent the “core” of a PCA: The eigenvectors (principal components) determine the directions of the new feature space, and the eigenvalues determine their magnitude. In other words, the eigenvalues explain the variance of the data along the new feature axes.\""
   ]
  },
  {
   "cell_type": "markdown",
   "metadata": {},
   "source": [
    "**Covariance Matrix**\n",
    "\"The classic approach to PCA is to perform the eigendecomposition on the covariance matrix Σ, which is a d×d matrix where each element represents the covariance between two features. The covariance between two features is calculated as follows:\""
   ]
  },
  {
   "cell_type": "markdown",
   "metadata": {},
   "source": [
    "\\begin{align}\n",
    "\\sigma_{jk} = \\frac{1}{n-1}\\sum_{i=1}^{N}\\left(  x_{ij}-\\bar{x}_j \\right)  \\left( x_{ik}-\\bar{x}_k \\right).\n",
    "\\end{align}"
   ]
  },
  {
   "cell_type": "markdown",
   "metadata": {},
   "source": [
    "We can summarize the calculation of the covariance matrix via the following matrix equation:"
   ]
  },
  {
   "cell_type": "markdown",
   "metadata": {},
   "source": [
    "\\begin{align}\n",
    "\\Sigma = \\frac{1}{n-1} \\left( (\\mathbf{X} - \\mathbf{\\bar{x}})^T\\;(\\mathbf{X} - \\mathbf{\\bar{x}}) \\right)\n",
    "\\end{align}"
   ]
  },
  {
   "cell_type": "markdown",
   "metadata": {},
   "source": [
    "Where x¯ is the mean vector \\begin{align}\\mathbf{\\bar{x}} = \\sum\\limits_{k=1}^n x_{i}.\\end{align}"
   ]
  },
  {
   "cell_type": "markdown",
   "metadata": {},
   "source": [
    "The mean vector is a d-dimensional vector where each value in this vector represents the sample mean of a feature column in the dataset."
   ]
  },
  {
   "cell_type": "code",
   "execution_count": 8,
   "metadata": {
    "collapsed": true
   },
   "outputs": [],
   "source": [
    "# eigenvector: direction of the features; eigenvalue: the magnitude"
   ]
  },
  {
   "cell_type": "code",
   "execution_count": 9,
   "metadata": {},
   "outputs": [
    {
     "data": {
      "text/plain": [
       "array([ -4.73695157e-16,  -7.81597009e-16,  -4.26325641e-16,\n",
       "        -4.73695157e-16])"
      ]
     },
     "execution_count": 9,
     "metadata": {},
     "output_type": "execute_result"
    }
   ],
   "source": [
    "#Use numpy \n",
    "\n",
    "mean_vec = np.mean(Xs, axis = 0)\n",
    "\n",
    "#The mean value of each column\n",
    "mean_vec"
   ]
  },
  {
   "cell_type": "code",
   "execution_count": 10,
   "metadata": {},
   "outputs": [
    {
     "data": {
      "text/plain": [
       "array([[ 1.00671141, -0.11835884,  0.87760447,  0.82343066],\n",
       "       [-0.11835884,  1.00671141, -0.43131554, -0.36858315],\n",
       "       [ 0.87760447, -0.43131554,  1.00671141,  0.96932762],\n",
       "       [ 0.82343066, -0.36858315,  0.96932762,  1.00671141]])"
      ]
     },
     "execution_count": 10,
     "metadata": {},
     "output_type": "execute_result"
    }
   ],
   "source": [
    "#Manually Calculate the covariance matrix\n",
    "cov_mat = (Xs - mean_vec).T.dot((Xs - mean_vec))/ (Xs.shape[0] - 1)\n",
    "\n",
    "cov_mat"
   ]
  },
  {
   "cell_type": "code",
   "execution_count": 11,
   "metadata": {},
   "outputs": [
    {
     "data": {
      "text/plain": [
       "array([[ 1.00671141, -0.11835884,  0.87760447,  0.82343066],\n",
       "       [-0.11835884,  1.00671141, -0.43131554, -0.36858315],\n",
       "       [ 0.87760447, -0.43131554,  1.00671141,  0.96932762],\n",
       "       [ 0.82343066, -0.36858315,  0.96932762,  1.00671141]])"
      ]
     },
     "execution_count": 11,
     "metadata": {},
     "output_type": "execute_result"
    }
   ],
   "source": [
    "#Use numpy\n",
    "cov_mat = np.cov(Xs.T)\n",
    "cov_mat"
   ]
  },
  {
   "cell_type": "code",
   "execution_count": 12,
   "metadata": {
    "collapsed": true
   },
   "outputs": [],
   "source": [
    "# the diagonal ones are close to 1 (if we do correlation matrix, they will be exactly 1)"
   ]
  },
  {
   "cell_type": "code",
   "execution_count": 13,
   "metadata": {},
   "outputs": [
    {
     "data": {
      "text/plain": [
       "array([ 2.93808505,  0.9201649 ,  0.14774182,  0.02085386])"
      ]
     },
     "execution_count": 13,
     "metadata": {},
     "output_type": "execute_result"
    }
   ],
   "source": [
    "#Derive eigenvalues and eigenvectors\n",
    "eig_vals, eig_vecs = np.linalg.eig(cov_mat)\n",
    "\n",
    "eig_vals"
   ]
  },
  {
   "cell_type": "code",
   "execution_count": 15,
   "metadata": {
    "collapsed": true
   },
   "outputs": [],
   "source": [
    "#2.93 means we get 2.93 feature's importance with the first feature"
   ]
  },
  {
   "cell_type": "code",
   "execution_count": 16,
   "metadata": {},
   "outputs": [
    {
     "data": {
      "text/plain": [
       "array([[ 0.52106591, -0.37741762, -0.71956635,  0.26128628],\n",
       "       [-0.26934744, -0.92329566,  0.24438178, -0.12350962],\n",
       "       [ 0.5804131 , -0.02449161,  0.14212637, -0.80144925],\n",
       "       [ 0.56485654, -0.06694199,  0.63427274,  0.52359713]])"
      ]
     },
     "execution_count": 16,
     "metadata": {},
     "output_type": "execute_result"
    }
   ],
   "source": [
    "eig_vecs"
   ]
  },
  {
   "cell_type": "markdown",
   "metadata": {},
   "source": [
    "**Correlation Matrix**\n",
    "\n",
    "\"Especially, in the field of \"Finance,\" the correlation matrix typically used instead of the covariance matrix. However, the eigendecomposition of the covariance matrix (if the input data was standardized) yields the same results as a eigendecomposition on the correlation matrix, since the correlation matrix can be understood as the normalized covariance matrix. Eigendecomposition of the standardized data based on the correlation matrix:\""
   ]
  },
  {
   "cell_type": "code",
   "execution_count": null,
   "metadata": {
    "collapsed": true
   },
   "outputs": [],
   "source": [
    "cor_mat1 = np.corrcoef(Xs.T)\n",
    "cor_mat1"
   ]
  },
  {
   "cell_type": "code",
   "execution_count": null,
   "metadata": {
    "collapsed": true
   },
   "outputs": [],
   "source": [
    "eig_vals, eig_vecs = np.linalg.eig(cor_mat1)"
   ]
  },
  {
   "cell_type": "code",
   "execution_count": null,
   "metadata": {
    "collapsed": true
   },
   "outputs": [],
   "source": [
    "#Eigenvectors\n",
    "eig_vecs"
   ]
  },
  {
   "cell_type": "code",
   "execution_count": null,
   "metadata": {
    "collapsed": true
   },
   "outputs": [],
   "source": [
    "eig_vals"
   ]
  },
  {
   "cell_type": "code",
   "execution_count": null,
   "metadata": {
    "collapsed": true
   },
   "outputs": [],
   "source": []
  },
  {
   "cell_type": "markdown",
   "metadata": {},
   "source": [
    "### 3. Selecting Principal Components"
   ]
  },
  {
   "cell_type": "markdown",
   "metadata": {},
   "source": [
    "\"The typical goal of a PCA is to reduce the dimensionality of the original feature space by projecting it onto a smaller subspace, where the eigenvectors will form the axes.\""
   ]
  },
  {
   "cell_type": "markdown",
   "metadata": {},
   "source": [
    "\"In order to decide which eigenvector(s) can dropped without losing too much information for the construction of lower-dimensional subspace, we need to inspect the corresponding eigenvalues: The eigenvectors with the lowest eigenvalues bear the least information about the distribution of the data; those are the ones can be dropped.\n",
    "In order to do so, the common approach is to rank the eigenvalues from highest to lowest in order choose the top `k` eigenvectors.\""
   ]
  },
  {
   "cell_type": "code",
   "execution_count": 17,
   "metadata": {
    "collapsed": true
   },
   "outputs": [],
   "source": [
    "# how many principal compnents do we want? we know we don't have to use all features... but how many?"
   ]
  },
  {
   "cell_type": "code",
   "execution_count": 18,
   "metadata": {},
   "outputs": [
    {
     "data": {
      "text/plain": [
       "[(2.9380850501999944,\n",
       "  array([ 0.52106591, -0.26934744,  0.5804131 ,  0.56485654])),\n",
       " (0.92016490416248786,\n",
       "  array([-0.37741762, -0.92329566, -0.02449161, -0.06694199])),\n",
       " (0.14774182104494807,\n",
       "  array([-0.71956635,  0.24438178,  0.14212637,  0.63427274])),\n",
       " (0.020853862176462054,\n",
       "  array([ 0.26128628, -0.12350962, -0.80144925,  0.52359713]))]"
      ]
     },
     "execution_count": 18,
     "metadata": {},
     "output_type": "execute_result"
    }
   ],
   "source": [
    "# Make a list of (eigenvalue, eigenvector) tuples\n",
    "eig_pairs = [(np.abs(eig_vals[i]), eig_vecs[:,i]) for i in range(len(eig_vals))]\n",
    "eig_pairs"
   ]
  },
  {
   "cell_type": "code",
   "execution_count": 19,
   "metadata": {
    "collapsed": true
   },
   "outputs": [],
   "source": [
    "# Sort the (eigenvalue, eigenvector) tuples from high to low\n",
    "eig_pairs.sort()\n",
    "eig_pairs.reverse()"
   ]
  },
  {
   "cell_type": "code",
   "execution_count": 20,
   "metadata": {},
   "outputs": [
    {
     "name": "stdout",
     "output_type": "stream",
     "text": [
      "Eigenvalues in descending order:\n",
      "2.9380850502\n",
      "0.920164904162\n",
      "0.147741821045\n",
      "0.0208538621765\n"
     ]
    }
   ],
   "source": [
    "# Visually confirm that the list is correctly sorted by decreasing eigenvalues\n",
    "print('Eigenvalues in descending order:')\n",
    "for i in eig_pairs:\n",
    "    print(i[0])"
   ]
  },
  {
   "cell_type": "markdown",
   "metadata": {},
   "source": [
    "After sorting the eigenpairs, the next question is \"how many principal components are we going to choose for our new feature subspace?\" A useful measure is the so-called \"explained variance,\" which can be calculated from the eigenvalues. The explained variance tells us how much information (variance) can be attributed to each of the principal components."
   ]
  },
  {
   "cell_type": "code",
   "execution_count": 21,
   "metadata": {},
   "outputs": [
    {
     "data": {
      "text/plain": [
       "array([ 72.96244541,  95.8132072 ,  99.48212909, 100.        ])"
      ]
     },
     "execution_count": 21,
     "metadata": {},
     "output_type": "execute_result"
    }
   ],
   "source": [
    "tot = sum(eig_vals)\n",
    "var_exp = [(i / tot)*100 for i in sorted(eig_vals, reverse=True)]\n",
    "cum_var_exp = np.cumsum(var_exp)\n",
    "\n",
    "cum_var_exp"
   ]
  },
  {
   "cell_type": "code",
   "execution_count": 22,
   "metadata": {
    "collapsed": true
   },
   "outputs": [],
   "source": [
    "# the first principal component explains 72% of the variance, first two explains 95%,...etc"
   ]
  },
  {
   "cell_type": "code",
   "execution_count": 23,
   "metadata": {},
   "outputs": [
    {
     "data": {
      "image/png": "[encoded data removed]",
      "text/plain": [
       "<matplotlib.figure.Figure at 0x1a0d87c590>"
      ]
     },
     "metadata": {},
     "output_type": "display_data"
    }
   ],
   "source": [
    "#Plotting variance explained and cumulative variance explained\n",
    "\n",
    "pc_list =[\"PC1\", \"PC2\", \"PC3\", \"PC4\"]\n",
    "plt.figure(figsize=(9, 7))\n",
    "plt.bar([1, 2, 3, 4], var_exp, tick_label= pc_list)\n",
    "plt.plot([1, 2, 3,4], cum_var_exp, c = \"r\")\n",
    "plt.title(\"Explained Variance by Different Principal Components\")\n",
    "plt.show()"
   ]
  },
  {
   "cell_type": "code",
   "execution_count": null,
   "metadata": {
    "collapsed": true
   },
   "outputs": [],
   "source": []
  },
  {
   "cell_type": "markdown",
   "metadata": {},
   "source": [
    "The plot above clearly shows that most of the variance (72.77% of the variance to be precise) can be explained by the first principal component alone. The second principal component still bears some information (23.03%) while the third and fourth principal components can safely be dropped without losing to much information. Together, the first two principal components contain 95.8% of the information."
   ]
  },
  {
   "cell_type": "markdown",
   "metadata": {},
   "source": [
    "It's about time to get to the really interesting part: The construction of the projection matrix that will be used to transform the Iris data onto the new feature subspace. Although, the name \"projection matrix\" has a nice ring to it, it is basically just a matrix of our concatenated top k eigenvectors.\n",
    "\n",
    "Here, we are reducing the 4-dimensional feature space to a 2-dimensional feature subspace, by choosing the \"top 2\" eigenvectors with the highest eigenvalues to construct our `d×k`-dimensional eigenvector matrix `W`."
   ]
  },
  {
   "cell_type": "code",
   "execution_count": 27,
   "metadata": {},
   "outputs": [
    {
     "data": {
      "text/plain": [
       "array([[ 0.52106591, -0.37741762],\n",
       "       [-0.26934744, -0.92329566],\n",
       "       [ 0.5804131 , -0.02449161],\n",
       "       [ 0.56485654, -0.06694199]])"
      ]
     },
     "execution_count": 27,
     "metadata": {},
     "output_type": "execute_result"
    }
   ],
   "source": [
    "matrix_w = np.hstack((eig_pairs[0][1].reshape(4,1), \n",
    "                      eig_pairs[1][1].reshape(4,1)))\n",
    "\n",
    "matrix_w"
   ]
  },
  {
   "cell_type": "code",
   "execution_count": null,
   "metadata": {
    "collapsed": true
   },
   "outputs": [],
   "source": []
  },
  {
   "cell_type": "markdown",
   "metadata": {},
   "source": [
    "### 4. Projection Onto the New Feature Space\n",
    "\n",
    "In this last step we will use the 4×2-dimensional projection matrix `W` to transform our samples onto the new subspace via the equation\n",
    "`Y=X×W`, where `Y` is a 150×2 matrix of our transformed samples."
   ]
  },
  {
   "cell_type": "code",
   "execution_count": null,
   "metadata": {
    "collapsed": true
   },
   "outputs": [],
   "source": []
  },
  {
   "cell_type": "code",
   "execution_count": 28,
   "metadata": {},
   "outputs": [
    {
     "data": {
      "text/plain": [
       "array([[-2.26470281, -0.4800266 ],\n",
       "       [-2.08096115,  0.67413356],\n",
       "       [-2.36422905,  0.34190802],\n",
       "       [-2.29938422,  0.59739451],\n",
       "       [-2.38984217, -0.64683538],\n",
       "       [-2.07563095, -1.48917752],\n",
       "       [-2.44402884, -0.0476442 ],\n",
       "       [-2.23284716, -0.22314807],\n",
       "       [-2.33464048,  1.11532768],\n",
       "       [-2.18432817,  0.46901356],\n",
       "       [-2.1663101 , -1.04369065],\n",
       "       [-2.32613087, -0.13307834],\n",
       "       [-2.2184509 ,  0.72867617],\n",
       "       [-2.6331007 ,  0.96150673],\n",
       "       [-2.1987406 , -1.86005711],\n",
       "       [-2.26221453, -2.68628449],\n",
       "       [-2.2075877 , -1.48360936],\n",
       "       [-2.19034951, -0.48883832],\n",
       "       [-1.898572  , -1.40501879],\n",
       "       [-2.34336905, -1.12784938],\n",
       "       [-1.914323  , -0.40885571],\n",
       "       [-2.20701284, -0.92412143],\n",
       "       [-2.7743447 , -0.45834367],\n",
       "       [-1.81866953, -0.08555853],\n",
       "       [-2.22716331, -0.13725446],\n",
       "       [-1.95184633,  0.62561859],\n",
       "       [-2.05115137, -0.24216355],\n",
       "       [-2.16857717, -0.52714953],\n",
       "       [-2.13956345, -0.31321781],\n",
       "       [-2.26526149,  0.3377319 ],\n",
       "       [-2.14012214,  0.50454069],\n",
       "       [-1.83159477, -0.42369507],\n",
       "       [-2.61494794, -1.79357586],\n",
       "       [-2.44617739, -2.15072788],\n",
       "       [-2.10997488,  0.46020184],\n",
       "       [-2.2078089 ,  0.2061074 ],\n",
       "       [-2.04514621, -0.66155811],\n",
       "       [-2.52733191, -0.59229277],\n",
       "       [-2.42963258,  0.90418004],\n",
       "       [-2.16971071, -0.26887896],\n",
       "       [-2.28647514, -0.44171539],\n",
       "       [-1.85812246,  2.33741516],\n",
       "       [-2.5536384 ,  0.47910069],\n",
       "       [-1.96444768, -0.47232667],\n",
       "       [-2.13705901, -1.14222926],\n",
       "       [-2.0697443 ,  0.71105273],\n",
       "       [-2.38473317, -1.1204297 ],\n",
       "       [-2.39437631,  0.38624687],\n",
       "       [-2.22944655, -0.99795976],\n",
       "       [-2.20383344, -0.00921636],\n",
       "       [ 1.10178118, -0.86297242],\n",
       "       [ 0.73133743, -0.59461473],\n",
       "       [ 1.24097932, -0.61629765],\n",
       "       [ 0.40748306,  1.75440399],\n",
       "       [ 1.0754747 ,  0.20842105],\n",
       "       [ 0.38868734,  0.59328364],\n",
       "       [ 0.74652974, -0.77301931],\n",
       "       [-0.48732274,  1.85242909],\n",
       "       [ 0.92790164, -0.03222608],\n",
       "       [ 0.01142619,  1.03401828],\n",
       "       [-0.11019628,  2.65407282],\n",
       "       [ 0.44069345,  0.06329519],\n",
       "       [ 0.56210831,  1.76472438],\n",
       "       [ 0.71956189,  0.18622461],\n",
       "       [-0.0333547 ,  0.43900321],\n",
       "       [ 0.87540719, -0.50906396],\n",
       "       [ 0.35025167,  0.19631173],\n",
       "       [ 0.15881005,  0.79209574],\n",
       "       [ 1.22509363,  1.6222438 ],\n",
       "       [ 0.1649179 ,  1.30260923],\n",
       "       [ 0.73768265, -0.39657156],\n",
       "       [ 0.47628719,  0.41732028],\n",
       "       [ 1.2341781 ,  0.93332573],\n",
       "       [ 0.6328582 ,  0.41638772],\n",
       "       [ 0.70266118,  0.06341182],\n",
       "       [ 0.87427365, -0.25079339],\n",
       "       [ 1.25650912,  0.07725602],\n",
       "       [ 1.35840512, -0.33131168],\n",
       "       [ 0.66480037,  0.22592785],\n",
       "       [-0.04025861,  1.05871855],\n",
       "       [ 0.13079518,  1.56227183],\n",
       "       [ 0.02345269,  1.57247559],\n",
       "       [ 0.24153827,  0.77725638],\n",
       "       [ 1.06109461,  0.63384324],\n",
       "       [ 0.22397877,  0.28777351],\n",
       "       [ 0.42913912, -0.84558224],\n",
       "       [ 1.04872805, -0.5220518 ],\n",
       "       [ 1.04453138,  1.38298872],\n",
       "       [ 0.06958832,  0.21950333],\n",
       "       [ 0.28347724,  1.32932464],\n",
       "       [ 0.27907778,  1.12002852],\n",
       "       [ 0.62456979, -0.02492303],\n",
       "       [ 0.33653037,  0.98840402],\n",
       "       [-0.36218338,  2.01923787],\n",
       "       [ 0.28858624,  0.85573032],\n",
       "       [ 0.09136066,  0.18119213],\n",
       "       [ 0.22771687,  0.38492008],\n",
       "       [ 0.57638829,  0.1548736 ],\n",
       "       [-0.44766702,  1.54379203],\n",
       "       [ 0.25673059,  0.5988518 ],\n",
       "       [ 1.84456887, -0.87042131],\n",
       "       [ 1.15788161,  0.69886986],\n",
       "       [ 2.20526679, -0.56201048],\n",
       "       [ 1.44015066,  0.04698759],\n",
       "       [ 1.86781222, -0.29504482],\n",
       "       [ 2.75187334, -0.8004092 ],\n",
       "       [ 0.36701769,  1.56150289],\n",
       "       [ 2.30243944, -0.42006558],\n",
       "       [ 2.00668647,  0.71143865],\n",
       "       [ 2.25977735, -1.92101038],\n",
       "       [ 1.36417549, -0.69275645],\n",
       "       [ 1.60267867,  0.42170045],\n",
       "       [ 1.8839007 , -0.41924965],\n",
       "       [ 1.2601151 ,  1.16226042],\n",
       "       [ 1.4676452 ,  0.44227159],\n",
       "       [ 1.59007732, -0.67624481],\n",
       "       [ 1.47143146, -0.25562182],\n",
       "       [ 2.42632899, -2.55666125],\n",
       "       [ 3.31069558, -0.01778095],\n",
       "       [ 1.26376667,  1.70674538],\n",
       "       [ 2.0377163 , -0.91046741],\n",
       "       [ 0.97798073,  0.57176432],\n",
       "       [ 2.89765149, -0.41364106],\n",
       "       [ 1.33323218,  0.48181122],\n",
       "       [ 1.7007339 , -1.01392187],\n",
       "       [ 1.95432671, -1.0077776 ],\n",
       "       [ 1.17510363,  0.31639447],\n",
       "       [ 1.02095055, -0.06434603],\n",
       "       [ 1.78834992,  0.18736121],\n",
       "       [ 1.86364755, -0.56229073],\n",
       "       [ 2.43595373, -0.25928443],\n",
       "       [ 2.30492772, -2.62632347],\n",
       "       [ 1.86270322,  0.17854949],\n",
       "       [ 1.11414774,  0.29292262],\n",
       "       [ 1.2024733 ,  0.81131527],\n",
       "       [ 2.79877045, -0.85680333],\n",
       "       [ 1.57625591, -1.06858111],\n",
       "       [ 1.3462921 , -0.42243061],\n",
       "       [ 0.92482492, -0.0172231 ],\n",
       "       [ 1.85204505, -0.67612817],\n",
       "       [ 2.01481043, -0.61388564],\n",
       "       [ 1.90178409, -0.68957549],\n",
       "       [ 1.15788161,  0.69886986],\n",
       "       [ 2.04055823, -0.8675206 ],\n",
       "       [ 1.9981471 , -1.04916875],\n",
       "       [ 1.87050329, -0.38696608],\n",
       "       [ 1.56458048,  0.89668681],\n",
       "       [ 1.5211705 , -0.26906914],\n",
       "       [ 1.37278779, -1.01125442],\n",
       "       [ 0.96065603,  0.02433167]])"
      ]
     },
     "execution_count": 28,
     "metadata": {},
     "output_type": "execute_result"
    }
   ],
   "source": [
    "#Take the dot product of Xs and matrix_w\n",
    "Y = Xs.dot(matrix_w)\n",
    "Y"
   ]
  },
  {
   "cell_type": "code",
   "execution_count": 29,
   "metadata": {},
   "outputs": [
    {
     "ename": "TypeError",
     "evalue": "from_bounds() takes exactly 4 arguments (2 given)",
     "output_type": "error",
     "traceback": [
      "\u001b[0;31m---------------------------------------------------------------------------\u001b[0m",
      "\u001b[0;31mTypeError\u001b[0m                                 Traceback (most recent call last)",
      "\u001b[0;32m<ipython-input-29-758b112810b1>\u001b[0m in \u001b[0;36m<module>\u001b[0;34m()\u001b[0m\n\u001b[1;32m      2\u001b[0m \u001b[0;34m\u001b[0m\u001b[0m\n\u001b[1;32m      3\u001b[0m \u001b[0mcolors\u001b[0m \u001b[0;34m=\u001b[0m \u001b[0my\u001b[0m\u001b[0;34m.\u001b[0m\u001b[0mmap\u001b[0m\u001b[0;34m(\u001b[0m\u001b[0;34m{\u001b[0m\u001b[0;34m\"setosa\"\u001b[0m\u001b[0;34m:\u001b[0m \u001b[0;34m\"r\"\u001b[0m\u001b[0;34m,\u001b[0m \u001b[0;34m\"virginica\"\u001b[0m\u001b[0;34m:\u001b[0m \u001b[0;34m\"g\"\u001b[0m\u001b[0;34m,\u001b[0m \u001b[0;34m\"versicolor\"\u001b[0m\u001b[0;34m:\u001b[0m \u001b[0;34m\"b\"\u001b[0m\u001b[0;34m}\u001b[0m\u001b[0;34m)\u001b[0m\u001b[0;34m\u001b[0m\u001b[0m\n\u001b[0;32m----> 4\u001b[0;31m \u001b[0mplt\u001b[0m\u001b[0;34m.\u001b[0m\u001b[0mfigure\u001b[0m\u001b[0;34m(\u001b[0m\u001b[0mfigsize\u001b[0m\u001b[0;34m=\u001b[0m\u001b[0;34m(\u001b[0m\u001b[0;34m)\u001b[0m\u001b[0;34m)\u001b[0m\u001b[0;34m\u001b[0m\u001b[0m\n\u001b[0m\u001b[1;32m      5\u001b[0m \u001b[0mplt\u001b[0m\u001b[0;34m.\u001b[0m\u001b[0mscatter\u001b[0m\u001b[0;34m(\u001b[0m\u001b[0mY\u001b[0m\u001b[0;34m[\u001b[0m\u001b[0;34m:\u001b[0m\u001b[0;34m,\u001b[0m \u001b[0;36m0\u001b[0m\u001b[0;34m]\u001b[0m\u001b[0;34m,\u001b[0m \u001b[0mY\u001b[0m\u001b[0;34m[\u001b[0m\u001b[0;34m:\u001b[0m\u001b[0;34m,\u001b[0m \u001b[0;36m1\u001b[0m\u001b[0;34m]\u001b[0m\u001b[0;34m,\u001b[0m \u001b[0mc\u001b[0m  \u001b[0;34m=\u001b[0m \u001b[0mcolors\u001b[0m\u001b[0;34m)\u001b[0m\u001b[0;34m\u001b[0m\u001b[0m\n",
      "\u001b[0;32m/anaconda2/lib/python2.7/site-packages/matplotlib/pyplot.pyc\u001b[0m in \u001b[0;36mfigure\u001b[0;34m(num, figsize, dpi, facecolor, edgecolor, frameon, FigureClass, clear, **kwargs)\u001b[0m\n\u001b[1;32m    532\u001b[0m                                         \u001b[0mframeon\u001b[0m\u001b[0;34m=\u001b[0m\u001b[0mframeon\u001b[0m\u001b[0;34m,\u001b[0m\u001b[0;34m\u001b[0m\u001b[0m\n\u001b[1;32m    533\u001b[0m                                         \u001b[0mFigureClass\u001b[0m\u001b[0;34m=\u001b[0m\u001b[0mFigureClass\u001b[0m\u001b[0;34m,\u001b[0m\u001b[0;34m\u001b[0m\u001b[0m\n\u001b[0;32m--> 534\u001b[0;31m                                         **kwargs)\n\u001b[0m\u001b[1;32m    535\u001b[0m \u001b[0;34m\u001b[0m\u001b[0m\n\u001b[1;32m    536\u001b[0m         \u001b[0;32mif\u001b[0m \u001b[0mfigLabel\u001b[0m\u001b[0;34m:\u001b[0m\u001b[0;34m\u001b[0m\u001b[0m\n",
      "\u001b[0;32m/anaconda2/lib/python2.7/site-packages/matplotlib/backend_bases.pyc\u001b[0m in \u001b[0;36mnew_figure_manager\u001b[0;34m(cls, num, *args, **kwargs)\u001b[0m\n\u001b[1;32m    167\u001b[0m         \u001b[0;32mfrom\u001b[0m \u001b[0mmatplotlib\u001b[0m\u001b[0;34m.\u001b[0m\u001b[0mfigure\u001b[0m \u001b[0;32mimport\u001b[0m \u001b[0mFigure\u001b[0m\u001b[0;34m\u001b[0m\u001b[0m\n\u001b[1;32m    168\u001b[0m         \u001b[0mfig_cls\u001b[0m \u001b[0;34m=\u001b[0m \u001b[0mkwargs\u001b[0m\u001b[0;34m.\u001b[0m\u001b[0mpop\u001b[0m\u001b[0;34m(\u001b[0m\u001b[0;34m'FigureClass'\u001b[0m\u001b[0;34m,\u001b[0m \u001b[0mFigure\u001b[0m\u001b[0;34m)\u001b[0m\u001b[0;34m\u001b[0m\u001b[0m\n\u001b[0;32m--> 169\u001b[0;31m         \u001b[0mfig\u001b[0m \u001b[0;34m=\u001b[0m \u001b[0mfig_cls\u001b[0m\u001b[0;34m(\u001b[0m\u001b[0;34m*\u001b[0m\u001b[0margs\u001b[0m\u001b[0;34m,\u001b[0m \u001b[0;34m**\u001b[0m\u001b[0mkwargs\u001b[0m\u001b[0;34m)\u001b[0m\u001b[0;34m\u001b[0m\u001b[0m\n\u001b[0m\u001b[1;32m    170\u001b[0m         \u001b[0;32mreturn\u001b[0m \u001b[0mcls\u001b[0m\u001b[0;34m.\u001b[0m\u001b[0mnew_figure_manager_given_figure\u001b[0m\u001b[0;34m(\u001b[0m\u001b[0mnum\u001b[0m\u001b[0;34m,\u001b[0m \u001b[0mfig\u001b[0m\u001b[0;34m)\u001b[0m\u001b[0;34m\u001b[0m\u001b[0m\n\u001b[1;32m    171\u001b[0m \u001b[0;34m\u001b[0m\u001b[0m\n",
      "\u001b[0;32m/anaconda2/lib/python2.7/site-packages/matplotlib/figure.pyc\u001b[0m in \u001b[0;36m__init__\u001b[0;34m(self, figsize, dpi, facecolor, edgecolor, linewidth, frameon, subplotpars, tight_layout)\u001b[0m\n\u001b[1;32m    336\u001b[0m             raise ValueError('figure size must be finite not '\n\u001b[1;32m    337\u001b[0m                              '{}'.format(figsize))\n\u001b[0;32m--> 338\u001b[0;31m         \u001b[0mself\u001b[0m\u001b[0;34m.\u001b[0m\u001b[0mbbox_inches\u001b[0m \u001b[0;34m=\u001b[0m \u001b[0mBbox\u001b[0m\u001b[0;34m.\u001b[0m\u001b[0mfrom_bounds\u001b[0m\u001b[0;34m(\u001b[0m\u001b[0;36m0\u001b[0m\u001b[0;34m,\u001b[0m \u001b[0;36m0\u001b[0m\u001b[0;34m,\u001b[0m \u001b[0;34m*\u001b[0m\u001b[0mfigsize\u001b[0m\u001b[0;34m)\u001b[0m\u001b[0;34m\u001b[0m\u001b[0m\n\u001b[0m\u001b[1;32m    339\u001b[0m \u001b[0;34m\u001b[0m\u001b[0m\n\u001b[1;32m    340\u001b[0m         \u001b[0mself\u001b[0m\u001b[0;34m.\u001b[0m\u001b[0mdpi_scale_trans\u001b[0m \u001b[0;34m=\u001b[0m \u001b[0mAffine2D\u001b[0m\u001b[0;34m(\u001b[0m\u001b[0;34m)\u001b[0m\u001b[0;34m.\u001b[0m\u001b[0mscale\u001b[0m\u001b[0;34m(\u001b[0m\u001b[0mdpi\u001b[0m\u001b[0;34m,\u001b[0m \u001b[0mdpi\u001b[0m\u001b[0;34m)\u001b[0m\u001b[0;34m\u001b[0m\u001b[0m\n",
      "\u001b[0;31mTypeError\u001b[0m: from_bounds() takes exactly 4 arguments (2 given)"
     ]
    }
   ],
   "source": [
    "#Plot components with color-encoding\n",
    "\n",
    "colors = y.map({\"setosa\": \"r\", \"virginica\": \"g\", \"versicolor\": \"b\"})\n",
    "plt.figure(figsize=())\n",
    "plt.scatter(Y[:, 0], Y[:, 1], c  = colors)"
   ]
  },
  {
   "cell_type": "code",
   "execution_count": null,
   "metadata": {
    "collapsed": true
   },
   "outputs": [],
   "source": []
  },
  {
   "cell_type": "code",
   "execution_count": null,
   "metadata": {
    "collapsed": true
   },
   "outputs": [],
   "source": []
  },
  {
   "cell_type": "code",
   "execution_count": null,
   "metadata": {
    "collapsed": true
   },
   "outputs": [],
   "source": []
  },
  {
   "cell_type": "code",
   "execution_count": null,
   "metadata": {
    "collapsed": true
   },
   "outputs": [],
   "source": []
  },
  {
   "cell_type": "markdown",
   "metadata": {},
   "source": [
    "## PCA in Sklearn with Iris, the NBA, and Digits"
   ]
  },
  {
   "cell_type": "markdown",
   "metadata": {},
   "source": [
    "We're going to learn how to use PCA with the Iris, NBA 16/17 stats, and MNIST digits datasets."
   ]
  },
  {
   "cell_type": "code",
   "execution_count": null,
   "metadata": {
    "collapsed": true
   },
   "outputs": [],
   "source": []
  },
  {
   "cell_type": "markdown",
   "metadata": {},
   "source": [
    "### Iris\n",
    "\n",
    "Let's use the pairplot of iris to compare what that looks like to the two components pca scatter plot"
   ]
  },
  {
   "cell_type": "code",
   "execution_count": 30,
   "metadata": {},
   "outputs": [
    {
     "data": {
      "text/plain": [
       "<seaborn.axisgrid.PairGrid at 0x107a6d6d0>"
      ]
     },
     "execution_count": 30,
     "metadata": {},
     "output_type": "execute_result"
    },
    {
     "data": {
      "image/png": "[encoded data removed]",
      "text/plain": [
       "<matplotlib.figure.Figure at 0x107a6d690>"
      ]
     },
     "metadata": {},
     "output_type": "display_data"
    }
   ],
   "source": [
    "#Pairplot of iris data with species color-encoding\n",
    "# compare the transformed data with the original\n",
    "\n",
    "sns.pairplot(iris, hue = 'species', size = 2)\n"
   ]
  },
  {
   "cell_type": "code",
   "execution_count": 31,
   "metadata": {
    "collapsed": true
   },
   "outputs": [],
   "source": [
    "# looks very similar to the original"
   ]
  },
  {
   "cell_type": "markdown",
   "metadata": {},
   "source": [
    "As we know, we can't visualize a four-dimensional dataset, the pairplot gives use the next best thing, which is visualizing the four-dimensional dataset from as many different perspectives as possible.\n",
    "\n",
    "Now let's compare this pairplot with a scatter plot of the iris' data two principal components."
   ]
  },
  {
   "cell_type": "code",
   "execution_count": 88,
   "metadata": {
    "collapsed": true
   },
   "outputs": [],
   "source": [
    "#Initialize pca object with 2 components\n",
    "\n",
    "pca = PCA(n_components=2)\n",
    "\n",
    "#Fit and transform scaled iris data using pca\n",
    "iris_pca = pca.fit_transform(Xs)"
   ]
  },
  {
   "cell_type": "code",
   "execution_count": 89,
   "metadata": {},
   "outputs": [
    {
     "data": {
      "text/plain": [
       "array([ 0.52106591, -0.26934744,  0.5804131 ,  0.56485654])"
      ]
     },
     "execution_count": 89,
     "metadata": {},
     "output_type": "execute_result"
    }
   ],
   "source": [
    "# the components_ are the eigenvectors. For now, just know that we are using \n",
    "# them to transform the data.\n",
    "first_pc = pca.components_[0]\n",
    "\n",
    "second_pc = pca.components_[1]\n",
    "\n",
    "first_pc"
   ]
  },
  {
   "cell_type": "code",
   "execution_count": 34,
   "metadata": {},
   "outputs": [
    {
     "data": {
      "text/plain": [
       "array([ 2.93808505,  0.9201649 ])"
      ]
     },
     "execution_count": 34,
     "metadata": {},
     "output_type": "execute_result"
    }
   ],
   "source": [
    "#Explained variance\n",
    "pca.explained_variance_"
   ]
  },
  {
   "cell_type": "code",
   "execution_count": 35,
   "metadata": {},
   "outputs": [
    {
     "data": {
      "text/plain": [
       "array([ 0.72962445,  0.22850762])"
      ]
     },
     "execution_count": 35,
     "metadata": {},
     "output_type": "execute_result"
    }
   ],
   "source": [
    "#Explained variance ratio\n",
    "pca.explained_variance_ratio_"
   ]
  },
  {
   "cell_type": "code",
   "execution_count": 36,
   "metadata": {},
   "outputs": [
    {
     "data": {
      "text/plain": [
       "Text(0,0.5,u'Principal Component 2')"
      ]
     },
     "execution_count": 36,
     "metadata": {},
     "output_type": "execute_result"
    },
    {
     "data": {
      "image/png": "[encoded data removed]",
      "text/plain": [
       "<matplotlib.figure.Figure at 0x1a1690c390>"
      ]
     },
     "metadata": {},
     "output_type": "display_data"
    }
   ],
   "source": [
    "plt.scatter(iris_pca[:,0], iris_pca[:,1], c = colors)\n",
    "plt.xlabel(\"Principal Component 1\")\n",
    "plt.ylabel(\"Principal Component 2\")"
   ]
  },
  {
   "cell_type": "code",
   "execution_count": null,
   "metadata": {
    "collapsed": true
   },
   "outputs": [],
   "source": []
  },
  {
   "cell_type": "code",
   "execution_count": null,
   "metadata": {
    "collapsed": true
   },
   "outputs": [],
   "source": []
  },
  {
   "cell_type": "code",
   "execution_count": 37,
   "metadata": {},
   "outputs": [
    {
     "data": {
      "text/plain": [
       "<matplotlib.patches.FancyArrow at 0x1a16e87510>"
      ]
     },
     "execution_count": 37,
     "metadata": {},
     "output_type": "execute_result"
    },
    {
     "data": {
      "image/png": "[encoded data removed]",
      "text/plain": [
       "<matplotlib.figure.Figure at 0x1a16c30990>"
      ]
     },
     "metadata": {},
     "output_type": "display_data"
    }
   ],
   "source": [
    "# The points presented above indicates the direction of each PCA. lets plot them to see the direction of each \n",
    "\n",
    "x1 = pca.components_[0][0]\n",
    "x2 = pca.components_[0][1]\n",
    "\n",
    "y1 = pca.components_[1][0]\n",
    "y2 = pca.components_[1][1]\n",
    "\n",
    "plt.axis([-.5, 2, -0.9, 2])\n",
    "plt.arrow(0,0,x1,x2, color = 'black', width = .07)\n",
    "plt.arrow(0,0,y1,y2, color = 'brown', width = .07)"
   ]
  },
  {
   "cell_type": "markdown",
   "metadata": {},
   "source": [
    " The black arrow shows the direction of the first principal component. the graph above shows the projections of the data into those axes."
   ]
  },
  {
   "cell_type": "code",
   "execution_count": null,
   "metadata": {
    "collapsed": true
   },
   "outputs": [],
   "source": [
    "plt.figure(figsize=(9, 7))\n",
    "plt.scatter(iris_pca[:, 0], iris_pca[:, 1], c = colors, alpha=.4, s = 50)\n",
    "plt.xlabel(\"Principal Component 1\")\n",
    "plt.ylabel(\"Principal Component 2\")\n",
    "plt.arrow(0,0,x1,x2, color = 'brown', width = .1)\n",
    "plt.arrow(0,0,y1,y2, color = 'black', width = .1)\n"
   ]
  },
  {
   "cell_type": "code",
   "execution_count": null,
   "metadata": {
    "collapsed": true
   },
   "outputs": [],
   "source": []
  },
  {
   "cell_type": "markdown",
   "metadata": {},
   "source": [
    "### NBA Player data"
   ]
  },
  {
   "cell_type": "code",
   "execution_count": 47,
   "metadata": {},
   "outputs": [
    {
     "data": {
      "text/html": [
       "<div>\n",
       "<style>\n",
       "    .dataframe thead tr:only-child th {\n",
       "        text-align: right;\n",
       "    }\n",
       "\n",
       "    .dataframe thead th {\n",
       "        text-align: left;\n",
       "    }\n",
       "\n",
       "    .dataframe tbody tr th {\n",
       "        vertical-align: top;\n",
       "    }\n",
       "</style>\n",
       "<table border=\"1\" class=\"dataframe\">\n",
       "  <thead>\n",
       "    <tr style=\"text-align: right;\">\n",
       "      <th></th>\n",
       "      <th>GP</th>\n",
       "      <th>MIN</th>\n",
       "      <th>PTS</th>\n",
       "      <th>FGM</th>\n",
       "      <th>FGA</th>\n",
       "      <th>FG%</th>\n",
       "      <th>3PM</th>\n",
       "      <th>3PA</th>\n",
       "      <th>3P%</th>\n",
       "      <th>FTM</th>\n",
       "      <th>FTA</th>\n",
       "      <th>FT%</th>\n",
       "      <th>OREB</th>\n",
       "      <th>DREB</th>\n",
       "      <th>REB</th>\n",
       "      <th>AST</th>\n",
       "      <th>STL</th>\n",
       "      <th>BLK</th>\n",
       "      <th>TOV</th>\n",
       "      <th>EFF</th>\n",
       "    </tr>\n",
       "  </thead>\n",
       "  <tbody>\n",
       "    <tr>\n",
       "      <th>Russell Westbrook</th>\n",
       "      <td>81</td>\n",
       "      <td>34.6</td>\n",
       "      <td>31.6</td>\n",
       "      <td>10.2</td>\n",
       "      <td>24.0</td>\n",
       "      <td>42.5</td>\n",
       "      <td>2.5</td>\n",
       "      <td>7.2</td>\n",
       "      <td>34.3</td>\n",
       "      <td>8.8</td>\n",
       "      <td>10.4</td>\n",
       "      <td>84.5</td>\n",
       "      <td>1.7</td>\n",
       "      <td>9.0</td>\n",
       "      <td>10.7</td>\n",
       "      <td>10.4</td>\n",
       "      <td>1.6</td>\n",
       "      <td>0.4</td>\n",
       "      <td>5.4</td>\n",
       "      <td>33.8</td>\n",
       "    </tr>\n",
       "    <tr>\n",
       "      <th>James Harden</th>\n",
       "      <td>81</td>\n",
       "      <td>36.4</td>\n",
       "      <td>29.1</td>\n",
       "      <td>8.3</td>\n",
       "      <td>18.9</td>\n",
       "      <td>44.0</td>\n",
       "      <td>3.2</td>\n",
       "      <td>9.3</td>\n",
       "      <td>34.7</td>\n",
       "      <td>9.2</td>\n",
       "      <td>10.9</td>\n",
       "      <td>84.7</td>\n",
       "      <td>1.2</td>\n",
       "      <td>7.0</td>\n",
       "      <td>8.1</td>\n",
       "      <td>11.2</td>\n",
       "      <td>1.5</td>\n",
       "      <td>0.5</td>\n",
       "      <td>5.7</td>\n",
       "      <td>32.4</td>\n",
       "    </tr>\n",
       "    <tr>\n",
       "      <th>Isaiah Thomas</th>\n",
       "      <td>76</td>\n",
       "      <td>33.8</td>\n",
       "      <td>28.9</td>\n",
       "      <td>9.0</td>\n",
       "      <td>19.4</td>\n",
       "      <td>46.3</td>\n",
       "      <td>3.2</td>\n",
       "      <td>8.5</td>\n",
       "      <td>37.9</td>\n",
       "      <td>7.8</td>\n",
       "      <td>8.5</td>\n",
       "      <td>90.9</td>\n",
       "      <td>0.6</td>\n",
       "      <td>2.1</td>\n",
       "      <td>2.7</td>\n",
       "      <td>5.9</td>\n",
       "      <td>0.9</td>\n",
       "      <td>0.2</td>\n",
       "      <td>2.8</td>\n",
       "      <td>24.7</td>\n",
       "    </tr>\n",
       "    <tr>\n",
       "      <th>Anthony Davis</th>\n",
       "      <td>75</td>\n",
       "      <td>36.1</td>\n",
       "      <td>28.0</td>\n",
       "      <td>10.3</td>\n",
       "      <td>20.3</td>\n",
       "      <td>50.5</td>\n",
       "      <td>0.5</td>\n",
       "      <td>1.8</td>\n",
       "      <td>29.9</td>\n",
       "      <td>6.9</td>\n",
       "      <td>8.6</td>\n",
       "      <td>80.2</td>\n",
       "      <td>2.3</td>\n",
       "      <td>9.5</td>\n",
       "      <td>11.8</td>\n",
       "      <td>2.1</td>\n",
       "      <td>1.3</td>\n",
       "      <td>2.2</td>\n",
       "      <td>2.4</td>\n",
       "      <td>31.1</td>\n",
       "    </tr>\n",
       "    <tr>\n",
       "      <th>DeMar DeRozan</th>\n",
       "      <td>74</td>\n",
       "      <td>35.4</td>\n",
       "      <td>27.3</td>\n",
       "      <td>9.7</td>\n",
       "      <td>20.9</td>\n",
       "      <td>46.7</td>\n",
       "      <td>0.4</td>\n",
       "      <td>1.7</td>\n",
       "      <td>26.6</td>\n",
       "      <td>7.4</td>\n",
       "      <td>8.7</td>\n",
       "      <td>84.2</td>\n",
       "      <td>0.9</td>\n",
       "      <td>4.3</td>\n",
       "      <td>5.2</td>\n",
       "      <td>3.9</td>\n",
       "      <td>1.1</td>\n",
       "      <td>0.2</td>\n",
       "      <td>2.4</td>\n",
       "      <td>22.7</td>\n",
       "    </tr>\n",
       "  </tbody>\n",
       "</table>\n",
       "</div>"
      ],
      "text/plain": [
       "                   GP   MIN   PTS   FGM   FGA   FG%  3PM  3PA   3P%  FTM  \\\n",
       "Russell Westbrook  81  34.6  31.6  10.2  24.0  42.5  2.5  7.2  34.3  8.8   \n",
       "James Harden       81  36.4  29.1   8.3  18.9  44.0  3.2  9.3  34.7  9.2   \n",
       "Isaiah Thomas      76  33.8  28.9   9.0  19.4  46.3  3.2  8.5  37.9  7.8   \n",
       "Anthony Davis      75  36.1  28.0  10.3  20.3  50.5  0.5  1.8  29.9  6.9   \n",
       "DeMar DeRozan      74  35.4  27.3   9.7  20.9  46.7  0.4  1.7  26.6  7.4   \n",
       "\n",
       "                    FTA   FT%  OREB  DREB   REB   AST  STL  BLK  TOV   EFF  \n",
       "Russell Westbrook  10.4  84.5   1.7   9.0  10.7  10.4  1.6  0.4  5.4  33.8  \n",
       "James Harden       10.9  84.7   1.2   7.0   8.1  11.2  1.5  0.5  5.7  32.4  \n",
       "Isaiah Thomas       8.5  90.9   0.6   2.1   2.7   5.9  0.9  0.2  2.8  24.7  \n",
       "Anthony Davis       8.6  80.2   2.3   9.5  11.8   2.1  1.3  2.2  2.4  31.1  \n",
       "DeMar DeRozan       8.7  84.2   0.9   4.3   5.2   3.9  1.1  0.2  2.4  22.7  "
      ]
     },
     "execution_count": 47,
     "metadata": {},
     "output_type": "execute_result"
    }
   ],
   "source": [
    "#Load in the wine data\n",
    "\n",
    "\n",
    "nba = pd.read_csv('../../data/nba_player_data_1617.csv', index_col=[0])\n",
    "\n",
    "nba.head()"
   ]
  },
  {
   "cell_type": "code",
   "execution_count": 52,
   "metadata": {},
   "outputs": [
    {
     "data": {
      "text/html": [
       "<div>\n",
       "<style>\n",
       "    .dataframe thead tr:only-child th {\n",
       "        text-align: right;\n",
       "    }\n",
       "\n",
       "    .dataframe thead th {\n",
       "        text-align: left;\n",
       "    }\n",
       "\n",
       "    .dataframe tbody tr th {\n",
       "        vertical-align: top;\n",
       "    }\n",
       "</style>\n",
       "<table border=\"1\" class=\"dataframe\">\n",
       "  <thead>\n",
       "    <tr style=\"text-align: right;\">\n",
       "      <th></th>\n",
       "      <th>PTS</th>\n",
       "      <th>OREB</th>\n",
       "      <th>REB</th>\n",
       "      <th>AST</th>\n",
       "      <th>STL</th>\n",
       "      <th>BLK</th>\n",
       "      <th>TOV</th>\n",
       "      <th>MIN</th>\n",
       "      <th>EFF</th>\n",
       "    </tr>\n",
       "  </thead>\n",
       "  <tbody>\n",
       "    <tr>\n",
       "      <th>Russell Westbrook</th>\n",
       "      <td>31.6</td>\n",
       "      <td>1.7</td>\n",
       "      <td>10.7</td>\n",
       "      <td>10.4</td>\n",
       "      <td>1.6</td>\n",
       "      <td>0.4</td>\n",
       "      <td>5.4</td>\n",
       "      <td>34.6</td>\n",
       "      <td>33.8</td>\n",
       "    </tr>\n",
       "    <tr>\n",
       "      <th>James Harden</th>\n",
       "      <td>29.1</td>\n",
       "      <td>1.2</td>\n",
       "      <td>8.1</td>\n",
       "      <td>11.2</td>\n",
       "      <td>1.5</td>\n",
       "      <td>0.5</td>\n",
       "      <td>5.7</td>\n",
       "      <td>36.4</td>\n",
       "      <td>32.4</td>\n",
       "    </tr>\n",
       "    <tr>\n",
       "      <th>Isaiah Thomas</th>\n",
       "      <td>28.9</td>\n",
       "      <td>0.6</td>\n",
       "      <td>2.7</td>\n",
       "      <td>5.9</td>\n",
       "      <td>0.9</td>\n",
       "      <td>0.2</td>\n",
       "      <td>2.8</td>\n",
       "      <td>33.8</td>\n",
       "      <td>24.7</td>\n",
       "    </tr>\n",
       "    <tr>\n",
       "      <th>Anthony Davis</th>\n",
       "      <td>28.0</td>\n",
       "      <td>2.3</td>\n",
       "      <td>11.8</td>\n",
       "      <td>2.1</td>\n",
       "      <td>1.3</td>\n",
       "      <td>2.2</td>\n",
       "      <td>2.4</td>\n",
       "      <td>36.1</td>\n",
       "      <td>31.1</td>\n",
       "    </tr>\n",
       "    <tr>\n",
       "      <th>DeMar DeRozan</th>\n",
       "      <td>27.3</td>\n",
       "      <td>0.9</td>\n",
       "      <td>5.2</td>\n",
       "      <td>3.9</td>\n",
       "      <td>1.1</td>\n",
       "      <td>0.2</td>\n",
       "      <td>2.4</td>\n",
       "      <td>35.4</td>\n",
       "      <td>22.7</td>\n",
       "    </tr>\n",
       "  </tbody>\n",
       "</table>\n",
       "</div>"
      ],
      "text/plain": [
       "                    PTS  OREB   REB   AST  STL  BLK  TOV   MIN   EFF\n",
       "Russell Westbrook  31.6   1.7  10.7  10.4  1.6  0.4  5.4  34.6  33.8\n",
       "James Harden       29.1   1.2   8.1  11.2  1.5  0.5  5.7  36.4  32.4\n",
       "Isaiah Thomas      28.9   0.6   2.7   5.9  0.9  0.2  2.8  33.8  24.7\n",
       "Anthony Davis      28.0   2.3  11.8   2.1  1.3  2.2  2.4  36.1  31.1\n",
       "DeMar DeRozan      27.3   0.9   5.2   3.9  1.1  0.2  2.4  35.4  22.7"
      ]
     },
     "execution_count": 52,
     "metadata": {},
     "output_type": "execute_result"
    }
   ],
   "source": [
    "#Filter dataset\n",
    "\n",
    "cols = [\"PTS\", \"OREB\", \"REB\", \"AST\", \"STL\", \"BLK\", \"TOV\", \"MIN\", \"EFF\"]\n",
    "\n",
    "nba = nba[cols]\n",
    "\n",
    "nba.head()"
   ]
  },
  {
   "cell_type": "code",
   "execution_count": 54,
   "metadata": {},
   "outputs": [],
   "source": [
    "#rename columns\n",
    "\n",
    "new_cols = [\"points\", \"offensive_rebs\", \"total_rebounds\", \"assists\", \"steals\", \"blocks\",\n",
    "              \"turnovers\", \"minutes\", \"efficiency\"]\n",
    "\n",
    "nba.columns = new_cols"
   ]
  },
  {
   "cell_type": "markdown",
   "metadata": {},
   "source": [
    "First let's examine the correlations between variables"
   ]
  },
  {
   "cell_type": "code",
   "execution_count": 55,
   "metadata": {},
   "outputs": [
    {
     "data": {
      "text/plain": [
       "<matplotlib.axes._subplots.AxesSubplot at 0x1a176bfc10>"
      ]
     },
     "execution_count": 55,
     "metadata": {},
     "output_type": "execute_result"
    },
    {
     "data": {
      "image/png": "[encoded data removed]",
      "text/plain": [
       "<matplotlib.figure.Figure at 0x1a1770b150>"
      ]
     },
     "metadata": {},
     "output_type": "display_data"
    }
   ],
   "source": [
    "#Correlation heatmap\n",
    "sns.heatmap(nba.corr())\n"
   ]
  },
  {
   "cell_type": "code",
   "execution_count": null,
   "metadata": {
    "collapsed": true
   },
   "outputs": [],
   "source": []
  },
  {
   "cell_type": "markdown",
   "metadata": {},
   "source": [
    "What do you make of this plot?"
   ]
  },
  {
   "cell_type": "code",
   "execution_count": null,
   "metadata": {
    "collapsed": true
   },
   "outputs": [],
   "source": []
  },
  {
   "cell_type": "code",
   "execution_count": null,
   "metadata": {
    "collapsed": true
   },
   "outputs": [],
   "source": []
  },
  {
   "cell_type": "code",
   "execution_count": null,
   "metadata": {
    "collapsed": true
   },
   "outputs": [],
   "source": []
  },
  {
   "cell_type": "code",
   "execution_count": null,
   "metadata": {
    "collapsed": true
   },
   "outputs": [],
   "source": []
  },
  {
   "cell_type": "markdown",
   "metadata": {},
   "source": [
    "One benefit of PCA is that it can deal with multicollinearity pretty well because multicollinearity simply means that you have excess dimensions in your data."
   ]
  },
  {
   "cell_type": "code",
   "execution_count": null,
   "metadata": {
    "collapsed": true
   },
   "outputs": [],
   "source": []
  },
  {
   "cell_type": "code",
   "execution_count": null,
   "metadata": {
    "collapsed": true
   },
   "outputs": [],
   "source": []
  },
  {
   "cell_type": "code",
   "execution_count": null,
   "metadata": {
    "collapsed": true
   },
   "outputs": [],
   "source": []
  },
  {
   "cell_type": "markdown",
   "metadata": {},
   "source": [
    "Let's go ahead and transform our data with PCA. But first we have to standardize it."
   ]
  },
  {
   "cell_type": "code",
   "execution_count": null,
   "metadata": {
    "collapsed": true
   },
   "outputs": [],
   "source": []
  },
  {
   "cell_type": "code",
   "execution_count": null,
   "metadata": {
    "collapsed": true
   },
   "outputs": [],
   "source": []
  },
  {
   "cell_type": "code",
   "execution_count": 57,
   "metadata": {
    "collapsed": true
   },
   "outputs": [],
   "source": [
    "#Intialize scaler\n",
    "\n",
    "scaler =StandardScaler()\n",
    "\n",
    "#Fit and transform wine data using standard scaler\n",
    "nbas = scaler.fit_transform(nba)\n"
   ]
  },
  {
   "cell_type": "code",
   "execution_count": null,
   "metadata": {
    "collapsed": true
   },
   "outputs": [],
   "source": []
  },
  {
   "cell_type": "code",
   "execution_count": 58,
   "metadata": {},
   "outputs": [
    {
     "data": {
      "text/plain": [
       "9"
      ]
     },
     "execution_count": 58,
     "metadata": {},
     "output_type": "execute_result"
    }
   ],
   "source": [
    "#Intialize PCA object\n",
    "#We're deliberating leaving the n_components parameters alone\n",
    "pca = PCA()\n",
    "\n",
    "#pca = PCA(n_components=.8)\n",
    "# ^how many components will explain 80% of the variance?\n",
    "\n",
    "#Fit and transform wine_s use pca\n",
    "\n",
    "nba_pca = pca.fit_transform(nbas)\n",
    "\n",
    "#Number of components\n",
    "pca.n_components_"
   ]
  },
  {
   "cell_type": "code",
   "execution_count": 92,
   "metadata": {
    "scrolled": true
   },
   "outputs": [
    {
     "data": {
      "text/html": [
       "<div>\n",
       "<style>\n",
       "    .dataframe thead tr:only-child th {\n",
       "        text-align: right;\n",
       "    }\n",
       "\n",
       "    .dataframe thead th {\n",
       "        text-align: left;\n",
       "    }\n",
       "\n",
       "    .dataframe tbody tr th {\n",
       "        vertical-align: top;\n",
       "    }\n",
       "</style>\n",
       "<table border=\"1\" class=\"dataframe\">\n",
       "  <thead>\n",
       "    <tr style=\"text-align: right;\">\n",
       "      <th></th>\n",
       "      <th>0</th>\n",
       "      <th>1</th>\n",
       "      <th>2</th>\n",
       "      <th>3</th>\n",
       "      <th>4</th>\n",
       "      <th>5</th>\n",
       "      <th>6</th>\n",
       "      <th>7</th>\n",
       "      <th>8</th>\n",
       "    </tr>\n",
       "  </thead>\n",
       "  <tbody>\n",
       "    <tr>\n",
       "      <th>0</th>\n",
       "      <td>8.004364</td>\n",
       "      <td>-2.215297</td>\n",
       "      <td>-0.631168</td>\n",
       "      <td>2.570640</td>\n",
       "      <td>-0.832815</td>\n",
       "      <td>0.861232</td>\n",
       "      <td>-0.012735</td>\n",
       "      <td>-0.682167</td>\n",
       "      <td>0.175418</td>\n",
       "    </tr>\n",
       "    <tr>\n",
       "      <th>1</th>\n",
       "      <td>7.629799</td>\n",
       "      <td>-3.048582</td>\n",
       "      <td>-0.740552</td>\n",
       "      <td>2.757061</td>\n",
       "      <td>-0.016325</td>\n",
       "      <td>0.360879</td>\n",
       "      <td>-0.432160</td>\n",
       "      <td>-0.409178</td>\n",
       "      <td>-0.169816</td>\n",
       "    </tr>\n",
       "    <tr>\n",
       "      <th>2</th>\n",
       "      <td>3.298166</td>\n",
       "      <td>-2.498697</td>\n",
       "      <td>-1.888910</td>\n",
       "      <td>-0.020775</td>\n",
       "      <td>0.014464</td>\n",
       "      <td>0.541249</td>\n",
       "      <td>0.345678</td>\n",
       "      <td>0.766212</td>\n",
       "      <td>-0.124862</td>\n",
       "    </tr>\n",
       "    <tr>\n",
       "      <th>3</th>\n",
       "      <td>5.929081</td>\n",
       "      <td>3.087617</td>\n",
       "      <td>-0.326282</td>\n",
       "      <td>-0.909081</td>\n",
       "      <td>1.711595</td>\n",
       "      <td>1.016168</td>\n",
       "      <td>0.453399</td>\n",
       "      <td>-0.374552</td>\n",
       "      <td>0.082651</td>\n",
       "    </tr>\n",
       "    <tr>\n",
       "      <th>4</th>\n",
       "      <td>3.197175</td>\n",
       "      <td>-1.479483</td>\n",
       "      <td>-1.255637</td>\n",
       "      <td>-0.811884</td>\n",
       "      <td>-0.580111</td>\n",
       "      <td>0.662826</td>\n",
       "      <td>0.170836</td>\n",
       "      <td>0.149631</td>\n",
       "      <td>0.099025</td>\n",
       "    </tr>\n",
       "    <tr>\n",
       "      <th>5</th>\n",
       "      <td>3.509710</td>\n",
       "      <td>-1.942373</td>\n",
       "      <td>-1.654458</td>\n",
       "      <td>-0.135396</td>\n",
       "      <td>-0.065075</td>\n",
       "      <td>0.090488</td>\n",
       "      <td>0.525154</td>\n",
       "      <td>0.141672</td>\n",
       "      <td>0.056408</td>\n",
       "    </tr>\n",
       "    <tr>\n",
       "      <th>6</th>\n",
       "      <td>6.052989</td>\n",
       "      <td>0.929066</td>\n",
       "      <td>-0.286104</td>\n",
       "      <td>0.541484</td>\n",
       "      <td>0.348658</td>\n",
       "      <td>1.016217</td>\n",
       "      <td>-0.270027</td>\n",
       "      <td>-0.597407</td>\n",
       "      <td>0.139588</td>\n",
       "    </tr>\n",
       "    <tr>\n",
       "      <th>7</th>\n",
       "      <td>6.197909</td>\n",
       "      <td>-1.634232</td>\n",
       "      <td>-0.980742</td>\n",
       "      <td>1.438939</td>\n",
       "      <td>-0.119760</td>\n",
       "      <td>-0.131662</td>\n",
       "      <td>0.269997</td>\n",
       "      <td>-0.418019</td>\n",
       "      <td>-0.171555</td>\n",
       "    </tr>\n",
       "    <tr>\n",
       "      <th>8</th>\n",
       "      <td>3.883559</td>\n",
       "      <td>-0.874823</td>\n",
       "      <td>0.524147</td>\n",
       "      <td>-1.276483</td>\n",
       "      <td>0.113664</td>\n",
       "      <td>1.294268</td>\n",
       "      <td>0.544381</td>\n",
       "      <td>0.254411</td>\n",
       "      <td>-0.090993</td>\n",
       "    </tr>\n",
       "    <tr>\n",
       "      <th>9</th>\n",
       "      <td>4.263015</td>\n",
       "      <td>-2.720365</td>\n",
       "      <td>0.370648</td>\n",
       "      <td>-0.039457</td>\n",
       "      <td>-0.356173</td>\n",
       "      <td>0.919561</td>\n",
       "      <td>0.368042</td>\n",
       "      <td>0.353104</td>\n",
       "      <td>-0.100005</td>\n",
       "    </tr>\n",
       "    <tr>\n",
       "      <th>10</th>\n",
       "      <td>3.106937</td>\n",
       "      <td>-2.214955</td>\n",
       "      <td>-1.033713</td>\n",
       "      <td>-0.259253</td>\n",
       "      <td>0.050680</td>\n",
       "      <td>0.174730</td>\n",
       "      <td>0.283556</td>\n",
       "      <td>0.653267</td>\n",
       "      <td>-0.013730</td>\n",
       "    </tr>\n",
       "    <tr>\n",
       "      <th>11</th>\n",
       "      <td>5.393484</td>\n",
       "      <td>3.259246</td>\n",
       "      <td>-1.383431</td>\n",
       "      <td>0.162137</td>\n",
       "      <td>-0.718679</td>\n",
       "      <td>0.069154</td>\n",
       "      <td>0.109626</td>\n",
       "      <td>0.135430</td>\n",
       "      <td>-0.134124</td>\n",
       "    </tr>\n",
       "    <tr>\n",
       "      <th>12</th>\n",
       "      <td>4.520168</td>\n",
       "      <td>0.425981</td>\n",
       "      <td>-0.767194</td>\n",
       "      <td>-0.362370</td>\n",
       "      <td>2.010346</td>\n",
       "      <td>0.453590</td>\n",
       "      <td>1.294128</td>\n",
       "      <td>-0.599937</td>\n",
       "      <td>-0.170603</td>\n",
       "    </tr>\n",
       "    <tr>\n",
       "      <th>13</th>\n",
       "      <td>4.424979</td>\n",
       "      <td>-1.234481</td>\n",
       "      <td>0.932584</td>\n",
       "      <td>-0.864359</td>\n",
       "      <td>-0.791127</td>\n",
       "      <td>0.470224</td>\n",
       "      <td>0.704473</td>\n",
       "      <td>0.654253</td>\n",
       "      <td>0.041145</td>\n",
       "    </tr>\n",
       "    <tr>\n",
       "      <th>14</th>\n",
       "      <td>3.762937</td>\n",
       "      <td>-1.329569</td>\n",
       "      <td>0.050392</td>\n",
       "      <td>-0.892656</td>\n",
       "      <td>-0.353588</td>\n",
       "      <td>0.976068</td>\n",
       "      <td>-0.383521</td>\n",
       "      <td>-0.555538</td>\n",
       "      <td>-0.130690</td>\n",
       "    </tr>\n",
       "    <tr>\n",
       "      <th>15</th>\n",
       "      <td>2.306914</td>\n",
       "      <td>-0.845093</td>\n",
       "      <td>-1.041752</td>\n",
       "      <td>-1.191814</td>\n",
       "      <td>-0.282050</td>\n",
       "      <td>0.310331</td>\n",
       "      <td>-0.808114</td>\n",
       "      <td>0.470502</td>\n",
       "      <td>0.121948</td>\n",
       "    </tr>\n",
       "    <tr>\n",
       "      <th>16</th>\n",
       "      <td>2.676339</td>\n",
       "      <td>-1.951138</td>\n",
       "      <td>-0.780626</td>\n",
       "      <td>-0.440621</td>\n",
       "      <td>-0.004361</td>\n",
       "      <td>-0.013725</td>\n",
       "      <td>0.501572</td>\n",
       "      <td>0.375462</td>\n",
       "      <td>0.137001</td>\n",
       "    </tr>\n",
       "    <tr>\n",
       "      <th>17</th>\n",
       "      <td>5.736071</td>\n",
       "      <td>-3.583531</td>\n",
       "      <td>1.088850</td>\n",
       "      <td>1.377409</td>\n",
       "      <td>0.682887</td>\n",
       "      <td>-0.029589</td>\n",
       "      <td>-0.056973</td>\n",
       "      <td>0.546717</td>\n",
       "      <td>0.099962</td>\n",
       "    </tr>\n",
       "    <tr>\n",
       "      <th>18</th>\n",
       "      <td>2.143953</td>\n",
       "      <td>-1.602554</td>\n",
       "      <td>-0.831326</td>\n",
       "      <td>-1.054526</td>\n",
       "      <td>-0.068552</td>\n",
       "      <td>0.350656</td>\n",
       "      <td>0.002359</td>\n",
       "      <td>0.510597</td>\n",
       "      <td>-0.055641</td>\n",
       "    </tr>\n",
       "    <tr>\n",
       "      <th>19</th>\n",
       "      <td>2.263705</td>\n",
       "      <td>-1.147392</td>\n",
       "      <td>-1.186559</td>\n",
       "      <td>-0.790004</td>\n",
       "      <td>0.246735</td>\n",
       "      <td>0.143321</td>\n",
       "      <td>-0.041860</td>\n",
       "      <td>0.452689</td>\n",
       "      <td>-0.047498</td>\n",
       "    </tr>\n",
       "    <tr>\n",
       "      <th>20</th>\n",
       "      <td>5.703876</td>\n",
       "      <td>1.009396</td>\n",
       "      <td>0.678001</td>\n",
       "      <td>0.066821</td>\n",
       "      <td>1.894775</td>\n",
       "      <td>0.379389</td>\n",
       "      <td>0.276684</td>\n",
       "      <td>0.042077</td>\n",
       "      <td>-0.048106</td>\n",
       "    </tr>\n",
       "    <tr>\n",
       "      <th>21</th>\n",
       "      <td>2.240097</td>\n",
       "      <td>-0.521889</td>\n",
       "      <td>-1.304825</td>\n",
       "      <td>-0.729443</td>\n",
       "      <td>-0.026093</td>\n",
       "      <td>0.172441</td>\n",
       "      <td>-0.049358</td>\n",
       "      <td>-0.286586</td>\n",
       "      <td>0.157832</td>\n",
       "    </tr>\n",
       "    <tr>\n",
       "      <th>22</th>\n",
       "      <td>4.059639</td>\n",
       "      <td>-2.435324</td>\n",
       "      <td>0.021885</td>\n",
       "      <td>0.027263</td>\n",
       "      <td>-0.173647</td>\n",
       "      <td>-0.096155</td>\n",
       "      <td>0.211087</td>\n",
       "      <td>0.212228</td>\n",
       "      <td>-0.097458</td>\n",
       "    </tr>\n",
       "    <tr>\n",
       "      <th>23</th>\n",
       "      <td>1.461597</td>\n",
       "      <td>-0.739827</td>\n",
       "      <td>-1.314312</td>\n",
       "      <td>-1.334726</td>\n",
       "      <td>0.266757</td>\n",
       "      <td>0.282385</td>\n",
       "      <td>0.051131</td>\n",
       "      <td>0.226368</td>\n",
       "      <td>-0.002225</td>\n",
       "    </tr>\n",
       "    <tr>\n",
       "      <th>24</th>\n",
       "      <td>2.142059</td>\n",
       "      <td>-1.807956</td>\n",
       "      <td>-1.251458</td>\n",
       "      <td>-0.304779</td>\n",
       "      <td>0.071192</td>\n",
       "      <td>0.305850</td>\n",
       "      <td>-1.272051</td>\n",
       "      <td>0.072420</td>\n",
       "      <td>0.027776</td>\n",
       "    </tr>\n",
       "    <tr>\n",
       "      <th>25</th>\n",
       "      <td>2.312113</td>\n",
       "      <td>-1.069055</td>\n",
       "      <td>-0.911642</td>\n",
       "      <td>-0.862463</td>\n",
       "      <td>-0.324652</td>\n",
       "      <td>0.175315</td>\n",
       "      <td>0.366519</td>\n",
       "      <td>-0.158109</td>\n",
       "      <td>-0.030804</td>\n",
       "    </tr>\n",
       "    <tr>\n",
       "      <th>26</th>\n",
       "      <td>3.469961</td>\n",
       "      <td>-0.064826</td>\n",
       "      <td>-0.903544</td>\n",
       "      <td>0.237390</td>\n",
       "      <td>-0.931171</td>\n",
       "      <td>-0.166428</td>\n",
       "      <td>0.496067</td>\n",
       "      <td>-0.056480</td>\n",
       "      <td>0.066970</td>\n",
       "    </tr>\n",
       "    <tr>\n",
       "      <th>27</th>\n",
       "      <td>3.676443</td>\n",
       "      <td>-2.066441</td>\n",
       "      <td>0.000483</td>\n",
       "      <td>0.615146</td>\n",
       "      <td>0.273216</td>\n",
       "      <td>0.335520</td>\n",
       "      <td>-0.443043</td>\n",
       "      <td>0.013676</td>\n",
       "      <td>-0.033617</td>\n",
       "    </tr>\n",
       "    <tr>\n",
       "      <th>28</th>\n",
       "      <td>2.385997</td>\n",
       "      <td>1.448453</td>\n",
       "      <td>-1.396711</td>\n",
       "      <td>0.194956</td>\n",
       "      <td>1.830141</td>\n",
       "      <td>0.313548</td>\n",
       "      <td>-0.669585</td>\n",
       "      <td>0.434623</td>\n",
       "      <td>-0.019571</td>\n",
       "    </tr>\n",
       "    <tr>\n",
       "      <th>29</th>\n",
       "      <td>2.698237</td>\n",
       "      <td>-2.409535</td>\n",
       "      <td>-0.147176</td>\n",
       "      <td>-0.076451</td>\n",
       "      <td>0.186003</td>\n",
       "      <td>-0.011633</td>\n",
       "      <td>0.514162</td>\n",
       "      <td>0.280004</td>\n",
       "      <td>-0.048746</td>\n",
       "    </tr>\n",
       "    <tr>\n",
       "      <th>...</th>\n",
       "      <td>...</td>\n",
       "      <td>...</td>\n",
       "      <td>...</td>\n",
       "      <td>...</td>\n",
       "      <td>...</td>\n",
       "      <td>...</td>\n",
       "      <td>...</td>\n",
       "      <td>...</td>\n",
       "      <td>...</td>\n",
       "    </tr>\n",
       "    <tr>\n",
       "      <th>241</th>\n",
       "      <td>-2.098533</td>\n",
       "      <td>2.014892</td>\n",
       "      <td>-0.100496</td>\n",
       "      <td>0.568591</td>\n",
       "      <td>-0.015878</td>\n",
       "      <td>0.154456</td>\n",
       "      <td>0.314495</td>\n",
       "      <td>0.374856</td>\n",
       "      <td>0.063556</td>\n",
       "    </tr>\n",
       "    <tr>\n",
       "      <th>242</th>\n",
       "      <td>-2.328147</td>\n",
       "      <td>-0.940606</td>\n",
       "      <td>-0.165588</td>\n",
       "      <td>0.460224</td>\n",
       "      <td>0.083200</td>\n",
       "      <td>-0.073004</td>\n",
       "      <td>-0.227756</td>\n",
       "      <td>-0.362340</td>\n",
       "      <td>-0.046644</td>\n",
       "    </tr>\n",
       "    <tr>\n",
       "      <th>243</th>\n",
       "      <td>-2.379215</td>\n",
       "      <td>-0.386410</td>\n",
       "      <td>-0.029519</td>\n",
       "      <td>0.324570</td>\n",
       "      <td>0.306834</td>\n",
       "      <td>-0.058628</td>\n",
       "      <td>0.104791</td>\n",
       "      <td>0.036615</td>\n",
       "      <td>-0.089798</td>\n",
       "    </tr>\n",
       "    <tr>\n",
       "      <th>244</th>\n",
       "      <td>-1.126342</td>\n",
       "      <td>2.077458</td>\n",
       "      <td>0.224380</td>\n",
       "      <td>0.499876</td>\n",
       "      <td>0.007021</td>\n",
       "      <td>0.078907</td>\n",
       "      <td>0.209541</td>\n",
       "      <td>-0.259192</td>\n",
       "      <td>-0.090805</td>\n",
       "    </tr>\n",
       "    <tr>\n",
       "      <th>245</th>\n",
       "      <td>-2.965900</td>\n",
       "      <td>-0.796900</td>\n",
       "      <td>-0.227672</td>\n",
       "      <td>0.801466</td>\n",
       "      <td>0.136743</td>\n",
       "      <td>0.238266</td>\n",
       "      <td>-0.088165</td>\n",
       "      <td>0.127892</td>\n",
       "      <td>0.005959</td>\n",
       "    </tr>\n",
       "    <tr>\n",
       "      <th>246</th>\n",
       "      <td>-2.846473</td>\n",
       "      <td>0.281733</td>\n",
       "      <td>0.077890</td>\n",
       "      <td>0.268352</td>\n",
       "      <td>-0.211082</td>\n",
       "      <td>0.483695</td>\n",
       "      <td>0.260885</td>\n",
       "      <td>-0.086407</td>\n",
       "      <td>-0.012960</td>\n",
       "    </tr>\n",
       "    <tr>\n",
       "      <th>247</th>\n",
       "      <td>-2.847583</td>\n",
       "      <td>-0.359440</td>\n",
       "      <td>-0.000785</td>\n",
       "      <td>0.400436</td>\n",
       "      <td>0.141194</td>\n",
       "      <td>0.360156</td>\n",
       "      <td>-0.163697</td>\n",
       "      <td>-0.218511</td>\n",
       "      <td>0.062913</td>\n",
       "    </tr>\n",
       "    <tr>\n",
       "      <th>248</th>\n",
       "      <td>-2.264636</td>\n",
       "      <td>1.515195</td>\n",
       "      <td>-0.427057</td>\n",
       "      <td>0.656584</td>\n",
       "      <td>-0.190484</td>\n",
       "      <td>0.046545</td>\n",
       "      <td>0.018355</td>\n",
       "      <td>0.098764</td>\n",
       "      <td>-0.059721</td>\n",
       "    </tr>\n",
       "    <tr>\n",
       "      <th>249</th>\n",
       "      <td>-2.088208</td>\n",
       "      <td>1.495125</td>\n",
       "      <td>0.039144</td>\n",
       "      <td>0.544062</td>\n",
       "      <td>-0.864557</td>\n",
       "      <td>0.077775</td>\n",
       "      <td>0.207293</td>\n",
       "      <td>0.350295</td>\n",
       "      <td>-0.009816</td>\n",
       "    </tr>\n",
       "    <tr>\n",
       "      <th>250</th>\n",
       "      <td>-3.276377</td>\n",
       "      <td>-0.090455</td>\n",
       "      <td>-0.410625</td>\n",
       "      <td>0.025266</td>\n",
       "      <td>0.166472</td>\n",
       "      <td>0.105347</td>\n",
       "      <td>0.192128</td>\n",
       "      <td>-0.206090</td>\n",
       "      <td>0.000341</td>\n",
       "    </tr>\n",
       "    <tr>\n",
       "      <th>251</th>\n",
       "      <td>-1.926429</td>\n",
       "      <td>0.303065</td>\n",
       "      <td>0.416760</td>\n",
       "      <td>1.091307</td>\n",
       "      <td>0.882065</td>\n",
       "      <td>0.413649</td>\n",
       "      <td>0.189347</td>\n",
       "      <td>0.021774</td>\n",
       "      <td>-0.045659</td>\n",
       "    </tr>\n",
       "    <tr>\n",
       "      <th>252</th>\n",
       "      <td>-2.409854</td>\n",
       "      <td>-0.524329</td>\n",
       "      <td>-0.432135</td>\n",
       "      <td>0.909592</td>\n",
       "      <td>-0.142157</td>\n",
       "      <td>-0.295098</td>\n",
       "      <td>-0.242861</td>\n",
       "      <td>0.004727</td>\n",
       "      <td>-0.047747</td>\n",
       "    </tr>\n",
       "    <tr>\n",
       "      <th>253</th>\n",
       "      <td>-2.684503</td>\n",
       "      <td>-0.995548</td>\n",
       "      <td>0.390861</td>\n",
       "      <td>0.252393</td>\n",
       "      <td>-0.171186</td>\n",
       "      <td>0.175608</td>\n",
       "      <td>0.017101</td>\n",
       "      <td>0.061084</td>\n",
       "      <td>-0.043842</td>\n",
       "    </tr>\n",
       "    <tr>\n",
       "      <th>254</th>\n",
       "      <td>-2.665562</td>\n",
       "      <td>-0.437115</td>\n",
       "      <td>0.465572</td>\n",
       "      <td>0.167649</td>\n",
       "      <td>0.073453</td>\n",
       "      <td>0.348080</td>\n",
       "      <td>0.048464</td>\n",
       "      <td>-0.021562</td>\n",
       "      <td>-0.015134</td>\n",
       "    </tr>\n",
       "    <tr>\n",
       "      <th>255</th>\n",
       "      <td>-3.371705</td>\n",
       "      <td>0.086407</td>\n",
       "      <td>-0.280622</td>\n",
       "      <td>0.447999</td>\n",
       "      <td>0.618579</td>\n",
       "      <td>0.393712</td>\n",
       "      <td>0.202031</td>\n",
       "      <td>0.065946</td>\n",
       "      <td>-0.025237</td>\n",
       "    </tr>\n",
       "    <tr>\n",
       "      <th>256</th>\n",
       "      <td>-1.842523</td>\n",
       "      <td>1.546521</td>\n",
       "      <td>0.021928</td>\n",
       "      <td>0.622410</td>\n",
       "      <td>-0.664119</td>\n",
       "      <td>0.040826</td>\n",
       "      <td>-0.243420</td>\n",
       "      <td>0.020881</td>\n",
       "      <td>-0.029058</td>\n",
       "    </tr>\n",
       "    <tr>\n",
       "      <th>257</th>\n",
       "      <td>-2.306664</td>\n",
       "      <td>-0.301541</td>\n",
       "      <td>0.482228</td>\n",
       "      <td>0.200801</td>\n",
       "      <td>0.164883</td>\n",
       "      <td>0.105083</td>\n",
       "      <td>-0.198382</td>\n",
       "      <td>-0.106772</td>\n",
       "      <td>0.051318</td>\n",
       "    </tr>\n",
       "    <tr>\n",
       "      <th>258</th>\n",
       "      <td>-2.380850</td>\n",
       "      <td>0.094929</td>\n",
       "      <td>0.277426</td>\n",
       "      <td>-0.206987</td>\n",
       "      <td>-0.023598</td>\n",
       "      <td>-0.175126</td>\n",
       "      <td>-0.149525</td>\n",
       "      <td>-0.009011</td>\n",
       "      <td>-0.022315</td>\n",
       "    </tr>\n",
       "    <tr>\n",
       "      <th>259</th>\n",
       "      <td>-2.768117</td>\n",
       "      <td>-0.500279</td>\n",
       "      <td>0.263006</td>\n",
       "      <td>-0.135876</td>\n",
       "      <td>0.427688</td>\n",
       "      <td>-0.085938</td>\n",
       "      <td>0.109794</td>\n",
       "      <td>0.048924</td>\n",
       "      <td>-0.084894</td>\n",
       "    </tr>\n",
       "    <tr>\n",
       "      <th>260</th>\n",
       "      <td>-3.157306</td>\n",
       "      <td>-0.397297</td>\n",
       "      <td>0.112112</td>\n",
       "      <td>0.182735</td>\n",
       "      <td>0.208748</td>\n",
       "      <td>0.159862</td>\n",
       "      <td>0.123519</td>\n",
       "      <td>0.079385</td>\n",
       "      <td>-0.009927</td>\n",
       "    </tr>\n",
       "    <tr>\n",
       "      <th>261</th>\n",
       "      <td>-2.809622</td>\n",
       "      <td>0.465661</td>\n",
       "      <td>-0.237610</td>\n",
       "      <td>0.424665</td>\n",
       "      <td>-0.297132</td>\n",
       "      <td>-0.086094</td>\n",
       "      <td>0.236042</td>\n",
       "      <td>-0.173751</td>\n",
       "      <td>-0.010104</td>\n",
       "    </tr>\n",
       "    <tr>\n",
       "      <th>262</th>\n",
       "      <td>-1.854543</td>\n",
       "      <td>-0.694021</td>\n",
       "      <td>1.194192</td>\n",
       "      <td>0.392780</td>\n",
       "      <td>0.740738</td>\n",
       "      <td>0.229538</td>\n",
       "      <td>-0.121013</td>\n",
       "      <td>-0.061657</td>\n",
       "      <td>0.033871</td>\n",
       "    </tr>\n",
       "    <tr>\n",
       "      <th>263</th>\n",
       "      <td>-2.845386</td>\n",
       "      <td>-1.093432</td>\n",
       "      <td>0.810285</td>\n",
       "      <td>0.599245</td>\n",
       "      <td>0.158007</td>\n",
       "      <td>0.320033</td>\n",
       "      <td>0.482846</td>\n",
       "      <td>0.188699</td>\n",
       "      <td>0.028555</td>\n",
       "    </tr>\n",
       "    <tr>\n",
       "      <th>264</th>\n",
       "      <td>-2.595036</td>\n",
       "      <td>0.092337</td>\n",
       "      <td>0.676771</td>\n",
       "      <td>0.307094</td>\n",
       "      <td>0.312497</td>\n",
       "      <td>0.304392</td>\n",
       "      <td>0.370516</td>\n",
       "      <td>-0.138796</td>\n",
       "      <td>0.010618</td>\n",
       "    </tr>\n",
       "    <tr>\n",
       "      <th>265</th>\n",
       "      <td>-2.471673</td>\n",
       "      <td>1.712559</td>\n",
       "      <td>0.274827</td>\n",
       "      <td>0.696236</td>\n",
       "      <td>0.519295</td>\n",
       "      <td>0.352929</td>\n",
       "      <td>0.089212</td>\n",
       "      <td>0.014391</td>\n",
       "      <td>-0.071069</td>\n",
       "    </tr>\n",
       "    <tr>\n",
       "      <th>266</th>\n",
       "      <td>-2.629287</td>\n",
       "      <td>1.332201</td>\n",
       "      <td>0.054313</td>\n",
       "      <td>0.809470</td>\n",
       "      <td>-0.389681</td>\n",
       "      <td>-0.099306</td>\n",
       "      <td>0.063508</td>\n",
       "      <td>0.478277</td>\n",
       "      <td>0.024346</td>\n",
       "    </tr>\n",
       "    <tr>\n",
       "      <th>267</th>\n",
       "      <td>-3.183255</td>\n",
       "      <td>-0.668138</td>\n",
       "      <td>0.004964</td>\n",
       "      <td>0.645982</td>\n",
       "      <td>0.081047</td>\n",
       "      <td>-0.180255</td>\n",
       "      <td>0.035350</td>\n",
       "      <td>0.043512</td>\n",
       "      <td>0.062108</td>\n",
       "    </tr>\n",
       "    <tr>\n",
       "      <th>268</th>\n",
       "      <td>-3.435843</td>\n",
       "      <td>0.472759</td>\n",
       "      <td>0.142679</td>\n",
       "      <td>0.325446</td>\n",
       "      <td>0.388756</td>\n",
       "      <td>0.356003</td>\n",
       "      <td>0.297440</td>\n",
       "      <td>-0.244817</td>\n",
       "      <td>0.036686</td>\n",
       "    </tr>\n",
       "    <tr>\n",
       "      <th>269</th>\n",
       "      <td>-3.118253</td>\n",
       "      <td>-0.476529</td>\n",
       "      <td>0.892118</td>\n",
       "      <td>0.325340</td>\n",
       "      <td>0.165198</td>\n",
       "      <td>0.615207</td>\n",
       "      <td>-0.052877</td>\n",
       "      <td>-0.104069</td>\n",
       "      <td>-0.027300</td>\n",
       "    </tr>\n",
       "    <tr>\n",
       "      <th>270</th>\n",
       "      <td>-3.595854</td>\n",
       "      <td>0.750017</td>\n",
       "      <td>0.334456</td>\n",
       "      <td>0.757427</td>\n",
       "      <td>0.225416</td>\n",
       "      <td>0.546019</td>\n",
       "      <td>0.336245</td>\n",
       "      <td>0.088421</td>\n",
       "      <td>-0.012383</td>\n",
       "    </tr>\n",
       "  </tbody>\n",
       "</table>\n",
       "<p>271 rows × 9 columns</p>\n",
       "</div>"
      ],
      "text/plain": [
       "            0         1         2         3         4         5         6  \\\n",
       "0    8.004364 -2.215297 -0.631168  2.570640 -0.832815  0.861232 -0.012735   \n",
       "1    7.629799 -3.048582 -0.740552  2.757061 -0.016325  0.360879 -0.432160   \n",
       "2    3.298166 -2.498697 -1.888910 -0.020775  0.014464  0.541249  0.345678   \n",
       "3    5.929081  3.087617 -0.326282 -0.909081  1.711595  1.016168  0.453399   \n",
       "4    3.197175 -1.479483 -1.255637 -0.811884 -0.580111  0.662826  0.170836   \n",
       "5    3.509710 -1.942373 -1.654458 -0.135396 -0.065075  0.090488  0.525154   \n",
       "6    6.052989  0.929066 -0.286104  0.541484  0.348658  1.016217 -0.270027   \n",
       "7    6.197909 -1.634232 -0.980742  1.438939 -0.119760 -0.131662  0.269997   \n",
       "8    3.883559 -0.874823  0.524147 -1.276483  0.113664  1.294268  0.544381   \n",
       "9    4.263015 -2.720365  0.370648 -0.039457 -0.356173  0.919561  0.368042   \n",
       "10   3.106937 -2.214955 -1.033713 -0.259253  0.050680  0.174730  0.283556   \n",
       "11   5.393484  3.259246 -1.383431  0.162137 -0.718679  0.069154  0.109626   \n",
       "12   4.520168  0.425981 -0.767194 -0.362370  2.010346  0.453590  1.294128   \n",
       "13   4.424979 -1.234481  0.932584 -0.864359 -0.791127  0.470224  0.704473   \n",
       "14   3.762937 -1.329569  0.050392 -0.892656 -0.353588  0.976068 -0.383521   \n",
       "15   2.306914 -0.845093 -1.041752 -1.191814 -0.282050  0.310331 -0.808114   \n",
       "16   2.676339 -1.951138 -0.780626 -0.440621 -0.004361 -0.013725  0.501572   \n",
       "17   5.736071 -3.583531  1.088850  1.377409  0.682887 -0.029589 -0.056973   \n",
       "18   2.143953 -1.602554 -0.831326 -1.054526 -0.068552  0.350656  0.002359   \n",
       "19   2.263705 -1.147392 -1.186559 -0.790004  0.246735  0.143321 -0.041860   \n",
       "20   5.703876  1.009396  0.678001  0.066821  1.894775  0.379389  0.276684   \n",
       "21   2.240097 -0.521889 -1.304825 -0.729443 -0.026093  0.172441 -0.049358   \n",
       "22   4.059639 -2.435324  0.021885  0.027263 -0.173647 -0.096155  0.211087   \n",
       "23   1.461597 -0.739827 -1.314312 -1.334726  0.266757  0.282385  0.051131   \n",
       "24   2.142059 -1.807956 -1.251458 -0.304779  0.071192  0.305850 -1.272051   \n",
       "25   2.312113 -1.069055 -0.911642 -0.862463 -0.324652  0.175315  0.366519   \n",
       "26   3.469961 -0.064826 -0.903544  0.237390 -0.931171 -0.166428  0.496067   \n",
       "27   3.676443 -2.066441  0.000483  0.615146  0.273216  0.335520 -0.443043   \n",
       "28   2.385997  1.448453 -1.396711  0.194956  1.830141  0.313548 -0.669585   \n",
       "29   2.698237 -2.409535 -0.147176 -0.076451  0.186003 -0.011633  0.514162   \n",
       "..        ...       ...       ...       ...       ...       ...       ...   \n",
       "241 -2.098533  2.014892 -0.100496  0.568591 -0.015878  0.154456  0.314495   \n",
       "242 -2.328147 -0.940606 -0.165588  0.460224  0.083200 -0.073004 -0.227756   \n",
       "243 -2.379215 -0.386410 -0.029519  0.324570  0.306834 -0.058628  0.104791   \n",
       "244 -1.126342  2.077458  0.224380  0.499876  0.007021  0.078907  0.209541   \n",
       "245 -2.965900 -0.796900 -0.227672  0.801466  0.136743  0.238266 -0.088165   \n",
       "246 -2.846473  0.281733  0.077890  0.268352 -0.211082  0.483695  0.260885   \n",
       "247 -2.847583 -0.359440 -0.000785  0.400436  0.141194  0.360156 -0.163697   \n",
       "248 -2.264636  1.515195 -0.427057  0.656584 -0.190484  0.046545  0.018355   \n",
       "249 -2.088208  1.495125  0.039144  0.544062 -0.864557  0.077775  0.207293   \n",
       "250 -3.276377 -0.090455 -0.410625  0.025266  0.166472  0.105347  0.192128   \n",
       "251 -1.926429  0.303065  0.416760  1.091307  0.882065  0.413649  0.189347   \n",
       "252 -2.409854 -0.524329 -0.432135  0.909592 -0.142157 -0.295098 -0.242861   \n",
       "253 -2.684503 -0.995548  0.390861  0.252393 -0.171186  0.175608  0.017101   \n",
       "254 -2.665562 -0.437115  0.465572  0.167649  0.073453  0.348080  0.048464   \n",
       "255 -3.371705  0.086407 -0.280622  0.447999  0.618579  0.393712  0.202031   \n",
       "256 -1.842523  1.546521  0.021928  0.622410 -0.664119  0.040826 -0.243420   \n",
       "257 -2.306664 -0.301541  0.482228  0.200801  0.164883  0.105083 -0.198382   \n",
       "258 -2.380850  0.094929  0.277426 -0.206987 -0.023598 -0.175126 -0.149525   \n",
       "259 -2.768117 -0.500279  0.263006 -0.135876  0.427688 -0.085938  0.109794   \n",
       "260 -3.157306 -0.397297  0.112112  0.182735  0.208748  0.159862  0.123519   \n",
       "261 -2.809622  0.465661 -0.237610  0.424665 -0.297132 -0.086094  0.236042   \n",
       "262 -1.854543 -0.694021  1.194192  0.392780  0.740738  0.229538 -0.121013   \n",
       "263 -2.845386 -1.093432  0.810285  0.599245  0.158007  0.320033  0.482846   \n",
       "264 -2.595036  0.092337  0.676771  0.307094  0.312497  0.304392  0.370516   \n",
       "265 -2.471673  1.712559  0.274827  0.696236  0.519295  0.352929  0.089212   \n",
       "266 -2.629287  1.332201  0.054313  0.809470 -0.389681 -0.099306  0.063508   \n",
       "267 -3.183255 -0.668138  0.004964  0.645982  0.081047 -0.180255  0.035350   \n",
       "268 -3.435843  0.472759  0.142679  0.325446  0.388756  0.356003  0.297440   \n",
       "269 -3.118253 -0.476529  0.892118  0.325340  0.165198  0.615207 -0.052877   \n",
       "270 -3.595854  0.750017  0.334456  0.757427  0.225416  0.546019  0.336245   \n",
       "\n",
       "            7         8  \n",
       "0   -0.682167  0.175418  \n",
       "1   -0.409178 -0.169816  \n",
       "2    0.766212 -0.124862  \n",
       "3   -0.374552  0.082651  \n",
       "4    0.149631  0.099025  \n",
       "5    0.141672  0.056408  \n",
       "6   -0.597407  0.139588  \n",
       "7   -0.418019 -0.171555  \n",
       "8    0.254411 -0.090993  \n",
       "9    0.353104 -0.100005  \n",
       "10   0.653267 -0.013730  \n",
       "11   0.135430 -0.134124  \n",
       "12  -0.599937 -0.170603  \n",
       "13   0.654253  0.041145  \n",
       "14  -0.555538 -0.130690  \n",
       "15   0.470502  0.121948  \n",
       "16   0.375462  0.137001  \n",
       "17   0.546717  0.099962  \n",
       "18   0.510597 -0.055641  \n",
       "19   0.452689 -0.047498  \n",
       "20   0.042077 -0.048106  \n",
       "21  -0.286586  0.157832  \n",
       "22   0.212228 -0.097458  \n",
       "23   0.226368 -0.002225  \n",
       "24   0.072420  0.027776  \n",
       "25  -0.158109 -0.030804  \n",
       "26  -0.056480  0.066970  \n",
       "27   0.013676 -0.033617  \n",
       "28   0.434623 -0.019571  \n",
       "29   0.280004 -0.048746  \n",
       "..        ...       ...  \n",
       "241  0.374856  0.063556  \n",
       "242 -0.362340 -0.046644  \n",
       "243  0.036615 -0.089798  \n",
       "244 -0.259192 -0.090805  \n",
       "245  0.127892  0.005959  \n",
       "246 -0.086407 -0.012960  \n",
       "247 -0.218511  0.062913  \n",
       "248  0.098764 -0.059721  \n",
       "249  0.350295 -0.009816  \n",
       "250 -0.206090  0.000341  \n",
       "251  0.021774 -0.045659  \n",
       "252  0.004727 -0.047747  \n",
       "253  0.061084 -0.043842  \n",
       "254 -0.021562 -0.015134  \n",
       "255  0.065946 -0.025237  \n",
       "256  0.020881 -0.029058  \n",
       "257 -0.106772  0.051318  \n",
       "258 -0.009011 -0.022315  \n",
       "259  0.048924 -0.084894  \n",
       "260  0.079385 -0.009927  \n",
       "261 -0.173751 -0.010104  \n",
       "262 -0.061657  0.033871  \n",
       "263  0.188699  0.028555  \n",
       "264 -0.138796  0.010618  \n",
       "265  0.014391 -0.071069  \n",
       "266  0.478277  0.024346  \n",
       "267  0.043512  0.062108  \n",
       "268 -0.244817  0.036686  \n",
       "269 -0.104069 -0.027300  \n",
       "270  0.088421 -0.012383  \n",
       "\n",
       "[271 rows x 9 columns]"
      ]
     },
     "execution_count": 92,
     "metadata": {},
     "output_type": "execute_result"
    }
   ],
   "source": [
    "pd.DataFrame(nba_pca)"
   ]
  },
  {
   "cell_type": "code",
   "execution_count": null,
   "metadata": {
    "collapsed": true
   },
   "outputs": [],
   "source": []
  },
  {
   "cell_type": "markdown",
   "metadata": {},
   "source": [
    "We did not reduce any of the dimensions of the dataset because we are going to visualize how much variance is explained by all 9 dimensions."
   ]
  },
  {
   "cell_type": "code",
   "execution_count": null,
   "metadata": {
    "collapsed": true
   },
   "outputs": [],
   "source": []
  },
  {
   "cell_type": "code",
   "execution_count": null,
   "metadata": {
    "collapsed": true
   },
   "outputs": [],
   "source": []
  },
  {
   "cell_type": "markdown",
   "metadata": {},
   "source": [
    "Plot the variance explained ratio of the components"
   ]
  },
  {
   "cell_type": "code",
   "execution_count": 59,
   "metadata": {},
   "outputs": [
    {
     "data": {
      "text/plain": [
       "array([ 0.56059991,  0.25067379,  0.05901326,  0.05023642,  0.04141312,\n",
       "        0.01699684,  0.01197103,  0.00848487,  0.00061077])"
      ]
     },
     "execution_count": 59,
     "metadata": {},
     "output_type": "execute_result"
    }
   ],
   "source": [
    "#Shows the percentage of the variance explained by each component\n",
    "pca.explained_variance_ratio_"
   ]
  },
  {
   "cell_type": "markdown",
   "metadata": {},
   "source": [
    "We're going to plot a bar plot of the explained variance ratios and a line plot of the cumulative sum of the explained variance ratios."
   ]
  },
  {
   "cell_type": "code",
   "execution_count": 60,
   "metadata": {},
   "outputs": [
    {
     "data": {
      "text/plain": [
       "Text(0,0.5,u'Explained Varianced')"
      ]
     },
     "execution_count": 60,
     "metadata": {},
     "output_type": "execute_result"
    },
    {
     "data": {
      "image/png": "[encoded data removed]",
      "text/plain": [
       "<matplotlib.figure.Figure at 0x1a177bf550>"
      ]
     },
     "metadata": {},
     "output_type": "display_data"
    }
   ],
   "source": [
    "plt.figure(figsize=(8, 6))\n",
    "\n",
    "components = range(1, pca.n_components_ + 1)\n",
    "\n",
    "plt.bar(components, pca.explained_variance_ratio_, label = \"Explained Variance Ratio\")\n",
    "plt.plot(components, np.cumsum(pca.explained_variance_ratio_), c = \"r\", label = \"Cumulative Sum of Explained Variance ratios\")\n",
    "plt.xlabel(\"Components\")\n",
    "plt.ylabel(\"Explained Varianced\")"
   ]
  },
  {
   "cell_type": "code",
   "execution_count": null,
   "metadata": {
    "collapsed": true
   },
   "outputs": [],
   "source": []
  },
  {
   "cell_type": "code",
   "execution_count": null,
   "metadata": {
    "collapsed": true
   },
   "outputs": [],
   "source": []
  },
  {
   "cell_type": "markdown",
   "metadata": {},
   "source": [
    "This tell us that if we view this 9-dimension data on a 2D scatter plot then we would be seeing four-fifths of the total variance in the dataset."
   ]
  },
  {
   "cell_type": "code",
   "execution_count": 61,
   "metadata": {
    "collapsed": true
   },
   "outputs": [],
   "source": [
    "players = [u'Russell Westbrook', u'James Harden', u'Isaiah Thomas',\n",
    "       u'Anthony Davis', u'DeMar DeRozan', u'Damian Lillard',\n",
    "       u'DeMarcus Cousins', u'LeBron James', u'Kawhi Leonard',\n",
    "       u'Stephen Curry', u'Kyrie Irving', u'Karl-Anthony Towns',\n",
    "       u'Kevin Durant', u'Paul George', u'Andrew Wiggins',\n",
    "        u'John Wall', 'Giannis Antetokounmpo', 'Harrison Barnes',\n",
    "          'Kevin Love', 'DeAndre Jordan', 'Serge Ibaka', 'Enes Kanter', 'Rudy Gobert', u'Al Horford',\n",
    "          'Dwight Howard']"
   ]
  },
  {
   "cell_type": "code",
   "execution_count": 63,
   "metadata": {},
   "outputs": [
    {
     "data": {
      "image/png": "[encoded data removed]",
      "text/plain": [
       "<matplotlib.figure.Figure at 0x1a17f9aa10>"
      ]
     },
     "metadata": {},
     "output_type": "display_data"
    }
   ],
   "source": [
    "nba_pca_df = pd.DataFrame(nba_pca[:, :2], columns=[\"pc1\", \"pc2\"], index=nba.index)\n",
    "\n",
    "plt.figure(figsize=(12, 9))\n",
    "plt.scatter(nba_pca_df.pc1, nba_pca_df.pc2)\n",
    "# take the first and second principal component\n",
    "\n",
    "for player in players:\n",
    "    data = nba_pca_df.loc[player]\n",
    "    plt.annotate(player, (data[\"pc1\"], data[\"pc2\"]))"
   ]
  },
  {
   "cell_type": "code",
   "execution_count": 65,
   "metadata": {},
   "outputs": [
    {
     "data": {
      "text/html": [
       "<div>\n",
       "<style>\n",
       "    .dataframe thead tr:only-child th {\n",
       "        text-align: right;\n",
       "    }\n",
       "\n",
       "    .dataframe thead th {\n",
       "        text-align: left;\n",
       "    }\n",
       "\n",
       "    .dataframe tbody tr th {\n",
       "        vertical-align: top;\n",
       "    }\n",
       "</style>\n",
       "<table border=\"1\" class=\"dataframe\">\n",
       "  <thead>\n",
       "    <tr style=\"text-align: right;\">\n",
       "      <th></th>\n",
       "      <th>pc1</th>\n",
       "      <th>pc2</th>\n",
       "    </tr>\n",
       "  </thead>\n",
       "  <tbody>\n",
       "    <tr>\n",
       "      <th>Hassan Whiteside</th>\n",
       "      <td>4.362308</td>\n",
       "      <td>5.370164</td>\n",
       "    </tr>\n",
       "    <tr>\n",
       "      <th>Rudy Gobert</th>\n",
       "      <td>4.211405</td>\n",
       "      <td>5.818062</td>\n",
       "    </tr>\n",
       "    <tr>\n",
       "      <th>Andre Drummond</th>\n",
       "      <td>3.940816</td>\n",
       "      <td>4.064075</td>\n",
       "    </tr>\n",
       "    <tr>\n",
       "      <th>Dwight Howard</th>\n",
       "      <td>3.546977</td>\n",
       "      <td>4.001549</td>\n",
       "    </tr>\n",
       "    <tr>\n",
       "      <th>DeAndre Jordan</th>\n",
       "      <td>3.322419</td>\n",
       "      <td>4.911979</td>\n",
       "    </tr>\n",
       "  </tbody>\n",
       "</table>\n",
       "</div>"
      ],
      "text/plain": [
       "                       pc1       pc2\n",
       "Hassan Whiteside  4.362308  5.370164\n",
       "Rudy Gobert       4.211405  5.818062\n",
       "Andre Drummond    3.940816  4.064075\n",
       "Dwight Howard     3.546977  4.001549\n",
       "DeAndre Jordan    3.322419  4.911979"
      ]
     },
     "execution_count": 65,
     "metadata": {},
     "output_type": "execute_result"
    }
   ],
   "source": [
    "nba_pca_df[nba_pca_df.pc2 >4 ]\n",
    "\n",
    "# curious about which players have pc2 >4"
   ]
  },
  {
   "cell_type": "markdown",
   "metadata": {},
   "source": [
    "How do you label the components based on the weights?"
   ]
  },
  {
   "cell_type": "markdown",
   "metadata": {},
   "source": [
    "Let's print out the component weights with their corresponding variables for PC1, PC2, and PC3"
   ]
  },
  {
   "cell_type": "code",
   "execution_count": 69,
   "metadata": {},
   "outputs": [
    {
     "name": "stdout",
     "output_type": "stream",
     "text": [
      "points 0.389439039074\n",
      "offensive_rebs 0.206705403903\n",
      "total_rebounds 0.31267046583\n",
      "assists 0.297672136011\n",
      "steals 0.304065286539\n",
      "blocks 0.210774714484\n",
      "turnovers 0.382045752216\n",
      "minutes 0.385337579419\n",
      "efficiency 0.433489220672\n"
     ]
    }
   ],
   "source": [
    "#Component 1\n",
    "for col, comp in zip(nba.columns, pca.components_[0]):\n",
    "    print col, comp\n"
   ]
  },
  {
   "cell_type": "code",
   "execution_count": 68,
   "metadata": {},
   "outputs": [
    {
     "name": "stdout",
     "output_type": "stream",
     "text": [
      "points -0.131826414851\n",
      "offensive_rebs 0.537228172032\n",
      "total_rebounds 0.436168325695\n",
      "assists -0.404430722549\n",
      "steals -0.239805546578\n",
      "blocks 0.473383884843\n",
      "turnovers -0.213478518076\n",
      "minutes -0.104960192114\n",
      "efficiency 0.0448547392488\n"
     ]
    }
   ],
   "source": [
    "#Component 2\n",
    "for col, comp in zip(nba.columns, pca.components_[1]):\n",
    "    print col, comp"
   ]
  },
  {
   "cell_type": "code",
   "execution_count": 87,
   "metadata": {
    "collapsed": true
   },
   "outputs": [],
   "source": [
    "# pick the ones that contribute to the components the most (a judgement call)"
   ]
  },
  {
   "cell_type": "code",
   "execution_count": null,
   "metadata": {
    "collapsed": true
   },
   "outputs": [],
   "source": [
    "#Component 3\n",
    "for col, comp in zip(nba.columns, pca.components_[2]):\n",
    "    print col, comp"
   ]
  },
  {
   "cell_type": "code",
   "execution_count": null,
   "metadata": {
    "collapsed": true
   },
   "outputs": [],
   "source": [
    "# ^ see the components of each component"
   ]
  },
  {
   "cell_type": "code",
   "execution_count": null,
   "metadata": {
    "collapsed": true
   },
   "outputs": [],
   "source": []
  },
  {
   "cell_type": "code",
   "execution_count": null,
   "metadata": {
    "collapsed": true
   },
   "outputs": [],
   "source": []
  },
  {
   "cell_type": "code",
   "execution_count": null,
   "metadata": {
    "collapsed": true
   },
   "outputs": [],
   "source": []
  },
  {
   "cell_type": "code",
   "execution_count": null,
   "metadata": {
    "collapsed": true
   },
   "outputs": [],
   "source": []
  },
  {
   "cell_type": "code",
   "execution_count": null,
   "metadata": {
    "collapsed": true
   },
   "outputs": [],
   "source": []
  },
  {
   "cell_type": "code",
   "execution_count": null,
   "metadata": {
    "collapsed": true
   },
   "outputs": [],
   "source": []
  },
  {
   "cell_type": "code",
   "execution_count": null,
   "metadata": {
    "collapsed": true
   },
   "outputs": [],
   "source": []
  },
  {
   "cell_type": "markdown",
   "metadata": {},
   "source": [
    "## Digits"
   ]
  },
  {
   "cell_type": "code",
   "execution_count": 70,
   "metadata": {},
   "outputs": [
    {
     "data": {
      "text/plain": [
       "(1797, 64)"
      ]
     },
     "execution_count": 70,
     "metadata": {},
     "output_type": "execute_result"
    }
   ],
   "source": [
    "#Load in the mnist digits data\n",
    "\n",
    "\n",
    "digits = load_digits()\n",
    "data = digits.data\n",
    "numbers = digits.target\n",
    "\n",
    "#shape of data\n",
    "data.shape"
   ]
  },
  {
   "cell_type": "markdown",
   "metadata": {},
   "source": [
    "Let's PCA the digits data using two components"
   ]
  },
  {
   "cell_type": "code",
   "execution_count": 71,
   "metadata": {
    "collapsed": true
   },
   "outputs": [],
   "source": [
    "#Intialize PCA with 2 components\n",
    "pca = PCA(2)  # project from 64 to 2 dimensions\n",
    "\n",
    "data_pca = pca.fit_transform(data)"
   ]
  },
  {
   "cell_type": "code",
   "execution_count": 72,
   "metadata": {},
   "outputs": [
    {
     "data": {
      "text/plain": [
       "0.2850936482369803"
      ]
     },
     "execution_count": 72,
     "metadata": {},
     "output_type": "execute_result"
    }
   ],
   "source": [
    "pca.explained_variance_ratio_.sum()"
   ]
  },
  {
   "cell_type": "code",
   "execution_count": 73,
   "metadata": {
    "collapsed": true
   },
   "outputs": [],
   "source": [
    "#1797 features, condensed to 2 features. explaines 28% of the variance."
   ]
  },
  {
   "cell_type": "markdown",
   "metadata": {},
   "source": [
    "Plot the prinicpal components of the digits dataset using the number labels as the color-encoding"
   ]
  },
  {
   "cell_type": "code",
   "execution_count": 74,
   "metadata": {},
   "outputs": [
    {
     "name": "stderr",
     "output_type": "stream",
     "text": [
      "/anaconda2/lib/python2.7/site-packages/matplotlib/cbook/deprecation.py:106: MatplotlibDeprecationWarning: The spectral and spectral_r colormap was deprecated in version 2.0. Use nipy_spectral and nipy_spectral_r instead.\n",
      "  warnings.warn(message, mplDeprecation, stacklevel=1)\n"
     ]
    },
    {
     "data": {
      "image/png": "[encoded data removed]",
      "text/plain": [
       "<matplotlib.figure.Figure at 0x1a1842ef10>"
      ]
     },
     "metadata": {},
     "output_type": "display_data"
    }
   ],
   "source": [
    "\n",
    "plt.figure(figsize=(10, 10))\n",
    "plt.scatter(data_pca[:, 0], data_pca[:, 1],\n",
    "            c=numbers, edgecolor='none', alpha=0.5,\n",
    "            cmap=plt.cm.get_cmap('spectral', 10))\n",
    "plt.xlabel('Component 1')\n",
    "plt.ylabel('Component 2')\n",
    "plt.colorbar();"
   ]
  },
  {
   "cell_type": "code",
   "execution_count": null,
   "metadata": {
    "collapsed": true
   },
   "outputs": [],
   "source": [
    "#Explained variance of the pca data\n",
    "\n",
    "pca.explained_variance_ratio_.sum()"
   ]
  },
  {
   "cell_type": "code",
   "execution_count": null,
   "metadata": {
    "collapsed": true
   },
   "outputs": [],
   "source": []
  },
  {
   "cell_type": "markdown",
   "metadata": {},
   "source": [
    "2 components gets us about 28.5 of the way there, let's see how many components it takes to get 50, 70, and 90%."
   ]
  },
  {
   "cell_type": "code",
   "execution_count": 75,
   "metadata": {},
   "outputs": [
    {
     "data": {
      "text/plain": [
       "5"
      ]
     },
     "execution_count": 75,
     "metadata": {},
     "output_type": "execute_result"
    }
   ],
   "source": [
    "#We can set n_components equal to a explained variance ratio value\n",
    "\n",
    "#50% EVR\n",
    "pca = PCA(n_components=.5).fit(data)\n",
    "\n",
    "#Number components\n",
    "pca.n_components_"
   ]
  },
  {
   "cell_type": "code",
   "execution_count": 76,
   "metadata": {},
   "outputs": [
    {
     "data": {
      "text/plain": [
       "9"
      ]
     },
     "execution_count": 76,
     "metadata": {},
     "output_type": "execute_result"
    }
   ],
   "source": [
    "#70% EVR\n",
    "pca = PCA(n_components=.7).fit(data)\n",
    "\n",
    "#Number components\n",
    "pca.n_components_"
   ]
  },
  {
   "cell_type": "code",
   "execution_count": 77,
   "metadata": {},
   "outputs": [
    {
     "data": {
      "text/plain": [
       "21"
      ]
     },
     "execution_count": 77,
     "metadata": {},
     "output_type": "execute_result"
    }
   ],
   "source": [
    "#90% EVR\n",
    "pca = PCA(n_components=.9).fit(data)\n",
    "\n",
    "#Number components\n",
    "pca.n_components_"
   ]
  },
  {
   "cell_type": "markdown",
   "metadata": {},
   "source": [
    "Visualize EVR curve"
   ]
  },
  {
   "cell_type": "code",
   "execution_count": 78,
   "metadata": {},
   "outputs": [
    {
     "data": {
      "image/png": "[encoded data removed]",
      "text/plain": [
       "<matplotlib.figure.Figure at 0x1a176c2bd0>"
      ]
     },
     "metadata": {},
     "output_type": "display_data"
    }
   ],
   "source": [
    "#Intialize and fit digits data using PCA\n",
    "pca = PCA().fit(data)\n",
    "plt.figure(figsize=(8, 6))\n",
    "plt.plot(np.cumsum(pca.explained_variance_ratio_))\n",
    "plt.xlabel('number of components')\n",
    "plt.ylabel('cumulative explained variance');"
   ]
  },
  {
   "cell_type": "code",
   "execution_count": 82,
   "metadata": {},
   "outputs": [
    {
     "data": {
      "text/plain": [
       "0.92101881133607011"
      ]
     },
     "execution_count": 82,
     "metadata": {},
     "output_type": "execute_result"
    }
   ],
   "source": [
    "cross_val_score(LogisticRegression(), data, numbers, cv = 5, scoring = \"accuracy\").mean()"
   ]
  },
  {
   "cell_type": "code",
   "execution_count": null,
   "metadata": {
    "collapsed": true
   },
   "outputs": [],
   "source": [
    "# ^ using all features, the model is 92% accurate"
   ]
  },
  {
   "cell_type": "code",
   "execution_count": 83,
   "metadata": {},
   "outputs": [
    {
     "name": "stdout",
     "output_type": "stream",
     "text": [
      "(1797, 21)\n"
     ]
    }
   ],
   "source": [
    "pca = PCA(n_components=0.9)\n",
    "datap = pca.fit_transform(data)\n",
    "print (datap.shape)"
   ]
  },
  {
   "cell_type": "code",
   "execution_count": 95,
   "metadata": {
    "scrolled": true
   },
   "outputs": [
    {
     "data": {
      "text/html": [
       "<div>\n",
       "<style>\n",
       "    .dataframe thead tr:only-child th {\n",
       "        text-align: right;\n",
       "    }\n",
       "\n",
       "    .dataframe thead th {\n",
       "        text-align: left;\n",
       "    }\n",
       "\n",
       "    .dataframe tbody tr th {\n",
       "        vertical-align: top;\n",
       "    }\n",
       "</style>\n",
       "<table border=\"1\" class=\"dataframe\">\n",
       "  <thead>\n",
       "    <tr style=\"text-align: right;\">\n",
       "      <th></th>\n",
       "      <th>0</th>\n",
       "      <th>1</th>\n",
       "      <th>2</th>\n",
       "      <th>3</th>\n",
       "      <th>4</th>\n",
       "      <th>5</th>\n",
       "      <th>6</th>\n",
       "      <th>7</th>\n",
       "      <th>8</th>\n",
       "      <th>9</th>\n",
       "      <th>...</th>\n",
       "      <th>11</th>\n",
       "      <th>12</th>\n",
       "      <th>13</th>\n",
       "      <th>14</th>\n",
       "      <th>15</th>\n",
       "      <th>16</th>\n",
       "      <th>17</th>\n",
       "      <th>18</th>\n",
       "      <th>19</th>\n",
       "      <th>20</th>\n",
       "    </tr>\n",
       "  </thead>\n",
       "  <tbody>\n",
       "    <tr>\n",
       "      <th>0</th>\n",
       "      <td>-1.259466</td>\n",
       "      <td>21.274883</td>\n",
       "      <td>-9.463055</td>\n",
       "      <td>13.014189</td>\n",
       "      <td>-7.128823</td>\n",
       "      <td>-7.440659</td>\n",
       "      <td>3.252837</td>\n",
       "      <td>2.553470</td>\n",
       "      <td>-0.581842</td>\n",
       "      <td>3.625697</td>\n",
       "      <td>...</td>\n",
       "      <td>1.551607</td>\n",
       "      <td>0.854497</td>\n",
       "      <td>-3.338749</td>\n",
       "      <td>5.906590</td>\n",
       "      <td>2.743593</td>\n",
       "      <td>0.419837</td>\n",
       "      <td>-0.898150</td>\n",
       "      <td>0.702611</td>\n",
       "      <td>-3.462119</td>\n",
       "      <td>2.680850</td>\n",
       "    </tr>\n",
       "    <tr>\n",
       "      <th>1</th>\n",
       "      <td>7.957611</td>\n",
       "      <td>-20.768699</td>\n",
       "      <td>4.439506</td>\n",
       "      <td>-14.893664</td>\n",
       "      <td>5.896249</td>\n",
       "      <td>-6.485622</td>\n",
       "      <td>2.126228</td>\n",
       "      <td>-4.615936</td>\n",
       "      <td>3.587450</td>\n",
       "      <td>-1.074705</td>\n",
       "      <td>...</td>\n",
       "      <td>-2.129511</td>\n",
       "      <td>-2.555324</td>\n",
       "      <td>-6.516996</td>\n",
       "      <td>-2.291764</td>\n",
       "      <td>-2.134027</td>\n",
       "      <td>-5.839357</td>\n",
       "      <td>4.478446</td>\n",
       "      <td>-1.955703</td>\n",
       "      <td>-5.255708</td>\n",
       "      <td>-1.205777</td>\n",
       "    </tr>\n",
       "    <tr>\n",
       "      <th>2</th>\n",
       "      <td>6.991923</td>\n",
       "      <td>-9.955986</td>\n",
       "      <td>2.958558</td>\n",
       "      <td>-12.288302</td>\n",
       "      <td>-18.126023</td>\n",
       "      <td>-4.507664</td>\n",
       "      <td>1.843122</td>\n",
       "      <td>-16.415200</td>\n",
       "      <td>0.719233</td>\n",
       "      <td>4.255805</td>\n",
       "      <td>...</td>\n",
       "      <td>-0.383791</td>\n",
       "      <td>0.208885</td>\n",
       "      <td>6.841040</td>\n",
       "      <td>-1.679690</td>\n",
       "      <td>-4.276003</td>\n",
       "      <td>6.728485</td>\n",
       "      <td>1.269848</td>\n",
       "      <td>0.184780</td>\n",
       "      <td>8.731076</td>\n",
       "      <td>4.951115</td>\n",
       "    </tr>\n",
       "    <tr>\n",
       "      <th>3</th>\n",
       "      <td>-15.906105</td>\n",
       "      <td>3.332464</td>\n",
       "      <td>9.824372</td>\n",
       "      <td>-12.275838</td>\n",
       "      <td>6.965169</td>\n",
       "      <td>1.089483</td>\n",
       "      <td>-1.042085</td>\n",
       "      <td>10.973556</td>\n",
       "      <td>-3.259735</td>\n",
       "      <td>6.498753</td>\n",
       "      <td>...</td>\n",
       "      <td>2.396152</td>\n",
       "      <td>2.653396</td>\n",
       "      <td>-4.538297</td>\n",
       "      <td>0.798339</td>\n",
       "      <td>1.646645</td>\n",
       "      <td>-2.249089</td>\n",
       "      <td>-1.403457</td>\n",
       "      <td>3.068280</td>\n",
       "      <td>-3.876889</td>\n",
       "      <td>0.269413</td>\n",
       "    </tr>\n",
       "    <tr>\n",
       "      <th>4</th>\n",
       "      <td>23.306867</td>\n",
       "      <td>4.269061</td>\n",
       "      <td>-5.675129</td>\n",
       "      <td>-13.851524</td>\n",
       "      <td>-0.358124</td>\n",
       "      <td>-2.857574</td>\n",
       "      <td>-0.720497</td>\n",
       "      <td>13.041696</td>\n",
       "      <td>-3.835413</td>\n",
       "      <td>13.414164</td>\n",
       "      <td>...</td>\n",
       "      <td>-1.755831</td>\n",
       "      <td>-5.285637</td>\n",
       "      <td>1.515267</td>\n",
       "      <td>-0.666908</td>\n",
       "      <td>-6.412871</td>\n",
       "      <td>-9.514895</td>\n",
       "      <td>-1.975814</td>\n",
       "      <td>-3.065115</td>\n",
       "      <td>5.035236</td>\n",
       "      <td>0.206830</td>\n",
       "    </tr>\n",
       "    <tr>\n",
       "      <th>5</th>\n",
       "      <td>-14.087086</td>\n",
       "      <td>7.914448</td>\n",
       "      <td>0.392494</td>\n",
       "      <td>-14.411096</td>\n",
       "      <td>8.484942</td>\n",
       "      <td>-10.863487</td>\n",
       "      <td>-1.412462</td>\n",
       "      <td>7.276308</td>\n",
       "      <td>4.323042</td>\n",
       "      <td>-8.569364</td>\n",
       "      <td>...</td>\n",
       "      <td>6.262294</td>\n",
       "      <td>2.832878</td>\n",
       "      <td>0.486186</td>\n",
       "      <td>5.333819</td>\n",
       "      <td>9.057248</td>\n",
       "      <td>-2.335863</td>\n",
       "      <td>-5.492637</td>\n",
       "      <td>-3.752422</td>\n",
       "      <td>-0.419553</td>\n",
       "      <td>2.222976</td>\n",
       "    </tr>\n",
       "    <tr>\n",
       "      <th>6</th>\n",
       "      <td>21.363410</td>\n",
       "      <td>5.288340</td>\n",
       "      <td>15.087405</td>\n",
       "      <td>-5.138381</td>\n",
       "      <td>4.581129</td>\n",
       "      <td>-4.362263</td>\n",
       "      <td>1.345093</td>\n",
       "      <td>-6.201436</td>\n",
       "      <td>-3.910789</td>\n",
       "      <td>2.149197</td>\n",
       "      <td>...</td>\n",
       "      <td>5.166790</td>\n",
       "      <td>-3.782620</td>\n",
       "      <td>-0.448282</td>\n",
       "      <td>0.091033</td>\n",
       "      <td>0.934639</td>\n",
       "      <td>-9.925316</td>\n",
       "      <td>3.023572</td>\n",
       "      <td>0.036474</td>\n",
       "      <td>1.418830</td>\n",
       "      <td>-3.409867</td>\n",
       "    </tr>\n",
       "    <tr>\n",
       "      <th>7</th>\n",
       "      <td>-2.952607</td>\n",
       "      <td>-21.071664</td>\n",
       "      <td>-12.282900</td>\n",
       "      <td>10.439277</td>\n",
       "      <td>-6.243046</td>\n",
       "      <td>12.747425</td>\n",
       "      <td>-8.551552</td>\n",
       "      <td>-2.014313</td>\n",
       "      <td>4.004643</td>\n",
       "      <td>10.654946</td>\n",
       "      <td>...</td>\n",
       "      <td>1.635481</td>\n",
       "      <td>0.492019</td>\n",
       "      <td>11.696499</td>\n",
       "      <td>3.255307</td>\n",
       "      <td>-1.575088</td>\n",
       "      <td>0.181414</td>\n",
       "      <td>9.055385</td>\n",
       "      <td>-3.396561</td>\n",
       "      <td>-3.303580</td>\n",
       "      <td>-2.247712</td>\n",
       "    </tr>\n",
       "    <tr>\n",
       "      <th>8</th>\n",
       "      <td>-5.255134</td>\n",
       "      <td>1.183360</td>\n",
       "      <td>5.796257</td>\n",
       "      <td>-5.549540</td>\n",
       "      <td>-7.261641</td>\n",
       "      <td>-2.869018</td>\n",
       "      <td>-8.559843</td>\n",
       "      <td>-5.504599</td>\n",
       "      <td>-6.049485</td>\n",
       "      <td>-5.794185</td>\n",
       "      <td>...</td>\n",
       "      <td>3.590770</td>\n",
       "      <td>-3.050730</td>\n",
       "      <td>1.230069</td>\n",
       "      <td>2.246085</td>\n",
       "      <td>0.890473</td>\n",
       "      <td>-4.891269</td>\n",
       "      <td>-7.080386</td>\n",
       "      <td>5.359460</td>\n",
       "      <td>-0.222936</td>\n",
       "      <td>1.664052</td>\n",
       "    </tr>\n",
       "    <tr>\n",
       "      <th>9</th>\n",
       "      <td>-5.480199</td>\n",
       "      <td>8.076324</td>\n",
       "      <td>-5.028084</td>\n",
       "      <td>-2.448339</td>\n",
       "      <td>3.288928</td>\n",
       "      <td>-0.775943</td>\n",
       "      <td>-4.548299</td>\n",
       "      <td>6.918049</td>\n",
       "      <td>6.644250</td>\n",
       "      <td>-12.565308</td>\n",
       "      <td>...</td>\n",
       "      <td>-2.817200</td>\n",
       "      <td>-7.798036</td>\n",
       "      <td>1.450362</td>\n",
       "      <td>12.042312</td>\n",
       "      <td>11.622601</td>\n",
       "      <td>0.750258</td>\n",
       "      <td>-8.104629</td>\n",
       "      <td>-5.566889</td>\n",
       "      <td>5.432563</td>\n",
       "      <td>4.392149</td>\n",
       "    </tr>\n",
       "    <tr>\n",
       "      <th>10</th>\n",
       "      <td>11.215079</td>\n",
       "      <td>16.919862</td>\n",
       "      <td>-10.066849</td>\n",
       "      <td>9.747088</td>\n",
       "      <td>-5.673415</td>\n",
       "      <td>-8.104378</td>\n",
       "      <td>-3.342633</td>\n",
       "      <td>-7.120773</td>\n",
       "      <td>0.375276</td>\n",
       "      <td>6.542028</td>\n",
       "      <td>...</td>\n",
       "      <td>5.559847</td>\n",
       "      <td>-1.003373</td>\n",
       "      <td>-0.617053</td>\n",
       "      <td>1.273181</td>\n",
       "      <td>-1.006604</td>\n",
       "      <td>1.869474</td>\n",
       "      <td>-0.032452</td>\n",
       "      <td>-0.134183</td>\n",
       "      <td>1.373195</td>\n",
       "      <td>-1.808394</td>\n",
       "    </tr>\n",
       "    <tr>\n",
       "      <th>11</th>\n",
       "      <td>3.009182</td>\n",
       "      <td>-11.994810</td>\n",
       "      <td>-14.131402</td>\n",
       "      <td>-28.090307</td>\n",
       "      <td>5.315725</td>\n",
       "      <td>-4.501819</td>\n",
       "      <td>-4.019540</td>\n",
       "      <td>-6.327492</td>\n",
       "      <td>-4.703865</td>\n",
       "      <td>4.524697</td>\n",
       "      <td>...</td>\n",
       "      <td>-8.913973</td>\n",
       "      <td>-6.644782</td>\n",
       "      <td>4.421880</td>\n",
       "      <td>-1.719518</td>\n",
       "      <td>3.678169</td>\n",
       "      <td>-0.355100</td>\n",
       "      <td>4.795622</td>\n",
       "      <td>-1.285632</td>\n",
       "      <td>2.059077</td>\n",
       "      <td>0.517280</td>\n",
       "    </tr>\n",
       "    <tr>\n",
       "      <th>12</th>\n",
       "      <td>-2.414193</td>\n",
       "      <td>-4.851664</td>\n",
       "      <td>16.133972</td>\n",
       "      <td>1.167473</td>\n",
       "      <td>4.611619</td>\n",
       "      <td>3.409673</td>\n",
       "      <td>21.785899</td>\n",
       "      <td>-1.662206</td>\n",
       "      <td>6.377970</td>\n",
       "      <td>-1.671673</td>\n",
       "      <td>...</td>\n",
       "      <td>-5.380450</td>\n",
       "      <td>7.535771</td>\n",
       "      <td>1.686006</td>\n",
       "      <td>3.562366</td>\n",
       "      <td>4.850453</td>\n",
       "      <td>6.695093</td>\n",
       "      <td>10.218561</td>\n",
       "      <td>0.336205</td>\n",
       "      <td>-1.757705</td>\n",
       "      <td>-0.155057</td>\n",
       "    </tr>\n",
       "    <tr>\n",
       "      <th>13</th>\n",
       "      <td>-23.255618</td>\n",
       "      <td>-1.906755</td>\n",
       "      <td>-4.206618</td>\n",
       "      <td>-10.282753</td>\n",
       "      <td>1.007015</td>\n",
       "      <td>-1.375890</td>\n",
       "      <td>1.225014</td>\n",
       "      <td>0.311631</td>\n",
       "      <td>-12.126955</td>\n",
       "      <td>2.378355</td>\n",
       "      <td>...</td>\n",
       "      <td>2.385318</td>\n",
       "      <td>1.650015</td>\n",
       "      <td>-0.386239</td>\n",
       "      <td>0.513164</td>\n",
       "      <td>3.750607</td>\n",
       "      <td>-0.552293</td>\n",
       "      <td>1.105603</td>\n",
       "      <td>-4.370086</td>\n",
       "      <td>-2.774506</td>\n",
       "      <td>-2.382183</td>\n",
       "    </tr>\n",
       "    <tr>\n",
       "      <th>14</th>\n",
       "      <td>24.456735</td>\n",
       "      <td>2.661290</td>\n",
       "      <td>-14.871619</td>\n",
       "      <td>-8.151311</td>\n",
       "      <td>0.511467</td>\n",
       "      <td>-2.683787</td>\n",
       "      <td>3.826325</td>\n",
       "      <td>5.557072</td>\n",
       "      <td>-1.043477</td>\n",
       "      <td>-5.382167</td>\n",
       "      <td>...</td>\n",
       "      <td>-2.687401</td>\n",
       "      <td>-11.142853</td>\n",
       "      <td>-0.564347</td>\n",
       "      <td>0.196654</td>\n",
       "      <td>-3.744390</td>\n",
       "      <td>-4.946372</td>\n",
       "      <td>-7.129842</td>\n",
       "      <td>1.425786</td>\n",
       "      <td>-1.347756</td>\n",
       "      <td>-3.377004</td>\n",
       "    </tr>\n",
       "    <tr>\n",
       "      <th>15</th>\n",
       "      <td>-1.400726</td>\n",
       "      <td>-15.861296</td>\n",
       "      <td>3.828854</td>\n",
       "      <td>18.598940</td>\n",
       "      <td>21.178675</td>\n",
       "      <td>-4.611226</td>\n",
       "      <td>0.918599</td>\n",
       "      <td>-0.983540</td>\n",
       "      <td>0.867036</td>\n",
       "      <td>0.773426</td>\n",
       "      <td>...</td>\n",
       "      <td>0.278111</td>\n",
       "      <td>2.802411</td>\n",
       "      <td>3.482206</td>\n",
       "      <td>-8.228433</td>\n",
       "      <td>2.064203</td>\n",
       "      <td>1.514610</td>\n",
       "      <td>2.193963</td>\n",
       "      <td>1.163180</td>\n",
       "      <td>-0.342409</td>\n",
       "      <td>2.721770</td>\n",
       "    </tr>\n",
       "    <tr>\n",
       "      <th>16</th>\n",
       "      <td>17.166674</td>\n",
       "      <td>-2.389205</td>\n",
       "      <td>16.198733</td>\n",
       "      <td>-18.429586</td>\n",
       "      <td>-1.816371</td>\n",
       "      <td>12.556577</td>\n",
       "      <td>0.847744</td>\n",
       "      <td>-1.515305</td>\n",
       "      <td>-0.788440</td>\n",
       "      <td>6.071408</td>\n",
       "      <td>...</td>\n",
       "      <td>7.024602</td>\n",
       "      <td>-3.258510</td>\n",
       "      <td>0.432089</td>\n",
       "      <td>-5.721051</td>\n",
       "      <td>1.691650</td>\n",
       "      <td>-3.233893</td>\n",
       "      <td>-7.994293</td>\n",
       "      <td>1.337026</td>\n",
       "      <td>-3.963054</td>\n",
       "      <td>4.395486</td>\n",
       "    </tr>\n",
       "    <tr>\n",
       "      <th>17</th>\n",
       "      <td>5.616054</td>\n",
       "      <td>-12.926353</td>\n",
       "      <td>-12.961373</td>\n",
       "      <td>1.414138</td>\n",
       "      <td>-7.567184</td>\n",
       "      <td>5.738908</td>\n",
       "      <td>-1.526154</td>\n",
       "      <td>1.663485</td>\n",
       "      <td>-2.681518</td>\n",
       "      <td>-9.129541</td>\n",
       "      <td>...</td>\n",
       "      <td>-4.519762</td>\n",
       "      <td>-1.691834</td>\n",
       "      <td>-2.856698</td>\n",
       "      <td>0.264252</td>\n",
       "      <td>0.304916</td>\n",
       "      <td>4.832201</td>\n",
       "      <td>-4.553415</td>\n",
       "      <td>-2.809312</td>\n",
       "      <td>4.497285</td>\n",
       "      <td>4.111215</td>\n",
       "    </tr>\n",
       "    <tr>\n",
       "      <th>18</th>\n",
       "      <td>-2.845155</td>\n",
       "      <td>-14.289641</td>\n",
       "      <td>-1.033610</td>\n",
       "      <td>4.671070</td>\n",
       "      <td>-2.481983</td>\n",
       "      <td>-10.622151</td>\n",
       "      <td>-8.042042</td>\n",
       "      <td>0.807378</td>\n",
       "      <td>-2.127410</td>\n",
       "      <td>14.490738</td>\n",
       "      <td>...</td>\n",
       "      <td>-0.792330</td>\n",
       "      <td>0.461727</td>\n",
       "      <td>-5.268013</td>\n",
       "      <td>-3.814154</td>\n",
       "      <td>9.871007</td>\n",
       "      <td>4.825137</td>\n",
       "      <td>-5.171903</td>\n",
       "      <td>-1.575325</td>\n",
       "      <td>4.475795</td>\n",
       "      <td>6.244725</td>\n",
       "    </tr>\n",
       "    <tr>\n",
       "      <th>19</th>\n",
       "      <td>-13.771359</td>\n",
       "      <td>8.846406</td>\n",
       "      <td>11.720652</td>\n",
       "      <td>-13.774390</td>\n",
       "      <td>4.619709</td>\n",
       "      <td>5.857390</td>\n",
       "      <td>7.229925</td>\n",
       "      <td>10.392667</td>\n",
       "      <td>14.777802</td>\n",
       "      <td>5.895665</td>\n",
       "      <td>...</td>\n",
       "      <td>8.413927</td>\n",
       "      <td>3.172164</td>\n",
       "      <td>-3.660382</td>\n",
       "      <td>-0.920567</td>\n",
       "      <td>4.883207</td>\n",
       "      <td>3.168685</td>\n",
       "      <td>-6.959234</td>\n",
       "      <td>-2.304958</td>\n",
       "      <td>4.166841</td>\n",
       "      <td>-4.345073</td>\n",
       "    </tr>\n",
       "    <tr>\n",
       "      <th>20</th>\n",
       "      <td>6.435364</td>\n",
       "      <td>19.477106</td>\n",
       "      <td>-10.203479</td>\n",
       "      <td>6.817177</td>\n",
       "      <td>-11.128670</td>\n",
       "      <td>-8.456769</td>\n",
       "      <td>0.097204</td>\n",
       "      <td>-4.129091</td>\n",
       "      <td>3.055680</td>\n",
       "      <td>-2.834407</td>\n",
       "      <td>...</td>\n",
       "      <td>4.336879</td>\n",
       "      <td>-4.241029</td>\n",
       "      <td>2.285859</td>\n",
       "      <td>2.036946</td>\n",
       "      <td>3.354099</td>\n",
       "      <td>-3.413796</td>\n",
       "      <td>0.194448</td>\n",
       "      <td>-1.176223</td>\n",
       "      <td>4.356856</td>\n",
       "      <td>0.372584</td>\n",
       "    </tr>\n",
       "    <tr>\n",
       "      <th>21</th>\n",
       "      <td>0.025863</td>\n",
       "      <td>-10.337036</td>\n",
       "      <td>-15.156298</td>\n",
       "      <td>-25.620461</td>\n",
       "      <td>8.430117</td>\n",
       "      <td>-3.873592</td>\n",
       "      <td>-0.173890</td>\n",
       "      <td>-9.243781</td>\n",
       "      <td>-0.892269</td>\n",
       "      <td>1.307478</td>\n",
       "      <td>...</td>\n",
       "      <td>-8.468287</td>\n",
       "      <td>-3.363407</td>\n",
       "      <td>7.869890</td>\n",
       "      <td>-3.904848</td>\n",
       "      <td>-0.111836</td>\n",
       "      <td>-3.001601</td>\n",
       "      <td>4.878960</td>\n",
       "      <td>-0.918538</td>\n",
       "      <td>-0.447619</td>\n",
       "      <td>1.151714</td>\n",
       "    </tr>\n",
       "    <tr>\n",
       "      <th>22</th>\n",
       "      <td>-8.088839</td>\n",
       "      <td>-8.811956</td>\n",
       "      <td>21.009315</td>\n",
       "      <td>1.542571</td>\n",
       "      <td>-6.845390</td>\n",
       "      <td>2.735937</td>\n",
       "      <td>10.466574</td>\n",
       "      <td>0.744220</td>\n",
       "      <td>5.237371</td>\n",
       "      <td>0.973605</td>\n",
       "      <td>...</td>\n",
       "      <td>-4.007504</td>\n",
       "      <td>3.035202</td>\n",
       "      <td>1.586499</td>\n",
       "      <td>7.305050</td>\n",
       "      <td>-3.138208</td>\n",
       "      <td>3.187380</td>\n",
       "      <td>4.895433</td>\n",
       "      <td>4.850544</td>\n",
       "      <td>-0.688948</td>\n",
       "      <td>-2.141204</td>\n",
       "    </tr>\n",
       "    <tr>\n",
       "      <th>23</th>\n",
       "      <td>-19.189779</td>\n",
       "      <td>-4.515537</td>\n",
       "      <td>-13.902467</td>\n",
       "      <td>2.458530</td>\n",
       "      <td>-0.064371</td>\n",
       "      <td>-0.389896</td>\n",
       "      <td>9.386049</td>\n",
       "      <td>0.080633</td>\n",
       "      <td>-13.789446</td>\n",
       "      <td>5.285875</td>\n",
       "      <td>...</td>\n",
       "      <td>3.849941</td>\n",
       "      <td>0.970756</td>\n",
       "      <td>0.505882</td>\n",
       "      <td>0.675185</td>\n",
       "      <td>-4.036085</td>\n",
       "      <td>1.242354</td>\n",
       "      <td>6.572327</td>\n",
       "      <td>-2.502454</td>\n",
       "      <td>-1.908799</td>\n",
       "      <td>-0.501886</td>\n",
       "    </tr>\n",
       "    <tr>\n",
       "      <th>24</th>\n",
       "      <td>17.538769</td>\n",
       "      <td>4.627728</td>\n",
       "      <td>-11.958536</td>\n",
       "      <td>-18.914415</td>\n",
       "      <td>3.469100</td>\n",
       "      <td>1.409529</td>\n",
       "      <td>-0.385142</td>\n",
       "      <td>7.624724</td>\n",
       "      <td>-1.351165</td>\n",
       "      <td>7.394822</td>\n",
       "      <td>...</td>\n",
       "      <td>-7.198231</td>\n",
       "      <td>-8.589524</td>\n",
       "      <td>5.348362</td>\n",
       "      <td>4.773992</td>\n",
       "      <td>1.410472</td>\n",
       "      <td>-9.944895</td>\n",
       "      <td>0.324055</td>\n",
       "      <td>5.820310</td>\n",
       "      <td>3.891991</td>\n",
       "      <td>-1.111122</td>\n",
       "    </tr>\n",
       "    <tr>\n",
       "      <th>25</th>\n",
       "      <td>6.111416</td>\n",
       "      <td>-5.461903</td>\n",
       "      <td>3.396623</td>\n",
       "      <td>19.278544</td>\n",
       "      <td>13.316384</td>\n",
       "      <td>-2.591631</td>\n",
       "      <td>5.004937</td>\n",
       "      <td>0.333099</td>\n",
       "      <td>-3.835766</td>\n",
       "      <td>4.107445</td>\n",
       "      <td>...</td>\n",
       "      <td>-6.072174</td>\n",
       "      <td>-8.948078</td>\n",
       "      <td>-3.502908</td>\n",
       "      <td>3.624381</td>\n",
       "      <td>8.819570</td>\n",
       "      <td>3.649076</td>\n",
       "      <td>-0.123787</td>\n",
       "      <td>0.868913</td>\n",
       "      <td>1.695225</td>\n",
       "      <td>6.841114</td>\n",
       "    </tr>\n",
       "    <tr>\n",
       "      <th>26</th>\n",
       "      <td>21.334216</td>\n",
       "      <td>8.105429</td>\n",
       "      <td>18.840911</td>\n",
       "      <td>-2.486462</td>\n",
       "      <td>2.688239</td>\n",
       "      <td>-9.903503</td>\n",
       "      <td>1.551233</td>\n",
       "      <td>-10.297547</td>\n",
       "      <td>-5.617193</td>\n",
       "      <td>-1.163370</td>\n",
       "      <td>...</td>\n",
       "      <td>3.569953</td>\n",
       "      <td>-5.600854</td>\n",
       "      <td>4.731947</td>\n",
       "      <td>-4.400858</td>\n",
       "      <td>1.328686</td>\n",
       "      <td>-3.898282</td>\n",
       "      <td>0.599664</td>\n",
       "      <td>-0.737343</td>\n",
       "      <td>-1.521048</td>\n",
       "      <td>-2.908233</td>\n",
       "    </tr>\n",
       "    <tr>\n",
       "      <th>27</th>\n",
       "      <td>4.775851</td>\n",
       "      <td>-5.181395</td>\n",
       "      <td>-27.294337</td>\n",
       "      <td>-6.177563</td>\n",
       "      <td>0.905970</td>\n",
       "      <td>8.028284</td>\n",
       "      <td>-2.823376</td>\n",
       "      <td>0.453372</td>\n",
       "      <td>-9.100396</td>\n",
       "      <td>0.473396</td>\n",
       "      <td>...</td>\n",
       "      <td>2.279742</td>\n",
       "      <td>-10.344516</td>\n",
       "      <td>-4.062503</td>\n",
       "      <td>-2.290543</td>\n",
       "      <td>-1.928298</td>\n",
       "      <td>5.466851</td>\n",
       "      <td>8.027421</td>\n",
       "      <td>-3.795358</td>\n",
       "      <td>-4.892943</td>\n",
       "      <td>0.937592</td>\n",
       "    </tr>\n",
       "    <tr>\n",
       "      <th>28</th>\n",
       "      <td>0.444740</td>\n",
       "      <td>-7.381746</td>\n",
       "      <td>-0.045612</td>\n",
       "      <td>0.633441</td>\n",
       "      <td>-7.219150</td>\n",
       "      <td>-8.437997</td>\n",
       "      <td>-5.537353</td>\n",
       "      <td>0.288559</td>\n",
       "      <td>-5.610070</td>\n",
       "      <td>-3.887679</td>\n",
       "      <td>...</td>\n",
       "      <td>4.597672</td>\n",
       "      <td>-1.187977</td>\n",
       "      <td>-1.806189</td>\n",
       "      <td>5.258051</td>\n",
       "      <td>5.530939</td>\n",
       "      <td>3.507168</td>\n",
       "      <td>0.500150</td>\n",
       "      <td>1.267480</td>\n",
       "      <td>5.369465</td>\n",
       "      <td>8.637101</td>\n",
       "    </tr>\n",
       "    <tr>\n",
       "      <th>29</th>\n",
       "      <td>-14.534226</td>\n",
       "      <td>9.432623</td>\n",
       "      <td>6.653588</td>\n",
       "      <td>-16.859562</td>\n",
       "      <td>6.062274</td>\n",
       "      <td>-1.390361</td>\n",
       "      <td>4.995878</td>\n",
       "      <td>9.761047</td>\n",
       "      <td>13.128580</td>\n",
       "      <td>-3.144473</td>\n",
       "      <td>...</td>\n",
       "      <td>9.321305</td>\n",
       "      <td>0.341974</td>\n",
       "      <td>3.980544</td>\n",
       "      <td>-0.864324</td>\n",
       "      <td>4.265268</td>\n",
       "      <td>4.118755</td>\n",
       "      <td>-2.167263</td>\n",
       "      <td>-0.990154</td>\n",
       "      <td>3.508809</td>\n",
       "      <td>0.638249</td>\n",
       "    </tr>\n",
       "    <tr>\n",
       "      <th>...</th>\n",
       "      <td>...</td>\n",
       "      <td>...</td>\n",
       "      <td>...</td>\n",
       "      <td>...</td>\n",
       "      <td>...</td>\n",
       "      <td>...</td>\n",
       "      <td>...</td>\n",
       "      <td>...</td>\n",
       "      <td>...</td>\n",
       "      <td>...</td>\n",
       "      <td>...</td>\n",
       "      <td>...</td>\n",
       "      <td>...</td>\n",
       "      <td>...</td>\n",
       "      <td>...</td>\n",
       "      <td>...</td>\n",
       "      <td>...</td>\n",
       "      <td>...</td>\n",
       "      <td>...</td>\n",
       "      <td>...</td>\n",
       "      <td>...</td>\n",
       "    </tr>\n",
       "    <tr>\n",
       "      <th>1767</th>\n",
       "      <td>23.603389</td>\n",
       "      <td>3.410685</td>\n",
       "      <td>-7.377776</td>\n",
       "      <td>-17.263250</td>\n",
       "      <td>8.837097</td>\n",
       "      <td>1.129831</td>\n",
       "      <td>-2.174652</td>\n",
       "      <td>11.097759</td>\n",
       "      <td>-5.985573</td>\n",
       "      <td>3.885567</td>\n",
       "      <td>...</td>\n",
       "      <td>-6.630855</td>\n",
       "      <td>-11.361178</td>\n",
       "      <td>0.125342</td>\n",
       "      <td>0.829030</td>\n",
       "      <td>-2.383562</td>\n",
       "      <td>-3.745775</td>\n",
       "      <td>-3.002026</td>\n",
       "      <td>2.275788</td>\n",
       "      <td>-1.883941</td>\n",
       "      <td>-0.603920</td>\n",
       "    </tr>\n",
       "    <tr>\n",
       "      <th>1768</th>\n",
       "      <td>10.041813</td>\n",
       "      <td>17.004882</td>\n",
       "      <td>8.573499</td>\n",
       "      <td>2.843758</td>\n",
       "      <td>-7.561633</td>\n",
       "      <td>-11.782870</td>\n",
       "      <td>-3.221166</td>\n",
       "      <td>-1.375143</td>\n",
       "      <td>4.604675</td>\n",
       "      <td>1.425735</td>\n",
       "      <td>...</td>\n",
       "      <td>8.621166</td>\n",
       "      <td>-8.549768</td>\n",
       "      <td>-3.896578</td>\n",
       "      <td>-1.390932</td>\n",
       "      <td>3.269970</td>\n",
       "      <td>-1.284496</td>\n",
       "      <td>-0.713859</td>\n",
       "      <td>-5.309070</td>\n",
       "      <td>0.175212</td>\n",
       "      <td>2.473687</td>\n",
       "    </tr>\n",
       "    <tr>\n",
       "      <th>1769</th>\n",
       "      <td>-8.393398</td>\n",
       "      <td>12.767495</td>\n",
       "      <td>-3.809766</td>\n",
       "      <td>7.724208</td>\n",
       "      <td>18.288799</td>\n",
       "      <td>6.632675</td>\n",
       "      <td>-6.456495</td>\n",
       "      <td>11.032728</td>\n",
       "      <td>1.950276</td>\n",
       "      <td>0.032763</td>\n",
       "      <td>...</td>\n",
       "      <td>-3.379388</td>\n",
       "      <td>2.030742</td>\n",
       "      <td>-2.195760</td>\n",
       "      <td>-1.495267</td>\n",
       "      <td>-4.532119</td>\n",
       "      <td>-1.879903</td>\n",
       "      <td>4.414352</td>\n",
       "      <td>-3.870576</td>\n",
       "      <td>7.035549</td>\n",
       "      <td>0.413966</td>\n",
       "    </tr>\n",
       "    <tr>\n",
       "      <th>1770</th>\n",
       "      <td>-18.681262</td>\n",
       "      <td>-3.664299</td>\n",
       "      <td>-2.109965</td>\n",
       "      <td>-12.302379</td>\n",
       "      <td>9.457849</td>\n",
       "      <td>-1.909416</td>\n",
       "      <td>-2.803259</td>\n",
       "      <td>5.021573</td>\n",
       "      <td>-13.222585</td>\n",
       "      <td>4.561109</td>\n",
       "      <td>...</td>\n",
       "      <td>-3.366313</td>\n",
       "      <td>-1.698233</td>\n",
       "      <td>-3.196301</td>\n",
       "      <td>-2.661279</td>\n",
       "      <td>7.562793</td>\n",
       "      <td>-6.342647</td>\n",
       "      <td>-1.808679</td>\n",
       "      <td>0.428730</td>\n",
       "      <td>-2.996272</td>\n",
       "      <td>-1.510454</td>\n",
       "    </tr>\n",
       "    <tr>\n",
       "      <th>1771</th>\n",
       "      <td>24.435177</td>\n",
       "      <td>0.579442</td>\n",
       "      <td>13.920208</td>\n",
       "      <td>-12.556878</td>\n",
       "      <td>2.966880</td>\n",
       "      <td>-5.203602</td>\n",
       "      <td>-0.613786</td>\n",
       "      <td>-7.275754</td>\n",
       "      <td>-7.403823</td>\n",
       "      <td>3.329871</td>\n",
       "      <td>...</td>\n",
       "      <td>3.726705</td>\n",
       "      <td>-5.985730</td>\n",
       "      <td>6.315020</td>\n",
       "      <td>-0.282884</td>\n",
       "      <td>3.830847</td>\n",
       "      <td>-4.896807</td>\n",
       "      <td>2.859649</td>\n",
       "      <td>-2.486812</td>\n",
       "      <td>-0.954254</td>\n",
       "      <td>1.390865</td>\n",
       "    </tr>\n",
       "    <tr>\n",
       "      <th>1772</th>\n",
       "      <td>-19.232586</td>\n",
       "      <td>5.131407</td>\n",
       "      <td>-11.680005</td>\n",
       "      <td>-3.856167</td>\n",
       "      <td>3.132124</td>\n",
       "      <td>-9.493833</td>\n",
       "      <td>-4.992312</td>\n",
       "      <td>0.943396</td>\n",
       "      <td>0.682191</td>\n",
       "      <td>-10.598947</td>\n",
       "      <td>...</td>\n",
       "      <td>-3.784784</td>\n",
       "      <td>0.037425</td>\n",
       "      <td>3.489972</td>\n",
       "      <td>-1.053096</td>\n",
       "      <td>-2.768679</td>\n",
       "      <td>-2.883113</td>\n",
       "      <td>7.779629</td>\n",
       "      <td>2.580027</td>\n",
       "      <td>-4.073793</td>\n",
       "      <td>4.553033</td>\n",
       "    </tr>\n",
       "    <tr>\n",
       "      <th>1773</th>\n",
       "      <td>15.891464</td>\n",
       "      <td>17.010224</td>\n",
       "      <td>14.880603</td>\n",
       "      <td>0.787633</td>\n",
       "      <td>4.247892</td>\n",
       "      <td>10.153093</td>\n",
       "      <td>-4.490179</td>\n",
       "      <td>-4.676039</td>\n",
       "      <td>-6.876556</td>\n",
       "      <td>-3.625858</td>\n",
       "      <td>...</td>\n",
       "      <td>-0.624319</td>\n",
       "      <td>2.631303</td>\n",
       "      <td>-1.970190</td>\n",
       "      <td>-0.706008</td>\n",
       "      <td>2.816159</td>\n",
       "      <td>4.154761</td>\n",
       "      <td>2.029138</td>\n",
       "      <td>0.587222</td>\n",
       "      <td>-1.102783</td>\n",
       "      <td>1.537262</td>\n",
       "    </tr>\n",
       "    <tr>\n",
       "      <th>1774</th>\n",
       "      <td>10.504041</td>\n",
       "      <td>-14.139549</td>\n",
       "      <td>2.131908</td>\n",
       "      <td>-6.222128</td>\n",
       "      <td>-7.309397</td>\n",
       "      <td>-13.008257</td>\n",
       "      <td>-7.628799</td>\n",
       "      <td>-1.613279</td>\n",
       "      <td>-2.400485</td>\n",
       "      <td>-11.796358</td>\n",
       "      <td>...</td>\n",
       "      <td>4.866891</td>\n",
       "      <td>3.012078</td>\n",
       "      <td>6.561256</td>\n",
       "      <td>-1.995191</td>\n",
       "      <td>0.644754</td>\n",
       "      <td>1.684565</td>\n",
       "      <td>-0.293330</td>\n",
       "      <td>2.656104</td>\n",
       "      <td>2.222125</td>\n",
       "      <td>1.550207</td>\n",
       "    </tr>\n",
       "    <tr>\n",
       "      <th>1775</th>\n",
       "      <td>-3.123061</td>\n",
       "      <td>-23.706716</td>\n",
       "      <td>-4.273468</td>\n",
       "      <td>2.737111</td>\n",
       "      <td>-9.950347</td>\n",
       "      <td>4.742507</td>\n",
       "      <td>-9.775818</td>\n",
       "      <td>8.383444</td>\n",
       "      <td>10.230188</td>\n",
       "      <td>-0.820134</td>\n",
       "      <td>...</td>\n",
       "      <td>3.447722</td>\n",
       "      <td>-8.539772</td>\n",
       "      <td>-1.365184</td>\n",
       "      <td>-0.369247</td>\n",
       "      <td>3.622069</td>\n",
       "      <td>-2.083784</td>\n",
       "      <td>6.807195</td>\n",
       "      <td>7.280236</td>\n",
       "      <td>-1.962131</td>\n",
       "      <td>-2.867073</td>\n",
       "    </tr>\n",
       "    <tr>\n",
       "      <th>1776</th>\n",
       "      <td>-0.916065</td>\n",
       "      <td>10.028630</td>\n",
       "      <td>0.536421</td>\n",
       "      <td>5.127411</td>\n",
       "      <td>17.529055</td>\n",
       "      <td>6.769993</td>\n",
       "      <td>-7.506589</td>\n",
       "      <td>6.991523</td>\n",
       "      <td>-5.835766</td>\n",
       "      <td>-10.289893</td>\n",
       "      <td>...</td>\n",
       "      <td>2.887165</td>\n",
       "      <td>-6.914227</td>\n",
       "      <td>1.737285</td>\n",
       "      <td>-4.317650</td>\n",
       "      <td>-1.278031</td>\n",
       "      <td>2.483969</td>\n",
       "      <td>2.960657</td>\n",
       "      <td>-5.042909</td>\n",
       "      <td>4.324036</td>\n",
       "      <td>4.713441</td>\n",
       "    </tr>\n",
       "    <tr>\n",
       "      <th>1777</th>\n",
       "      <td>20.230825</td>\n",
       "      <td>2.370175</td>\n",
       "      <td>-11.569578</td>\n",
       "      <td>-16.391328</td>\n",
       "      <td>-1.056791</td>\n",
       "      <td>-1.438084</td>\n",
       "      <td>-3.072241</td>\n",
       "      <td>15.430827</td>\n",
       "      <td>-2.259737</td>\n",
       "      <td>10.558728</td>\n",
       "      <td>...</td>\n",
       "      <td>-7.426210</td>\n",
       "      <td>-5.418627</td>\n",
       "      <td>2.547079</td>\n",
       "      <td>-0.245324</td>\n",
       "      <td>-3.858280</td>\n",
       "      <td>-6.728295</td>\n",
       "      <td>-1.259375</td>\n",
       "      <td>2.737187</td>\n",
       "      <td>-2.776501</td>\n",
       "      <td>-2.274967</td>\n",
       "    </tr>\n",
       "    <tr>\n",
       "      <th>1778</th>\n",
       "      <td>26.803275</td>\n",
       "      <td>2.232481</td>\n",
       "      <td>-6.631852</td>\n",
       "      <td>-13.476835</td>\n",
       "      <td>-5.804676</td>\n",
       "      <td>-10.300758</td>\n",
       "      <td>0.301330</td>\n",
       "      <td>7.393904</td>\n",
       "      <td>-4.228339</td>\n",
       "      <td>9.094608</td>\n",
       "      <td>...</td>\n",
       "      <td>-1.990233</td>\n",
       "      <td>-0.267713</td>\n",
       "      <td>13.076236</td>\n",
       "      <td>-7.304121</td>\n",
       "      <td>-7.104709</td>\n",
       "      <td>-2.614568</td>\n",
       "      <td>3.623532</td>\n",
       "      <td>3.709904</td>\n",
       "      <td>-1.693609</td>\n",
       "      <td>0.856093</td>\n",
       "    </tr>\n",
       "    <tr>\n",
       "      <th>1779</th>\n",
       "      <td>3.348993</td>\n",
       "      <td>-19.373979</td>\n",
       "      <td>-19.379108</td>\n",
       "      <td>7.076001</td>\n",
       "      <td>-8.932529</td>\n",
       "      <td>17.825665</td>\n",
       "      <td>-2.158253</td>\n",
       "      <td>-2.513133</td>\n",
       "      <td>-1.037425</td>\n",
       "      <td>7.755825</td>\n",
       "      <td>...</td>\n",
       "      <td>-0.024035</td>\n",
       "      <td>-2.928193</td>\n",
       "      <td>0.047217</td>\n",
       "      <td>-5.753803</td>\n",
       "      <td>0.905092</td>\n",
       "      <td>-2.912140</td>\n",
       "      <td>9.304755</td>\n",
       "      <td>-5.087381</td>\n",
       "      <td>1.263104</td>\n",
       "      <td>0.117420</td>\n",
       "    </tr>\n",
       "    <tr>\n",
       "      <th>1780</th>\n",
       "      <td>-10.178755</td>\n",
       "      <td>-10.063054</td>\n",
       "      <td>20.382813</td>\n",
       "      <td>1.949376</td>\n",
       "      <td>-5.143140</td>\n",
       "      <td>-5.236881</td>\n",
       "      <td>13.667567</td>\n",
       "      <td>6.646697</td>\n",
       "      <td>-6.445818</td>\n",
       "      <td>-4.084969</td>\n",
       "      <td>...</td>\n",
       "      <td>-2.000563</td>\n",
       "      <td>-0.756742</td>\n",
       "      <td>8.175171</td>\n",
       "      <td>5.190572</td>\n",
       "      <td>-4.421601</td>\n",
       "      <td>0.267911</td>\n",
       "      <td>2.903214</td>\n",
       "      <td>-1.428328</td>\n",
       "      <td>-2.383494</td>\n",
       "      <td>2.242381</td>\n",
       "    </tr>\n",
       "    <tr>\n",
       "      <th>1781</th>\n",
       "      <td>0.304710</td>\n",
       "      <td>-0.501421</td>\n",
       "      <td>11.263269</td>\n",
       "      <td>-4.642743</td>\n",
       "      <td>3.369981</td>\n",
       "      <td>-11.576585</td>\n",
       "      <td>-12.057207</td>\n",
       "      <td>7.684218</td>\n",
       "      <td>-11.002270</td>\n",
       "      <td>-6.576703</td>\n",
       "      <td>...</td>\n",
       "      <td>4.656769</td>\n",
       "      <td>4.942841</td>\n",
       "      <td>1.070685</td>\n",
       "      <td>-1.667786</td>\n",
       "      <td>0.067087</td>\n",
       "      <td>7.136306</td>\n",
       "      <td>-0.494888</td>\n",
       "      <td>1.295840</td>\n",
       "      <td>5.240731</td>\n",
       "      <td>-5.745599</td>\n",
       "    </tr>\n",
       "    <tr>\n",
       "      <th>1782</th>\n",
       "      <td>-6.848574</td>\n",
       "      <td>-11.773852</td>\n",
       "      <td>26.291819</td>\n",
       "      <td>-1.939531</td>\n",
       "      <td>-0.556529</td>\n",
       "      <td>-3.133265</td>\n",
       "      <td>12.912532</td>\n",
       "      <td>1.526738</td>\n",
       "      <td>0.376071</td>\n",
       "      <td>-4.859131</td>\n",
       "      <td>...</td>\n",
       "      <td>-1.391237</td>\n",
       "      <td>-1.044291</td>\n",
       "      <td>8.137220</td>\n",
       "      <td>6.613767</td>\n",
       "      <td>-3.802800</td>\n",
       "      <td>3.133839</td>\n",
       "      <td>1.923307</td>\n",
       "      <td>-5.727869</td>\n",
       "      <td>0.540890</td>\n",
       "      <td>1.281046</td>\n",
       "    </tr>\n",
       "    <tr>\n",
       "      <th>1783</th>\n",
       "      <td>-7.866848</td>\n",
       "      <td>-7.597505</td>\n",
       "      <td>23.252013</td>\n",
       "      <td>0.499842</td>\n",
       "      <td>-0.955172</td>\n",
       "      <td>1.429836</td>\n",
       "      <td>10.184763</td>\n",
       "      <td>7.236022</td>\n",
       "      <td>-4.897971</td>\n",
       "      <td>2.237734</td>\n",
       "      <td>...</td>\n",
       "      <td>4.718065</td>\n",
       "      <td>0.292173</td>\n",
       "      <td>3.304750</td>\n",
       "      <td>6.203967</td>\n",
       "      <td>-1.222575</td>\n",
       "      <td>-4.307402</td>\n",
       "      <td>7.567274</td>\n",
       "      <td>-9.699582</td>\n",
       "      <td>0.130259</td>\n",
       "      <td>4.033316</td>\n",
       "    </tr>\n",
       "    <tr>\n",
       "      <th>1784</th>\n",
       "      <td>1.577102</td>\n",
       "      <td>11.487581</td>\n",
       "      <td>-10.045598</td>\n",
       "      <td>-3.796643</td>\n",
       "      <td>16.939811</td>\n",
       "      <td>7.705246</td>\n",
       "      <td>-8.269655</td>\n",
       "      <td>1.551594</td>\n",
       "      <td>-1.561829</td>\n",
       "      <td>-0.402809</td>\n",
       "      <td>...</td>\n",
       "      <td>-0.689050</td>\n",
       "      <td>0.178915</td>\n",
       "      <td>-5.211370</td>\n",
       "      <td>2.435668</td>\n",
       "      <td>-4.090148</td>\n",
       "      <td>0.414699</td>\n",
       "      <td>4.345308</td>\n",
       "      <td>0.944475</td>\n",
       "      <td>7.485068</td>\n",
       "      <td>-0.820595</td>\n",
       "    </tr>\n",
       "    <tr>\n",
       "      <th>1785</th>\n",
       "      <td>3.886732</td>\n",
       "      <td>-18.747279</td>\n",
       "      <td>-1.202198</td>\n",
       "      <td>6.126631</td>\n",
       "      <td>-12.374653</td>\n",
       "      <td>7.725979</td>\n",
       "      <td>-8.846037</td>\n",
       "      <td>17.785583</td>\n",
       "      <td>3.498789</td>\n",
       "      <td>-6.338002</td>\n",
       "      <td>...</td>\n",
       "      <td>-0.701592</td>\n",
       "      <td>-4.620417</td>\n",
       "      <td>2.097152</td>\n",
       "      <td>-2.974473</td>\n",
       "      <td>1.261495</td>\n",
       "      <td>2.782222</td>\n",
       "      <td>3.104334</td>\n",
       "      <td>2.684954</td>\n",
       "      <td>-1.370341</td>\n",
       "      <td>-5.320191</td>\n",
       "    </tr>\n",
       "    <tr>\n",
       "      <th>1786</th>\n",
       "      <td>-16.654895</td>\n",
       "      <td>7.941859</td>\n",
       "      <td>-11.326136</td>\n",
       "      <td>-13.257679</td>\n",
       "      <td>0.178399</td>\n",
       "      <td>-8.927402</td>\n",
       "      <td>5.563188</td>\n",
       "      <td>1.551062</td>\n",
       "      <td>3.518818</td>\n",
       "      <td>-10.306083</td>\n",
       "      <td>...</td>\n",
       "      <td>5.468851</td>\n",
       "      <td>-1.325489</td>\n",
       "      <td>-1.761733</td>\n",
       "      <td>1.416028</td>\n",
       "      <td>1.405886</td>\n",
       "      <td>-0.609587</td>\n",
       "      <td>-8.736870</td>\n",
       "      <td>-0.555523</td>\n",
       "      <td>4.792739</td>\n",
       "      <td>-2.358764</td>\n",
       "    </tr>\n",
       "    <tr>\n",
       "      <th>1787</th>\n",
       "      <td>-3.972454</td>\n",
       "      <td>14.027017</td>\n",
       "      <td>-1.300132</td>\n",
       "      <td>0.515194</td>\n",
       "      <td>15.590865</td>\n",
       "      <td>-3.653225</td>\n",
       "      <td>-4.855512</td>\n",
       "      <td>11.826950</td>\n",
       "      <td>4.136985</td>\n",
       "      <td>-7.431272</td>\n",
       "      <td>...</td>\n",
       "      <td>6.583521</td>\n",
       "      <td>0.747064</td>\n",
       "      <td>0.936476</td>\n",
       "      <td>-3.705793</td>\n",
       "      <td>-3.954268</td>\n",
       "      <td>-0.265000</td>\n",
       "      <td>7.247511</td>\n",
       "      <td>0.653963</td>\n",
       "      <td>5.384897</td>\n",
       "      <td>0.319115</td>\n",
       "    </tr>\n",
       "    <tr>\n",
       "      <th>1788</th>\n",
       "      <td>28.181201</td>\n",
       "      <td>7.782533</td>\n",
       "      <td>-8.989933</td>\n",
       "      <td>-13.685194</td>\n",
       "      <td>-0.834689</td>\n",
       "      <td>-6.881953</td>\n",
       "      <td>2.018589</td>\n",
       "      <td>7.619386</td>\n",
       "      <td>-3.977701</td>\n",
       "      <td>5.864518</td>\n",
       "      <td>...</td>\n",
       "      <td>-5.926346</td>\n",
       "      <td>-1.625628</td>\n",
       "      <td>11.572344</td>\n",
       "      <td>-2.009598</td>\n",
       "      <td>-5.640375</td>\n",
       "      <td>-3.761401</td>\n",
       "      <td>-2.317045</td>\n",
       "      <td>3.672455</td>\n",
       "      <td>-0.348274</td>\n",
       "      <td>-1.619445</td>\n",
       "    </tr>\n",
       "    <tr>\n",
       "      <th>1789</th>\n",
       "      <td>3.553325</td>\n",
       "      <td>-17.972233</td>\n",
       "      <td>11.070565</td>\n",
       "      <td>4.013980</td>\n",
       "      <td>-6.142755</td>\n",
       "      <td>-12.430583</td>\n",
       "      <td>-5.408808</td>\n",
       "      <td>-1.479341</td>\n",
       "      <td>-4.338216</td>\n",
       "      <td>-4.828520</td>\n",
       "      <td>...</td>\n",
       "      <td>7.484196</td>\n",
       "      <td>6.739240</td>\n",
       "      <td>0.210262</td>\n",
       "      <td>1.953708</td>\n",
       "      <td>7.105830</td>\n",
       "      <td>2.869076</td>\n",
       "      <td>-0.619639</td>\n",
       "      <td>-7.311484</td>\n",
       "      <td>-2.286551</td>\n",
       "      <td>-0.719675</td>\n",
       "    </tr>\n",
       "    <tr>\n",
       "      <th>1790</th>\n",
       "      <td>0.134671</td>\n",
       "      <td>-18.647259</td>\n",
       "      <td>3.948382</td>\n",
       "      <td>-7.464598</td>\n",
       "      <td>-7.616214</td>\n",
       "      <td>-7.327814</td>\n",
       "      <td>3.817468</td>\n",
       "      <td>-0.051256</td>\n",
       "      <td>-5.667440</td>\n",
       "      <td>-6.045155</td>\n",
       "      <td>...</td>\n",
       "      <td>6.542860</td>\n",
       "      <td>5.175129</td>\n",
       "      <td>-0.630795</td>\n",
       "      <td>3.233588</td>\n",
       "      <td>-0.788661</td>\n",
       "      <td>-5.252850</td>\n",
       "      <td>0.870233</td>\n",
       "      <td>-4.871447</td>\n",
       "      <td>1.058367</td>\n",
       "      <td>0.331589</td>\n",
       "    </tr>\n",
       "    <tr>\n",
       "      <th>1791</th>\n",
       "      <td>31.700125</td>\n",
       "      <td>2.783566</td>\n",
       "      <td>-9.159835</td>\n",
       "      <td>-6.848744</td>\n",
       "      <td>0.279665</td>\n",
       "      <td>-3.237696</td>\n",
       "      <td>2.953844</td>\n",
       "      <td>5.778250</td>\n",
       "      <td>-3.949160</td>\n",
       "      <td>-2.086340</td>\n",
       "      <td>...</td>\n",
       "      <td>-6.619098</td>\n",
       "      <td>-2.380675</td>\n",
       "      <td>6.561065</td>\n",
       "      <td>-0.619901</td>\n",
       "      <td>-7.225144</td>\n",
       "      <td>0.252967</td>\n",
       "      <td>-5.507605</td>\n",
       "      <td>4.700574</td>\n",
       "      <td>2.166605</td>\n",
       "      <td>-0.235210</td>\n",
       "    </tr>\n",
       "    <tr>\n",
       "      <th>1792</th>\n",
       "      <td>-14.606628</td>\n",
       "      <td>13.344124</td>\n",
       "      <td>-13.439048</td>\n",
       "      <td>-6.502950</td>\n",
       "      <td>3.787472</td>\n",
       "      <td>-2.729848</td>\n",
       "      <td>-4.432327</td>\n",
       "      <td>-3.914347</td>\n",
       "      <td>7.320933</td>\n",
       "      <td>-8.449179</td>\n",
       "      <td>...</td>\n",
       "      <td>6.537875</td>\n",
       "      <td>-0.946252</td>\n",
       "      <td>-2.127997</td>\n",
       "      <td>1.628319</td>\n",
       "      <td>-3.844831</td>\n",
       "      <td>-3.076748</td>\n",
       "      <td>0.380713</td>\n",
       "      <td>1.395554</td>\n",
       "      <td>1.613182</td>\n",
       "      <td>1.732102</td>\n",
       "    </tr>\n",
       "    <tr>\n",
       "      <th>1793</th>\n",
       "      <td>6.464574</td>\n",
       "      <td>20.567299</td>\n",
       "      <td>-9.155110</td>\n",
       "      <td>12.554091</td>\n",
       "      <td>-9.015978</td>\n",
       "      <td>-13.707147</td>\n",
       "      <td>3.831286</td>\n",
       "      <td>-3.756258</td>\n",
       "      <td>-7.192802</td>\n",
       "      <td>-5.239837</td>\n",
       "      <td>...</td>\n",
       "      <td>4.635722</td>\n",
       "      <td>-3.010958</td>\n",
       "      <td>5.710354</td>\n",
       "      <td>-5.352696</td>\n",
       "      <td>1.595500</td>\n",
       "      <td>0.078729</td>\n",
       "      <td>1.284258</td>\n",
       "      <td>-1.824998</td>\n",
       "      <td>-0.317365</td>\n",
       "      <td>-3.994398</td>\n",
       "    </tr>\n",
       "    <tr>\n",
       "      <th>1794</th>\n",
       "      <td>10.801284</td>\n",
       "      <td>-6.960252</td>\n",
       "      <td>5.599555</td>\n",
       "      <td>-7.227733</td>\n",
       "      <td>-3.459646</td>\n",
       "      <td>-12.375204</td>\n",
       "      <td>-4.489790</td>\n",
       "      <td>-7.415072</td>\n",
       "      <td>-3.961585</td>\n",
       "      <td>-13.065095</td>\n",
       "      <td>...</td>\n",
       "      <td>3.777240</td>\n",
       "      <td>3.464361</td>\n",
       "      <td>1.270590</td>\n",
       "      <td>2.665240</td>\n",
       "      <td>-5.845452</td>\n",
       "      <td>-3.741173</td>\n",
       "      <td>2.488660</td>\n",
       "      <td>0.977291</td>\n",
       "      <td>2.400419</td>\n",
       "      <td>-0.732898</td>\n",
       "    </tr>\n",
       "    <tr>\n",
       "      <th>1795</th>\n",
       "      <td>-4.872100</td>\n",
       "      <td>12.423954</td>\n",
       "      <td>-10.170866</td>\n",
       "      <td>-6.668850</td>\n",
       "      <td>3.569061</td>\n",
       "      <td>-0.003897</td>\n",
       "      <td>-2.994734</td>\n",
       "      <td>-4.357892</td>\n",
       "      <td>3.939242</td>\n",
       "      <td>-13.145255</td>\n",
       "      <td>...</td>\n",
       "      <td>1.200413</td>\n",
       "      <td>-9.370378</td>\n",
       "      <td>-1.240067</td>\n",
       "      <td>10.747079</td>\n",
       "      <td>2.409543</td>\n",
       "      <td>-2.315169</td>\n",
       "      <td>-0.606065</td>\n",
       "      <td>6.554177</td>\n",
       "      <td>-0.076164</td>\n",
       "      <td>1.871624</td>\n",
       "    </tr>\n",
       "    <tr>\n",
       "      <th>1796</th>\n",
       "      <td>-0.344390</td>\n",
       "      <td>6.365549</td>\n",
       "      <td>10.773708</td>\n",
       "      <td>-7.726213</td>\n",
       "      <td>-3.310615</td>\n",
       "      <td>-3.049063</td>\n",
       "      <td>-11.611998</td>\n",
       "      <td>0.669021</td>\n",
       "      <td>-4.113165</td>\n",
       "      <td>-12.562004</td>\n",
       "      <td>...</td>\n",
       "      <td>6.135903</td>\n",
       "      <td>4.675795</td>\n",
       "      <td>7.071366</td>\n",
       "      <td>0.795903</td>\n",
       "      <td>0.201541</td>\n",
       "      <td>0.737526</td>\n",
       "      <td>-2.101763</td>\n",
       "      <td>0.189250</td>\n",
       "      <td>5.301002</td>\n",
       "      <td>0.111199</td>\n",
       "    </tr>\n",
       "  </tbody>\n",
       "</table>\n",
       "<p>1797 rows × 21 columns</p>\n",
       "</div>"
      ],
      "text/plain": [
       "             0          1          2          3          4          5   \\\n",
       "0     -1.259466  21.274883  -9.463055  13.014189  -7.128823  -7.440659   \n",
       "1      7.957611 -20.768699   4.439506 -14.893664   5.896249  -6.485622   \n",
       "2      6.991923  -9.955986   2.958558 -12.288302 -18.126023  -4.507664   \n",
       "3    -15.906105   3.332464   9.824372 -12.275838   6.965169   1.089483   \n",
       "4     23.306867   4.269061  -5.675129 -13.851524  -0.358124  -2.857574   \n",
       "5    -14.087086   7.914448   0.392494 -14.411096   8.484942 -10.863487   \n",
       "6     21.363410   5.288340  15.087405  -5.138381   4.581129  -4.362263   \n",
       "7     -2.952607 -21.071664 -12.282900  10.439277  -6.243046  12.747425   \n",
       "8     -5.255134   1.183360   5.796257  -5.549540  -7.261641  -2.869018   \n",
       "9     -5.480199   8.076324  -5.028084  -2.448339   3.288928  -0.775943   \n",
       "10    11.215079  16.919862 -10.066849   9.747088  -5.673415  -8.104378   \n",
       "11     3.009182 -11.994810 -14.131402 -28.090307   5.315725  -4.501819   \n",
       "12    -2.414193  -4.851664  16.133972   1.167473   4.611619   3.409673   \n",
       "13   -23.255618  -1.906755  -4.206618 -10.282753   1.007015  -1.375890   \n",
       "14    24.456735   2.661290 -14.871619  -8.151311   0.511467  -2.683787   \n",
       "15    -1.400726 -15.861296   3.828854  18.598940  21.178675  -4.611226   \n",
       "16    17.166674  -2.389205  16.198733 -18.429586  -1.816371  12.556577   \n",
       "17     5.616054 -12.926353 -12.961373   1.414138  -7.567184   5.738908   \n",
       "18    -2.845155 -14.289641  -1.033610   4.671070  -2.481983 -10.622151   \n",
       "19   -13.771359   8.846406  11.720652 -13.774390   4.619709   5.857390   \n",
       "20     6.435364  19.477106 -10.203479   6.817177 -11.128670  -8.456769   \n",
       "21     0.025863 -10.337036 -15.156298 -25.620461   8.430117  -3.873592   \n",
       "22    -8.088839  -8.811956  21.009315   1.542571  -6.845390   2.735937   \n",
       "23   -19.189779  -4.515537 -13.902467   2.458530  -0.064371  -0.389896   \n",
       "24    17.538769   4.627728 -11.958536 -18.914415   3.469100   1.409529   \n",
       "25     6.111416  -5.461903   3.396623  19.278544  13.316384  -2.591631   \n",
       "26    21.334216   8.105429  18.840911  -2.486462   2.688239  -9.903503   \n",
       "27     4.775851  -5.181395 -27.294337  -6.177563   0.905970   8.028284   \n",
       "28     0.444740  -7.381746  -0.045612   0.633441  -7.219150  -8.437997   \n",
       "29   -14.534226   9.432623   6.653588 -16.859562   6.062274  -1.390361   \n",
       "...         ...        ...        ...        ...        ...        ...   \n",
       "1767  23.603389   3.410685  -7.377776 -17.263250   8.837097   1.129831   \n",
       "1768  10.041813  17.004882   8.573499   2.843758  -7.561633 -11.782870   \n",
       "1769  -8.393398  12.767495  -3.809766   7.724208  18.288799   6.632675   \n",
       "1770 -18.681262  -3.664299  -2.109965 -12.302379   9.457849  -1.909416   \n",
       "1771  24.435177   0.579442  13.920208 -12.556878   2.966880  -5.203602   \n",
       "1772 -19.232586   5.131407 -11.680005  -3.856167   3.132124  -9.493833   \n",
       "1773  15.891464  17.010224  14.880603   0.787633   4.247892  10.153093   \n",
       "1774  10.504041 -14.139549   2.131908  -6.222128  -7.309397 -13.008257   \n",
       "1775  -3.123061 -23.706716  -4.273468   2.737111  -9.950347   4.742507   \n",
       "1776  -0.916065  10.028630   0.536421   5.127411  17.529055   6.769993   \n",
       "1777  20.230825   2.370175 -11.569578 -16.391328  -1.056791  -1.438084   \n",
       "1778  26.803275   2.232481  -6.631852 -13.476835  -5.804676 -10.300758   \n",
       "1779   3.348993 -19.373979 -19.379108   7.076001  -8.932529  17.825665   \n",
       "1780 -10.178755 -10.063054  20.382813   1.949376  -5.143140  -5.236881   \n",
       "1781   0.304710  -0.501421  11.263269  -4.642743   3.369981 -11.576585   \n",
       "1782  -6.848574 -11.773852  26.291819  -1.939531  -0.556529  -3.133265   \n",
       "1783  -7.866848  -7.597505  23.252013   0.499842  -0.955172   1.429836   \n",
       "1784   1.577102  11.487581 -10.045598  -3.796643  16.939811   7.705246   \n",
       "1785   3.886732 -18.747279  -1.202198   6.126631 -12.374653   7.725979   \n",
       "1786 -16.654895   7.941859 -11.326136 -13.257679   0.178399  -8.927402   \n",
       "1787  -3.972454  14.027017  -1.300132   0.515194  15.590865  -3.653225   \n",
       "1788  28.181201   7.782533  -8.989933 -13.685194  -0.834689  -6.881953   \n",
       "1789   3.553325 -17.972233  11.070565   4.013980  -6.142755 -12.430583   \n",
       "1790   0.134671 -18.647259   3.948382  -7.464598  -7.616214  -7.327814   \n",
       "1791  31.700125   2.783566  -9.159835  -6.848744   0.279665  -3.237696   \n",
       "1792 -14.606628  13.344124 -13.439048  -6.502950   3.787472  -2.729848   \n",
       "1793   6.464574  20.567299  -9.155110  12.554091  -9.015978 -13.707147   \n",
       "1794  10.801284  -6.960252   5.599555  -7.227733  -3.459646 -12.375204   \n",
       "1795  -4.872100  12.423954 -10.170866  -6.668850   3.569061  -0.003897   \n",
       "1796  -0.344390   6.365549  10.773708  -7.726213  -3.310615  -3.049063   \n",
       "\n",
       "             6          7          8          9     ...           11  \\\n",
       "0      3.252837   2.553470  -0.581842   3.625697    ...     1.551607   \n",
       "1      2.126228  -4.615936   3.587450  -1.074705    ...    -2.129511   \n",
       "2      1.843122 -16.415200   0.719233   4.255805    ...    -0.383791   \n",
       "3     -1.042085  10.973556  -3.259735   6.498753    ...     2.396152   \n",
       "4     -0.720497  13.041696  -3.835413  13.414164    ...    -1.755831   \n",
       "5     -1.412462   7.276308   4.323042  -8.569364    ...     6.262294   \n",
       "6      1.345093  -6.201436  -3.910789   2.149197    ...     5.166790   \n",
       "7     -8.551552  -2.014313   4.004643  10.654946    ...     1.635481   \n",
       "8     -8.559843  -5.504599  -6.049485  -5.794185    ...     3.590770   \n",
       "9     -4.548299   6.918049   6.644250 -12.565308    ...    -2.817200   \n",
       "10    -3.342633  -7.120773   0.375276   6.542028    ...     5.559847   \n",
       "11    -4.019540  -6.327492  -4.703865   4.524697    ...    -8.913973   \n",
       "12    21.785899  -1.662206   6.377970  -1.671673    ...    -5.380450   \n",
       "13     1.225014   0.311631 -12.126955   2.378355    ...     2.385318   \n",
       "14     3.826325   5.557072  -1.043477  -5.382167    ...    -2.687401   \n",
       "15     0.918599  -0.983540   0.867036   0.773426    ...     0.278111   \n",
       "16     0.847744  -1.515305  -0.788440   6.071408    ...     7.024602   \n",
       "17    -1.526154   1.663485  -2.681518  -9.129541    ...    -4.519762   \n",
       "18    -8.042042   0.807378  -2.127410  14.490738    ...    -0.792330   \n",
       "19     7.229925  10.392667  14.777802   5.895665    ...     8.413927   \n",
       "20     0.097204  -4.129091   3.055680  -2.834407    ...     4.336879   \n",
       "21    -0.173890  -9.243781  -0.892269   1.307478    ...    -8.468287   \n",
       "22    10.466574   0.744220   5.237371   0.973605    ...    -4.007504   \n",
       "23     9.386049   0.080633 -13.789446   5.285875    ...     3.849941   \n",
       "24    -0.385142   7.624724  -1.351165   7.394822    ...    -7.198231   \n",
       "25     5.004937   0.333099  -3.835766   4.107445    ...    -6.072174   \n",
       "26     1.551233 -10.297547  -5.617193  -1.163370    ...     3.569953   \n",
       "27    -2.823376   0.453372  -9.100396   0.473396    ...     2.279742   \n",
       "28    -5.537353   0.288559  -5.610070  -3.887679    ...     4.597672   \n",
       "29     4.995878   9.761047  13.128580  -3.144473    ...     9.321305   \n",
       "...         ...        ...        ...        ...    ...          ...   \n",
       "1767  -2.174652  11.097759  -5.985573   3.885567    ...    -6.630855   \n",
       "1768  -3.221166  -1.375143   4.604675   1.425735    ...     8.621166   \n",
       "1769  -6.456495  11.032728   1.950276   0.032763    ...    -3.379388   \n",
       "1770  -2.803259   5.021573 -13.222585   4.561109    ...    -3.366313   \n",
       "1771  -0.613786  -7.275754  -7.403823   3.329871    ...     3.726705   \n",
       "1772  -4.992312   0.943396   0.682191 -10.598947    ...    -3.784784   \n",
       "1773  -4.490179  -4.676039  -6.876556  -3.625858    ...    -0.624319   \n",
       "1774  -7.628799  -1.613279  -2.400485 -11.796358    ...     4.866891   \n",
       "1775  -9.775818   8.383444  10.230188  -0.820134    ...     3.447722   \n",
       "1776  -7.506589   6.991523  -5.835766 -10.289893    ...     2.887165   \n",
       "1777  -3.072241  15.430827  -2.259737  10.558728    ...    -7.426210   \n",
       "1778   0.301330   7.393904  -4.228339   9.094608    ...    -1.990233   \n",
       "1779  -2.158253  -2.513133  -1.037425   7.755825    ...    -0.024035   \n",
       "1780  13.667567   6.646697  -6.445818  -4.084969    ...    -2.000563   \n",
       "1781 -12.057207   7.684218 -11.002270  -6.576703    ...     4.656769   \n",
       "1782  12.912532   1.526738   0.376071  -4.859131    ...    -1.391237   \n",
       "1783  10.184763   7.236022  -4.897971   2.237734    ...     4.718065   \n",
       "1784  -8.269655   1.551594  -1.561829  -0.402809    ...    -0.689050   \n",
       "1785  -8.846037  17.785583   3.498789  -6.338002    ...    -0.701592   \n",
       "1786   5.563188   1.551062   3.518818 -10.306083    ...     5.468851   \n",
       "1787  -4.855512  11.826950   4.136985  -7.431272    ...     6.583521   \n",
       "1788   2.018589   7.619386  -3.977701   5.864518    ...    -5.926346   \n",
       "1789  -5.408808  -1.479341  -4.338216  -4.828520    ...     7.484196   \n",
       "1790   3.817468  -0.051256  -5.667440  -6.045155    ...     6.542860   \n",
       "1791   2.953844   5.778250  -3.949160  -2.086340    ...    -6.619098   \n",
       "1792  -4.432327  -3.914347   7.320933  -8.449179    ...     6.537875   \n",
       "1793   3.831286  -3.756258  -7.192802  -5.239837    ...     4.635722   \n",
       "1794  -4.489790  -7.415072  -3.961585 -13.065095    ...     3.777240   \n",
       "1795  -2.994734  -4.357892   3.939242 -13.145255    ...     1.200413   \n",
       "1796 -11.611998   0.669021  -4.113165 -12.562004    ...     6.135903   \n",
       "\n",
       "             12         13         14         15        16         17  \\\n",
       "0      0.854497  -3.338749   5.906590   2.743593  0.419837  -0.898150   \n",
       "1     -2.555324  -6.516996  -2.291764  -2.134027 -5.839357   4.478446   \n",
       "2      0.208885   6.841040  -1.679690  -4.276003  6.728485   1.269848   \n",
       "3      2.653396  -4.538297   0.798339   1.646645 -2.249089  -1.403457   \n",
       "4     -5.285637   1.515267  -0.666908  -6.412871 -9.514895  -1.975814   \n",
       "5      2.832878   0.486186   5.333819   9.057248 -2.335863  -5.492637   \n",
       "6     -3.782620  -0.448282   0.091033   0.934639 -9.925316   3.023572   \n",
       "7      0.492019  11.696499   3.255307  -1.575088  0.181414   9.055385   \n",
       "8     -3.050730   1.230069   2.246085   0.890473 -4.891269  -7.080386   \n",
       "9     -7.798036   1.450362  12.042312  11.622601  0.750258  -8.104629   \n",
       "10    -1.003373  -0.617053   1.273181  -1.006604  1.869474  -0.032452   \n",
       "11    -6.644782   4.421880  -1.719518   3.678169 -0.355100   4.795622   \n",
       "12     7.535771   1.686006   3.562366   4.850453  6.695093  10.218561   \n",
       "13     1.650015  -0.386239   0.513164   3.750607 -0.552293   1.105603   \n",
       "14   -11.142853  -0.564347   0.196654  -3.744390 -4.946372  -7.129842   \n",
       "15     2.802411   3.482206  -8.228433   2.064203  1.514610   2.193963   \n",
       "16    -3.258510   0.432089  -5.721051   1.691650 -3.233893  -7.994293   \n",
       "17    -1.691834  -2.856698   0.264252   0.304916  4.832201  -4.553415   \n",
       "18     0.461727  -5.268013  -3.814154   9.871007  4.825137  -5.171903   \n",
       "19     3.172164  -3.660382  -0.920567   4.883207  3.168685  -6.959234   \n",
       "20    -4.241029   2.285859   2.036946   3.354099 -3.413796   0.194448   \n",
       "21    -3.363407   7.869890  -3.904848  -0.111836 -3.001601   4.878960   \n",
       "22     3.035202   1.586499   7.305050  -3.138208  3.187380   4.895433   \n",
       "23     0.970756   0.505882   0.675185  -4.036085  1.242354   6.572327   \n",
       "24    -8.589524   5.348362   4.773992   1.410472 -9.944895   0.324055   \n",
       "25    -8.948078  -3.502908   3.624381   8.819570  3.649076  -0.123787   \n",
       "26    -5.600854   4.731947  -4.400858   1.328686 -3.898282   0.599664   \n",
       "27   -10.344516  -4.062503  -2.290543  -1.928298  5.466851   8.027421   \n",
       "28    -1.187977  -1.806189   5.258051   5.530939  3.507168   0.500150   \n",
       "29     0.341974   3.980544  -0.864324   4.265268  4.118755  -2.167263   \n",
       "...         ...        ...        ...        ...       ...        ...   \n",
       "1767 -11.361178   0.125342   0.829030  -2.383562 -3.745775  -3.002026   \n",
       "1768  -8.549768  -3.896578  -1.390932   3.269970 -1.284496  -0.713859   \n",
       "1769   2.030742  -2.195760  -1.495267  -4.532119 -1.879903   4.414352   \n",
       "1770  -1.698233  -3.196301  -2.661279   7.562793 -6.342647  -1.808679   \n",
       "1771  -5.985730   6.315020  -0.282884   3.830847 -4.896807   2.859649   \n",
       "1772   0.037425   3.489972  -1.053096  -2.768679 -2.883113   7.779629   \n",
       "1773   2.631303  -1.970190  -0.706008   2.816159  4.154761   2.029138   \n",
       "1774   3.012078   6.561256  -1.995191   0.644754  1.684565  -0.293330   \n",
       "1775  -8.539772  -1.365184  -0.369247   3.622069 -2.083784   6.807195   \n",
       "1776  -6.914227   1.737285  -4.317650  -1.278031  2.483969   2.960657   \n",
       "1777  -5.418627   2.547079  -0.245324  -3.858280 -6.728295  -1.259375   \n",
       "1778  -0.267713  13.076236  -7.304121  -7.104709 -2.614568   3.623532   \n",
       "1779  -2.928193   0.047217  -5.753803   0.905092 -2.912140   9.304755   \n",
       "1780  -0.756742   8.175171   5.190572  -4.421601  0.267911   2.903214   \n",
       "1781   4.942841   1.070685  -1.667786   0.067087  7.136306  -0.494888   \n",
       "1782  -1.044291   8.137220   6.613767  -3.802800  3.133839   1.923307   \n",
       "1783   0.292173   3.304750   6.203967  -1.222575 -4.307402   7.567274   \n",
       "1784   0.178915  -5.211370   2.435668  -4.090148  0.414699   4.345308   \n",
       "1785  -4.620417   2.097152  -2.974473   1.261495  2.782222   3.104334   \n",
       "1786  -1.325489  -1.761733   1.416028   1.405886 -0.609587  -8.736870   \n",
       "1787   0.747064   0.936476  -3.705793  -3.954268 -0.265000   7.247511   \n",
       "1788  -1.625628  11.572344  -2.009598  -5.640375 -3.761401  -2.317045   \n",
       "1789   6.739240   0.210262   1.953708   7.105830  2.869076  -0.619639   \n",
       "1790   5.175129  -0.630795   3.233588  -0.788661 -5.252850   0.870233   \n",
       "1791  -2.380675   6.561065  -0.619901  -7.225144  0.252967  -5.507605   \n",
       "1792  -0.946252  -2.127997   1.628319  -3.844831 -3.076748   0.380713   \n",
       "1793  -3.010958   5.710354  -5.352696   1.595500  0.078729   1.284258   \n",
       "1794   3.464361   1.270590   2.665240  -5.845452 -3.741173   2.488660   \n",
       "1795  -9.370378  -1.240067  10.747079   2.409543 -2.315169  -0.606065   \n",
       "1796   4.675795   7.071366   0.795903   0.201541  0.737526  -2.101763   \n",
       "\n",
       "            18        19        20  \n",
       "0     0.702611 -3.462119  2.680850  \n",
       "1    -1.955703 -5.255708 -1.205777  \n",
       "2     0.184780  8.731076  4.951115  \n",
       "3     3.068280 -3.876889  0.269413  \n",
       "4    -3.065115  5.035236  0.206830  \n",
       "5    -3.752422 -0.419553  2.222976  \n",
       "6     0.036474  1.418830 -3.409867  \n",
       "7    -3.396561 -3.303580 -2.247712  \n",
       "8     5.359460 -0.222936  1.664052  \n",
       "9    -5.566889  5.432563  4.392149  \n",
       "10   -0.134183  1.373195 -1.808394  \n",
       "11   -1.285632  2.059077  0.517280  \n",
       "12    0.336205 -1.757705 -0.155057  \n",
       "13   -4.370086 -2.774506 -2.382183  \n",
       "14    1.425786 -1.347756 -3.377004  \n",
       "15    1.163180 -0.342409  2.721770  \n",
       "16    1.337026 -3.963054  4.395486  \n",
       "17   -2.809312  4.497285  4.111215  \n",
       "18   -1.575325  4.475795  6.244725  \n",
       "19   -2.304958  4.166841 -4.345073  \n",
       "20   -1.176223  4.356856  0.372584  \n",
       "21   -0.918538 -0.447619  1.151714  \n",
       "22    4.850544 -0.688948 -2.141204  \n",
       "23   -2.502454 -1.908799 -0.501886  \n",
       "24    5.820310  3.891991 -1.111122  \n",
       "25    0.868913  1.695225  6.841114  \n",
       "26   -0.737343 -1.521048 -2.908233  \n",
       "27   -3.795358 -4.892943  0.937592  \n",
       "28    1.267480  5.369465  8.637101  \n",
       "29   -0.990154  3.508809  0.638249  \n",
       "...        ...       ...       ...  \n",
       "1767  2.275788 -1.883941 -0.603920  \n",
       "1768 -5.309070  0.175212  2.473687  \n",
       "1769 -3.870576  7.035549  0.413966  \n",
       "1770  0.428730 -2.996272 -1.510454  \n",
       "1771 -2.486812 -0.954254  1.390865  \n",
       "1772  2.580027 -4.073793  4.553033  \n",
       "1773  0.587222 -1.102783  1.537262  \n",
       "1774  2.656104  2.222125  1.550207  \n",
       "1775  7.280236 -1.962131 -2.867073  \n",
       "1776 -5.042909  4.324036  4.713441  \n",
       "1777  2.737187 -2.776501 -2.274967  \n",
       "1778  3.709904 -1.693609  0.856093  \n",
       "1779 -5.087381  1.263104  0.117420  \n",
       "1780 -1.428328 -2.383494  2.242381  \n",
       "1781  1.295840  5.240731 -5.745599  \n",
       "1782 -5.727869  0.540890  1.281046  \n",
       "1783 -9.699582  0.130259  4.033316  \n",
       "1784  0.944475  7.485068 -0.820595  \n",
       "1785  2.684954 -1.370341 -5.320191  \n",
       "1786 -0.555523  4.792739 -2.358764  \n",
       "1787  0.653963  5.384897  0.319115  \n",
       "1788  3.672455 -0.348274 -1.619445  \n",
       "1789 -7.311484 -2.286551 -0.719675  \n",
       "1790 -4.871447  1.058367  0.331589  \n",
       "1791  4.700574  2.166605 -0.235210  \n",
       "1792  1.395554  1.613182  1.732102  \n",
       "1793 -1.824998 -0.317365 -3.994398  \n",
       "1794  0.977291  2.400419 -0.732898  \n",
       "1795  6.554177 -0.076164  1.871624  \n",
       "1796  0.189250  5.301002  0.111199  \n",
       "\n",
       "[1797 rows x 21 columns]"
      ]
     },
     "execution_count": 95,
     "metadata": {},
     "output_type": "execute_result"
    }
   ],
   "source": [
    "pd.DataFrame(datap)"
   ]
  },
  {
   "cell_type": "code",
   "execution_count": 84,
   "metadata": {
    "collapsed": true
   },
   "outputs": [],
   "source": [
    "# ^ using 21 PCAs, the model explains 90% of the variances"
   ]
  },
  {
   "cell_type": "code",
   "execution_count": 93,
   "metadata": {},
   "outputs": [
    {
     "data": {
      "text/plain": [
       "0.91869192125520072"
      ]
     },
     "execution_count": 93,
     "metadata": {},
     "output_type": "execute_result"
    }
   ],
   "source": [
    "cross_val_score(LogisticRegression(), datap, numbers, cv = 5, scoring = \"accuracy\").mean()\n",
    "#use the pca transformed data on a Logistic regression"
   ]
  },
  {
   "cell_type": "code",
   "execution_count": 86,
   "metadata": {
    "collapsed": true
   },
   "outputs": [],
   "source": [
    "# ^ can it has a close to 92% accuracy score"
   ]
  },
  {
   "cell_type": "code",
   "execution_count": 81,
   "metadata": {},
   "outputs": [
    {
     "name": "stdout",
     "output_type": "stream",
     "text": [
      "(1797, 5)\n"
     ]
    },
    {
     "data": {
      "text/plain": [
       "0.80417161649390356"
      ]
     },
     "execution_count": 81,
     "metadata": {},
     "output_type": "execute_result"
    }
   ],
   "source": [
    "pca = PCA(n_components=0.5)\n",
    "datap = pca.fit_transform(data)\n",
    "print (datap.shape)\n",
    "\n",
    "cross_val_score(LogisticRegression(), datap, numbers, cv = 5, scoring = \"accuracy\").mean()"
   ]
  },
  {
   "cell_type": "code",
   "execution_count": null,
   "metadata": {
    "collapsed": true
   },
   "outputs": [],
   "source": [
    "# use 5 pcas has accuracy score of 80%"
   ]
  },
  {
   "cell_type": "markdown",
   "metadata": {},
   "source": [
    "## Resources:\n",
    "\n",
    "- https://towardsdatascience.com/pca-using-python-scikit-learn-e653f8989e60\n",
    "- https://jakevdp.github.io/PythonDataScienceHandbook/05.09-principal-component-analysis.html\n",
    "- http://setosa.io/ev/principal-component-analysis/\n",
    "- https://georgemdallas.wordpress.com/2013/10/30/principal-component-analysis-4-dummies-eigenvectors-eigenvalues-and-dimension-reduction/\n",
    "- https://github.com/viniciuspantoja/tutorial_PCA/blob/master/Tutorial_PCA.ipynb\n",
    "- http://sebastianraschka.com/Articles/2015_pca_in_3_steps.html\n",
    "- https://towardsdatascience.com/reducing-dimensionality-from-dimensionality-reduction-techniques-f658aec24dfe\n",
    "- https://towardsdatascience.com/exploratory-data-analysis-into-the-relationship-between-different-types-of-crime-in-london-20c328e193ff\n",
    "- https://www.analyticsvidhya.com/blog/2016/03/practical-guide-principal-component-analysis-python/"
   ]
  },
  {
   "cell_type": "code",
   "execution_count": null,
   "metadata": {
    "collapsed": true
   },
   "outputs": [],
   "source": []
  },
  {
   "cell_type": "code",
   "execution_count": null,
   "metadata": {
    "collapsed": true
   },
   "outputs": [],
   "source": []
  },
  {
   "cell_type": "markdown",
   "metadata": {},
   "source": [
    "## In class\n",
    "\n",
    "1. Use PCA on a supervised learning dataset we've worked with previously to see if PCA-transformed data can produce models as good as the original data.\n",
    "\n",
    "2. Use time to work on final project."
   ]
  },
  {
   "cell_type": "code",
   "execution_count": null,
   "metadata": {
    "collapsed": true
   },
   "outputs": [],
   "source": []
  }
 ],
 "metadata": {
  "kernelspec": {
   "display_name": "Python 2",
   "language": "python",
   "name": "python2"
  },
  "language_info": {
   "codemirror_mode": {
    "name": "ipython",
    "version": 2
   },
   "file_extension": ".py",
   "mimetype": "text/x-python",
   "name": "python",
   "nbconvert_exporter": "python",
   "pygments_lexer": "ipython2",
   "version": "2.7.14"
  }
 },
 "nbformat": 4,
 "nbformat_minor": 2
}
