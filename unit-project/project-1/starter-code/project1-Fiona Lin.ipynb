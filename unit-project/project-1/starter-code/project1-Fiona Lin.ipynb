{
 "cells": [
  {
   "cell_type": "markdown",
   "metadata": {},
   "source": [
    "# Project 1\n",
    "\n",
    "In this first project you will create a framework to scope out data science projects. This framework will provide you with a guide to develop a well-articulated problem statement and analysis plan that will be robust and reproducible."
   ]
  },
  {
   "cell_type": "markdown",
   "metadata": {},
   "source": [
    "### Problem statement: \n"
   ]
  },
  {
   "cell_type": "markdown",
   "metadata": {},
   "source": [
    "Determine whether and how much a series of factors influence students' admissions(1= admitted, 0 = not admitted) to the UCLA graduate school. The factors include GRE score, GPA, and the ranking of the student's alma mater. "
   ]
  },
  {
   "cell_type": "markdown",
   "metadata": {},
   "source": [
    "#### 1. What is the outcome?"
   ]
  },
  {
   "cell_type": "markdown",
   "metadata": {},
   "source": [
    "Answer: return admissions indicator(admitted/not admitted)"
   ]
  },
  {
   "cell_type": "markdown",
   "metadata": {},
   "source": [
    "#### 2. What are the predictors/covariates? "
   ]
  },
  {
   "cell_type": "markdown",
   "metadata": {},
   "source": [
    "Answer: GRE(score), GPA(score), prestige(ranking)"
   ]
  },
  {
   "cell_type": "markdown",
   "metadata": {},
   "source": [
    "#### 3. What timeframe is this data relevent for?"
   ]
  },
  {
   "cell_type": "markdown",
   "metadata": {},
   "source": [
    "Answer: Not specified "
   ]
  },
  {
   "cell_type": "markdown",
   "metadata": {},
   "source": [
    "#### 4. What is the hypothesis?"
   ]
  },
  {
   "cell_type": "markdown",
   "metadata": {},
   "source": [
    "Answer: A student's GRE score, GPA and his/her college ranking will allow us to predict whether he/her will be admitted to UCLA graudate school or not."
   ]
  },
  {
   "cell_type": "markdown",
   "metadata": {},
   "source": [
    "### Data Dictionary"
   ]
  },
  {
   "cell_type": "markdown",
   "metadata": {},
   "source": [
    "#### 1. Create a data dictionary "
   ]
  },
  {
   "cell_type": "markdown",
   "metadata": {},
   "source": [
    "Answer: \n",
    "\n",
    "Variable | Description | Type of Variable\n",
    "---| ---| ---\n",
    "admit | 0 = not admitted 1 = admitted | categorical\n",
    "gre | GRE score; interger | continuous \n",
    "gpa | Grade Point Average; float | continuous \n",
    "prestige | the rank of an applicant's undergraduate alma mater, highest: 1 lowest: 4; interger | continuous \n"
   ]
  },
  {
   "cell_type": "markdown",
   "metadata": {},
   "source": [
    "We would like to explore the association between admit and gre, gpa, prestige"
   ]
  },
  {
   "cell_type": "markdown",
   "metadata": {},
   "source": [
    "### Exploratory Analysis Plan"
   ]
  },
  {
   "cell_type": "markdown",
   "metadata": {},
   "source": [
    "#### 1. What are the goals of the exploratory analysis? "
   ]
  },
  {
   "cell_type": "markdown",
   "metadata": {
    "collapsed": true
   },
   "source": [
    "Answer: to understand how the data is distributed (what's the mean, median, mode, variance, standard dev, whether there are outliers, skewness and kurtosis of the data), how big is the data set, how clean is the data (whether there are nulls, problematic values, duplicates), and how accurate is the data (ex. if high GPA/GRE students, students from high prestige schools are mostly not admitted, then there might be issues with the admit label). This step helps us determine whether and how much data cleaning is needed, and how usable is the data."
   ]
  },
  {
   "cell_type": "markdown",
   "metadata": {},
   "source": [
    "#### 2a. What are the assumptions of the distribution of data? "
   ]
  },
  {
   "cell_type": "markdown",
   "metadata": {},
   "source": [
    "Answer: the data is normally distributed (bell-shaped) and is representative of the population."
   ]
  },
  {
   "cell_type": "markdown",
   "metadata": {},
   "source": [
    "#### 2b. How will determine the distribution of your data? "
   ]
  },
  {
   "cell_type": "markdown",
   "metadata": {
    "collapsed": true
   },
   "source": [
    "Answer: using summary statistics such as min, max, mean, standard deviation, and percentiles. "
   ]
  },
  {
   "cell_type": "markdown",
   "metadata": {},
   "source": [
    "#### 3a. How might outliers impact your analysis? "
   ]
  },
  {
   "cell_type": "markdown",
   "metadata": {
    "collapsed": true
   },
   "source": [
    "Answer: outliers affect the mean and the correlation coefficient. For example, an outlier that falls near the regression line will increase the correlation coefficient, while an outlier that falls far from the regression line will decrease the correlation coefficient.\n",
    "\n",
    "outlier that falls near the regression line:\n",
    "![alt text](http://psychstat3.missouristate.edu/Documents/IntroBook3/images/corr38.gif)\n",
    "\n",
    "outlier that falls far from the regression line:\n",
    "![alt text](http://psychstat3.missouristate.edu/Documents/IntroBook3/images/corr37.gif)"
   ]
  },
  {
   "cell_type": "markdown",
   "metadata": {},
   "source": [
    "#### 3b. How will you test for outliers? "
   ]
  },
  {
   "cell_type": "markdown",
   "metadata": {},
   "source": [
    "Answer: using quartlies, calculate the inner fences of the data set. Count the numbers that are larger than or smaller than the inner fences. Inner fences are usually calculated as Q1 - (Q3-Q1)*1.5, and Q3 + (Q3-Q1)*1.5. \n",
    "\n",
    "Alternatively, I will also use df.describe() to look at the min, max, and compare them with the quintiles to see if they are too far off from the distribution."
   ]
  },
  {
   "cell_type": "markdown",
   "metadata": {},
   "source": [
    "#### 4a. What is colinearity? "
   ]
  },
  {
   "cell_type": "markdown",
   "metadata": {
    "collapsed": true
   },
   "source": [
    "Answer: Colinearity means one predictor variable in a multiple regression model can be linearly predicted from the others with a substantial degree of accuracy."
   ]
  },
  {
   "cell_type": "markdown",
   "metadata": {},
   "source": [
    "#### 4b. How will you test for colinearity? "
   ]
  },
  {
   "cell_type": "markdown",
   "metadata": {},
   "source": [
    "Answer: us the corr( ) function to see the correlation coefficient between admit and the factor variables."
   ]
  },
  {
   "cell_type": "markdown",
   "metadata": {},
   "source": [
    "#### 5. What is your exploratory analysis plan?\n",
    "Using the above information, write an exploratory analysis plan that would allow you or a colleague to reproduce your analysis 1 year from now. "
   ]
  },
  {
   "cell_type": "markdown",
   "metadata": {},
   "source": [
    "Answer: There are two parts of the exploratory analysis: data cleaniness and exploration.\n",
    "\n",
    "1. Data cleaning: check for the usability and quality of the data.\n",
    " - Check for duplicatives records\n",
    " - Check for missing values\n",
    " - Check for incorrect data types (ex. a string in a column that should be int only)\n",
    "\n",
    "2. Exploration: now that the data is clean, does it make much sense? \n",
    " - Check number of observations in the data\n",
    " - What are the summary statistics of the data (use df.describe())\n",
    " - Check if there are outliers\n",
    " - Is the variable \"admit\" labeled correctly\n",
    " - Check colinearity between admit and the other variables (use corr( ))\n",
    " - Plot out the distribution of each variable to get a sense of the data"
   ]
  },
  {
   "cell_type": "markdown",
   "metadata": {},
   "source": [
    "### Analysis Method"
   ]
  },
  {
   "cell_type": "markdown",
   "metadata": {},
   "source": [
    "Because we want to predict a binary outcome, I'm going to use the **Logistic Regression** as my model."
   ]
  },
  {
   "cell_type": "markdown",
   "metadata": {},
   "source": [
    "### Other Risks and Assumptions of Data"
   ]
  },
  {
   "cell_type": "markdown",
   "metadata": {},
   "source": [
    "- The independent variables might not be \"independent\"; if a variable is dependent on another, then the model will overweight the significance of the variables.\n",
    "\n",
    "\n",
    "- We might not have the most relevant variables here (for example, maybe a variable related to the letter of recommendation should be included in the model)\n",
    "\n",
    "\n",
    "- The nature of the variable prestige is ranking, which is different from GRE score and GPA score (continuous), need to look into whether this fits the usage of a Logistic Regression model or not"
   ]
  },
  {
   "cell_type": "markdown",
   "metadata": {},
   "source": [
    "## Bonus Questions:\n",
    "1. Outline your analysis method for predicting your outcome\n",
    "2. Write an alternative problem statement for your dataset\n",
    "3. Articulate the assumptions and risks of the alternative model"
   ]
  },
  {
   "cell_type": "markdown",
   "metadata": {
    "collapsed": true
   },
   "source": [
    "### Alternative Problem Statement"
   ]
  },
  {
   "cell_type": "markdown",
   "metadata": {},
   "source": [
    "Using the data set, alternatively, we can see if a student's GPA and school ranking is predictive of his GRE score. "
   ]
  },
  {
   "cell_type": "markdown",
   "metadata": {},
   "source": [
    "#### 1. What is the outcome?"
   ]
  },
  {
   "cell_type": "markdown",
   "metadata": {},
   "source": [
    "Answer: return GRE score"
   ]
  },
  {
   "cell_type": "markdown",
   "metadata": {},
   "source": [
    "#### 2. What are the predictors/covariates? "
   ]
  },
  {
   "cell_type": "markdown",
   "metadata": {},
   "source": [
    "Answer: GPA and prestige"
   ]
  },
  {
   "cell_type": "markdown",
   "metadata": {},
   "source": [
    "#### 3. What is the hypothesis?"
   ]
  },
  {
   "cell_type": "markdown",
   "metadata": {},
   "source": [
    "The hypothesis here is that the higher the GPA and the better school the student is from, the higher the GRE score he/she gets, and that we can use a student's GPA and school prestige to predict his/her GRE score."
   ]
  },
  {
   "cell_type": "markdown",
   "metadata": {},
   "source": [
    "#### 4. Assumptions and Risks"
   ]
  },
  {
   "cell_type": "markdown",
   "metadata": {},
   "source": [
    "- The biggest assumption here is that GPA and school will influence the student's GRE score; however, even though there might be some correlation between the independent variables and the dependent variable, whether it's correlation or causation is something we can not identify.\n",
    "\n",
    "- The two variables might have little predictive power; there might be other variables that are more relevant to a student's GRE score that we are not currently included in the model."
   ]
  },
  {
   "cell_type": "code",
   "execution_count": null,
   "metadata": {
    "collapsed": true
   },
   "outputs": [],
   "source": []
  }
 ],
 "metadata": {
  "kernelspec": {
   "display_name": "Python 2",
   "language": "python",
   "name": "python2"
  },
  "language_info": {
   "codemirror_mode": {
    "name": "ipython",
    "version": 2
   },
   "file_extension": ".py",
   "mimetype": "text/x-python",
   "name": "python",
   "nbconvert_exporter": "python",
   "pygments_lexer": "ipython2",
   "version": "2.7.14"
  }
 },
 "nbformat": 4,
 "nbformat_minor": 1
}
